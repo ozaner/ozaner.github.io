{
 "cells": [
  {
   "cell_type": "markdown",
   "metadata": {},
   "source": [
    "## Part 1: Implement SVMs via subgradient descent\n",
    "---\n",
    "- The SVM learning problem is a convex optimization problem. It is presented either in its primal or dual form. The primal form is one of norm minimization subject to constraints, while the dual is a quadratic programming problem that is typically solved with an off-the-shelf QP solver. As a result, most popular machine learning libraries (e.g., LIBSVM underneath sklearn) solve the dual. In this assignment, you will solve the primal using subgradient descent, both the simple linear version and a version that supports nonlinear kernels. That is, we will solve the following optimization problem (we're not using the bias weight $b$ below):\n",
    "\\begin{equation*}\n",
    "\t\\mathbf{w}^* = \\arg\\!\\min \\frac{\\lambda}{2} ||\\mathbf{w}||^2 + \\frac{1}{n} \\sum_{(\\mathbf{x}, y) \\in S} [\\, 1 -  y(\\mathbf{w} \\cdot \\mathbf{x}) \\,]_+\n",
    "\\end{equation*}\n",
    "where $ S $ is a train set of $ \\{(\\mathbf{x}_i, y_i)\\}_{i=1}^n $. We use SGD with batch size 1."
   ]
  },
  {
   "cell_type": "code",
   "execution_count": 114,
   "metadata": {},
   "outputs": [],
   "source": [
    "import csv\n",
    "import random\n",
    "import numpy as np\n",
    "import numpy.random as npr\n",
    "import matplotlib.cm as cm\n",
    "import matplotlib.pyplot as plt\n",
    "\n",
    "%matplotlib inline"
   ]
  },
  {
   "cell_type": "code",
   "execution_count": 115,
   "metadata": {},
   "outputs": [],
   "source": [
    "# set random seed for reproducibility\n",
    "def set_seed(seed):\n",
    "    random.seed(seed)\n",
    "    np.random.seed(seed)\n",
    "\n",
    "\n",
    "def plot_decision_countour(svm, X, y, grid_size=100):\n",
    "    x_min, x_max = X[:, 0].min(), X[:, 0].max()\n",
    "    y_min, y_max = X[:, 1].min(), X[:, 1].max()\n",
    "    xx, yy = np.meshgrid(\n",
    "        np.linspace(x_min, x_max, grid_size),\n",
    "        np.linspace(y_min, y_max, grid_size),\n",
    "        indexing=\"ij\",\n",
    "    )\n",
    "    data = np.stack([xx, yy], axis=2).reshape(-1, 2)\n",
    "    pred = svm.predict(data).reshape(xx.shape)\n",
    "    plt.contourf(\n",
    "        xx, yy, pred, cmap=cm.Paired, levels=[-0.001, 0.001], extend=\"both\", alpha=0.8\n",
    "    )\n",
    "    flatten = lambda m: np.array(m).reshape(\n",
    "        -1,\n",
    "    )\n",
    "    plt.scatter(flatten(X[:, 0]), flatten(X[:, 1]), c=flatten(y), cmap=cm.Paired)\n",
    "    plt.xlim(x_min, x_max)\n",
    "    plt.ylim(y_min, y_max)\n",
    "    plt.plot()\n",
    "\n",
    "\n",
    "def test_linear_SVM(svm, num_samples=500):\n",
    "    \"\"\"test linear svm\"\"\"\n",
    "    X = npr.random((num_samples, 2)) * 2 - 1\n",
    "    y = 2 * (X.sum(axis=1) > 0) - 1.0\n",
    "\n",
    "    svm.fit(X, y)\n",
    "    plot_decision_countour(svm, X, y)\n",
    "\n",
    "\n",
    "def test_rbf_SVM(svm, num_samples=500):\n",
    "    \"\"\"test rbf svm\"\"\"\n",
    "    X = npr.random((num_samples, 2)) * 2 - 1\n",
    "    y = 2 * ((X ** 2).sum(axis=1) - 0.5 > 0) - 1.0\n",
    "\n",
    "    svm.fit(X, y)\n",
    "    plot_decision_countour(svm, X, y)\n",
    "\n",
    "\n",
    "def compute_acc(model, X, y):\n",
    "    pred = model.predict(X)\n",
    "    size = len(y)\n",
    "    num_correct = (pred == y).sum()\n",
    "    acc = num_correct / float(size)\n",
    "    print(\"{} out of {} correct, acc {:.3f}\".format(num_correct, size, acc))"
   ]
  },
  {
   "cell_type": "markdown",
   "metadata": {},
   "source": [
    "## <font color=\"blue\">Coding 1: linear SVM</font>"
   ]
  },
  {
   "cell_type": "code",
   "execution_count": 116,
   "metadata": {},
   "outputs": [],
   "source": [
    "class LinearSVM():\n",
    "    def __init__(self, lamb=1, num_epochs=20):\n",
    "        \"\"\"initialize the svm\n",
    "\n",
    "        Args:\n",
    "            lamb: the lambda parameter. Since lambda is a reserved keyword we use lamb\n",
    "            num_epochs: number of epochs for training. T = data_size * num_epochs\n",
    "        \"\"\"\n",
    "        self.w = None\n",
    "        self.lamb = lamb\n",
    "        self.num_epochs = num_epochs\n",
    "\n",
    "    def fit(self, X, y):\n",
    "        \"\"\"Fit the model on the data\n",
    "\n",
    "        Args:\n",
    "            X: [N x d] data matrix\n",
    "            y: [N, ] array of labels\n",
    "\n",
    "        Returns:\n",
    "            self, in case you want to build a pipeline\n",
    "        \"\"\"\n",
    "        assert np.ndim(X) == 2, 'data matrix X expected to be 2d'\n",
    "        assert np.ndim(y) == 1, 'labels expected to be 1d'\n",
    "        N, d = X.shape\n",
    "        assert N == y.shape[0], 'expect [N, d] data matrix and [N] labels'\n",
    "        self.w = np.zeros(shape=(d,))\n",
    "        T = int(self.num_epochs * N)\n",
    "        lamb = self.lamb\n",
    "        for t in range(1, T + 1):\n",
    "            inx = npr.choice(N)\n",
    "            lr = 1 / (lamb * t)\n",
    "            x, lbl = X[inx], y[inx]\n",
    "            margin = lbl*self.predict(x) # YOUR CODE HERE for calculating labels multiplied by confidence margins (hint: you may want to use the predict function below)\n",
    "            if margin < 1:\n",
    "                self.w = self.w - (lamb*self.w - lbl*x) # YOUR CODE HERE for defining the weight update when margin < 1\n",
    "            else:\n",
    "                self.w = self.w - lamb*self.w # YOUR CODE HERE for defining the weight update when margin >= 1\n",
    "        print(\"fitting complete\")\n",
    "        return self\n",
    "\n",
    "    def predict(self, X, binarize=True):\n",
    "        \"\"\"make a prediction and return either the confidence margin or label\n",
    "\n",
    "        Args:\n",
    "            X: [N, d] array of data or [d,] single data point\n",
    "            binarize: if True, then return the label, else the confidence margin\n",
    "\n",
    "        Returns:\n",
    "            Either confidence margin or predicted label\n",
    "        \"\"\"\n",
    "        if self.w is None:\n",
    "            raise ValueError(\"go fit the data first\")\n",
    "        X = np.atleast_2d(X)\n",
    "        assert X.shape[1] == self.w.shape[0]\n",
    "        res = X.dot(self.w) # YOUR CODE HERE for computing confidence margins\n",
    "        res = res.squeeze()\n",
    "        if binarize:\n",
    "            return 2*(res > 0)-1 # YOUR CODE HERE for converting confidence margins to labels\n",
    "        else:\n",
    "            return res\n",
    "\n",
    "    def clone(self):\n",
    "        \"\"\"construct a fresh copy of myself\n",
    "        \"\"\"\n",
    "        return LinearSVM(self.lamb, self.num_epochs)"
   ]
  },
  {
   "cell_type": "markdown",
   "metadata": {},
   "source": [
    "## <font color=\"blue\">Question 3</font>\n",
    "run the test code for various hyperparameter values (which should generate figures)"
   ]
  },
  {
   "cell_type": "code",
   "execution_count": 117,
   "metadata": {},
   "outputs": [
    {
     "name": "stdout",
     "output_type": "stream",
     "text": [
      "fitting complete\n"
     ]
    },
    {
     "data": {
      "image/png": "[encoded data removed]",
      "text/plain": [
       "<Figure size 432x288 with 1 Axes>"
      ]
     },
     "metadata": {
      "needs_background": "light"
     },
     "output_type": "display_data"
    }
   ],
   "source": [
    "svm = LinearSVM(lamb=0.01, num_epochs=20)\n",
    "test_linear_SVM(svm)"
   ]
  },
  {
   "cell_type": "markdown",
   "metadata": {},
   "source": [
    "## <font color=\"blue\">Coding 2: kernel SVM</font>"
   ]
  },
  {
   "cell_type": "code",
   "execution_count": 118,
   "metadata": {},
   "outputs": [
    {
     "name": "stdout",
     "output_type": "stream",
     "text": [
      "[[ 3  4  5]\n",
      " [ 5  7  6]\n",
      " [ 7  9 29]\n",
      " [ 7  9 29]]\n",
      "[[ 2  5  6]\n",
      " [ 7  8  9]\n",
      " [ 0  3  9]\n",
      " [ 7  9 29]\n",
      " [ 7  9 29]]\n",
      "[[[  1  -1  -1]\n",
      "  [ -4  -4  -4]\n",
      "  [  3   1  -4]\n",
      "  [ -4  -5 -24]\n",
      "  [ -4  -5 -24]]\n",
      "\n",
      " [[  3   2   0]\n",
      "  [ -2  -1  -3]\n",
      "  [  5   4  -3]\n",
      "  [ -2  -2 -23]\n",
      "  [ -2  -2 -23]]\n",
      "\n",
      " [[  5   4  23]\n",
      "  [  0   1  20]\n",
      "  [  7   6  20]\n",
      "  [  0   0   0]\n",
      "  [  0   0   0]]\n",
      "\n",
      " [[  5   4  23]\n",
      "  [  0   1  20]\n",
      "  [  7   6  20]\n",
      "  [  0   0   0]\n",
      "  [  0   0   0]]]\n",
      "[[ 1.73205081  6.92820323  5.09901951 24.8394847  24.8394847 ]\n",
      " [ 3.60555128  3.74165739  7.07106781 23.17326045 23.17326045]\n",
      " [23.87467277 20.02498439 22.02271555  0.          0.        ]\n",
      " [23.87467277 20.02498439 22.02271555  0.          0.        ]]\n"
     ]
    }
   ],
   "source": [
    "L=np.array([[3,4,5],[5,7,6],[7,9,29],[7,9,29]])\n",
    "L2=np.array([[2,5,6],[7,8,9],[0,3,9],[7,9,29],[7,9,29]])\n",
    "print(L)\n",
    "print(L2)\n",
    "L=L[:,np.newaxis,:]\n",
    "print(L-L2)\n",
    "print(np.linalg.norm(L-L2,axis=2))"
   ]
  },
  {
   "cell_type": "code",
   "execution_count": 119,
   "metadata": {},
   "outputs": [],
   "source": [
    "class Kernel(object):\n",
    "    \"\"\"A class containing a few kernels.\n",
    "    \n",
    "    \n",
    "    Note that for each Kernel, the input comes in the form of \n",
    "    Args:\n",
    "        X: [M, d]\n",
    "        Y: [N, d]\n",
    "    Returns:\n",
    "        a matrix of shape [M, N] filled with kernel outputs\n",
    "    \"\"\"\n",
    "    @staticmethod\n",
    "    def linear():\n",
    "        def f(X, Y):\n",
    "            return X.dot(Y.T)\n",
    "        return f\n",
    "\n",
    "    @staticmethod\n",
    "    def gaussian(gamma):\n",
    "        def f(X, Y):\n",
    "            # insert a new axis so that we can vectorize (with broadcasting)\n",
    "            X = X[:, np.newaxis, :]\n",
    "            exponent = -gamma*np.linalg.norm(X-Y,axis=2) # YOUR CODE HERE\n",
    "            return np.exp(exponent)\n",
    "        return f\n",
    "\n",
    "    @staticmethod\n",
    "    def _poly(dimension, offset):\n",
    "        def f(X, Y):\n",
    "            return (offset + X.dot(Y.T)) ** dimension\n",
    "        return f\n",
    "\n",
    "    @staticmethod\n",
    "    def inhomogenous_polynomial(dimension):\n",
    "        return Kernel._poly(dimension=dimension, offset=1.0)\n",
    "\n",
    "    @staticmethod\n",
    "    def homogenous_polynomial(dimension):\n",
    "        return Kernel._poly(dimension=dimension, offset=0.0)\n",
    "\n",
    "    @staticmethod\n",
    "    def hyperbolic_tangent(kappa, c):\n",
    "        def f(X, Y):\n",
    "            return np.tanh(kappa * X.dot(Y.T) + c)\n",
    "        return f"
   ]
  },
  {
   "cell_type": "markdown",
   "metadata": {},
   "source": [
    "## <font color=\"blue\">Coding 2: kernel SVM</font>"
   ]
  },
  {
   "cell_type": "code",
   "execution_count": 141,
   "metadata": {},
   "outputs": [],
   "source": [
    "class KernelSVM():\n",
    "    def __init__(self, kernel, lamb=1, num_epochs=20):\n",
    "        \"\"\"initialize the kernel svm\n",
    "\n",
    "        Args:\n",
    "            kernel: a kernel function\n",
    "            lamb: the lambda parameter. Since lambda is a reserved keyword we use lamb\n",
    "            num_epochs: number of epochs for training. T = data_size * num_epochs\n",
    "        \"\"\"\n",
    "        self.num_epochs = num_epochs\n",
    "        self.lamb = lamb\n",
    "        assert callable(kernel), 'kernel should be a function'\n",
    "        self.kernel = kernel\n",
    "        self.repr_vec = None  # [K, d] of K (untransformed) representation vec\n",
    "        self.repr_vec_lbls = None  # [K,] for the labels of the repr vec\n",
    "        self.repr_vec_weights = None\n",
    "        self.t = 1  # current step index. used by predict\n",
    "\n",
    "    def fit(self, X, y):\n",
    "        \"\"\"Fit the model on the data\n",
    "\n",
    "        Args:\n",
    "            X: [N x d] data matrix\n",
    "            y: [N, ] array of labels\n",
    "\n",
    "        Returns:\n",
    "            self, in case you want to build a pipeline\n",
    "        \"\"\"\n",
    "        assert np.ndim(X) == 2, 'data matrix X expected to be 2d'\n",
    "        assert np.ndim(y) == 1, 'labels expected to be 1d'\n",
    "        N, d = X.shape\n",
    "        assert N == y.shape[0], 'expect [N, d] data matrix and [N] labels'\n",
    "        # initialize to dummies\n",
    "        self.repr_vec             = np.zeros(shape=(1, d))\n",
    "        self.repr_vec_lbls        = np.zeros(shape=(1,))\n",
    "        self.repr_vec_weights     = np.zeros(shape=(1,))\n",
    "\n",
    "        counts = np.zeros(shape=(N,))\n",
    "        T = int(self.num_epochs * N)\n",
    "        for t in range(1, T + 1):\n",
    "            self.t = t\n",
    "            inx = npr.choice(N)\n",
    "            x, lbl = X[inx], y[inx]\n",
    "            margin = lbl*self.predict(x)/(self.lamb*t) #YOUR CODE HERE\n",
    "            if margin < 1:\n",
    "                # update the counts\n",
    "                # YOUR CODE HERE\n",
    "                counts[inx] += 1\n",
    "\n",
    "                # update the representation vectors\n",
    "                self.repr_vec = X[counts > 0] # YOUR CODE HERE\n",
    "                self.repr_vec_weights = counts[counts > 0] # YOUR CODE HERE\n",
    "                self.repr_vec_lbls = y[counts > 0] # YOUR CODE HERE\n",
    "        print(\"fitting complete\")\n",
    "        return self\n",
    "\n",
    "    def predict(self, X, binarize=True):\n",
    "        \"\"\"make a prediction and return either the confidence margin or label\n",
    "\n",
    "        Args:\n",
    "            X: [N, d] array of data or [d,] single data point\n",
    "            binarize: if True, then return the label, else the confidence margin\n",
    "\n",
    "        Returns:\n",
    "            Either confidence margin or predicted label\n",
    "        \"\"\"\n",
    "        assert self.repr_vec is not None, 'go fit the data first'\n",
    "        X = np.atleast_2d(X)\n",
    "        if X.shape[0] > 50:\n",
    "            # we want to avoid vectorization when N is too large. Why?\n",
    "            # brave souls can try to remove this condition and see.\n",
    "            ker_output = np.hstack([\n",
    "                self.kernel(self.repr_vec, x.reshape(1, -1))\n",
    "                for x in X\n",
    "            ])\n",
    "        else:\n",
    "            ker_output = self.kernel(self.repr_vec, X)\n",
    "        res = (self.repr_vec_lbls*self.repr_vec_weights*ker_output.T).sum(axis=1) # YOUR CODE HERE\n",
    "        res = res.squeeze()\n",
    "        if binarize:\n",
    "            # get labels from results\n",
    "            lbls = 2*(res > 0)-1 # YOUR CODE HERE\n",
    "            return lbls\n",
    "        else:\n",
    "            return res\n",
    "\n",
    "    def clone(self):\n",
    "        \"\"\"construct a fresh copy of myself\n",
    "        \"\"\"\n",
    "        return KernelSVM(self.kernel, self.lamb, self.num_epochs)"
   ]
  },
  {
   "cell_type": "markdown",
   "metadata": {},
   "source": [
    "## <font color=\"blue\">Question 4</font>\n",
    "run the test code for various hyperparameter values (which should generate figures)"
   ]
  },
  {
   "cell_type": "code",
   "execution_count": 142,
   "metadata": {},
   "outputs": [
    {
     "name": "stdout",
     "output_type": "stream",
     "text": [
      "fitting complete\n"
     ]
    },
    {
     "data": {
      "image/png": "[encoded data removed]",
      "text/plain": [
       "<Figure size 432x288 with 1 Axes>"
      ]
     },
     "metadata": {
      "needs_background": "light"
     },
     "output_type": "display_data"
    }
   ],
   "source": [
    "svm = KernelSVM(Kernel.gaussian(gamma=0.5), lamb=1e-4, num_epochs=20)\n",
    "test_rbf_SVM(svm)"
   ]
  },
  {
   "cell_type": "markdown",
   "metadata": {},
   "source": [
    "## Part 2: Experiment with binary sentiment classification\n",
    "#### Now that our SVM is working on the toy dataset, let's do a simple sentiment analysis on [tweets on US airline service quality](https://www.kaggle.com/crowdflower/twitter-airline-sentiment/version/2). (WARNING: expletives unfiltered)\n",
    "---\n",
    "- As shown below, our data comes in the form of a csv table. The columns most relevant to our task are 'text' and 'airline_sentiment'.\n",
    "- Data must be represented as a [N x d] matrix, but what we have on our hands is unstructured text.\n",
    "- The simplest solution to transform an airline review into a vector is [bag of words](https://en.wikipedia.org/wiki/Bag-of-words_model). We maintain a global vocabulary of word patterns gathered from our corpus, with single words such as \"great\", \"horrible\", and optionally consecutive words (N-grams) like \"friendly service\", \"luggage lost\". Suppose we have already collected a total of 10000 such patterns, to transform a sentence into a 10000-dimensional vector, we simply scan it and look for the patterns that appear and set their correponding entries to 1 and leave the rest at 0. What we end up with is a sparse vector that can be fed into SVMs.\n",
    "- For this exercise we use the basic text processing routines in nltk and sklearn.\n",
    "- Our data is not balanced, with significantly more negatives than neutral + positives. Therefore we group neutral and positive into one category and the final ratio of non-negative vs negative is about 1:2. This is consistent across train, val, and devtest."
   ]
  },
  {
   "cell_type": "code",
   "execution_count": 148,
   "metadata": {},
   "outputs": [
    {
     "name": "stderr",
     "output_type": "stream",
     "text": [
      "[nltk_data] Downloading package stopwords to C:\\Users\\Ozaner\n",
      "[nltk_data]     Hansha\\AppData\\Roaming\\nltk_data...\n",
      "[nltk_data]   Unzipping corpora\\stopwords.zip.\n",
      "[nltk_data] Downloading package punkt to C:\\Users\\Ozaner\n",
      "[nltk_data]     Hansha\\AppData\\Roaming\\nltk_data...\n",
      "[nltk_data]   Unzipping tokenizers\\punkt.zip.\n",
      "[nltk_data] Downloading package wordnet to C:\\Users\\Ozaner\n",
      "[nltk_data]     Hansha\\AppData\\Roaming\\nltk_data...\n",
      "[nltk_data]   Unzipping corpora\\wordnet.zip.\n"
     ]
    },
    {
     "data": {
      "text/plain": [
       "True"
      ]
     },
     "execution_count": 148,
     "metadata": {},
     "output_type": "execute_result"
    }
   ],
   "source": [
    "import os.path as osp\n",
    "import pandas as pd\n",
    "import re, nltk\n",
    "from nltk.stem import WordNetLemmatizer\n",
    "from nltk.corpus import stopwords\n",
    "from sklearn.feature_extraction.text import CountVectorizer\n",
    "\n",
    "nltk.download(\"stopwords\")\n",
    "nltk.download(\"punkt\")\n",
    "nltk.download(\"wordnet\")"
   ]
  },
  {
   "cell_type": "code",
   "execution_count": 149,
   "metadata": {},
   "outputs": [],
   "source": [
    "# check these out\n",
    "stop_words = set(stopwords.words(\"english\"))\n",
    "wordnet_lemmatizer = WordNetLemmatizer()\n",
    "\n",
    "\n",
    "def tokenize_normalize(tweet):\n",
    "    only_letters = re.sub(\"[^a-zA-Z]\", \" \", tweet)\n",
    "    tokens = nltk.word_tokenize(only_letters)[2:]\n",
    "    lower_case = [l.lower() for l in tokens]\n",
    "    filtered_result = list(filter(lambda l: l not in stop_words, lower_case))\n",
    "    lemmas = [wordnet_lemmatizer.lemmatize(t) for t in filtered_result]\n",
    "    return lemmas"
   ]
  },
  {
   "cell_type": "markdown",
   "metadata": {},
   "source": [
    "### Data Preprocessing"
   ]
  },
  {
   "cell_type": "code",
   "execution_count": 150,
   "metadata": {},
   "outputs": [
    {
     "name": "stdout",
     "output_type": "stream",
     "text": [
      "negative    5905\n",
      "neutral     1804\n",
      "positive    1442\n",
      "Name: airline_sentiment, dtype: int64\n"
     ]
    },
    {
     "data": {
      "text/html": [
       "<div>\n",
       "<style scoped>\n",
       "    .dataframe tbody tr th:only-of-type {\n",
       "        vertical-align: middle;\n",
       "    }\n",
       "\n",
       "    .dataframe tbody tr th {\n",
       "        vertical-align: top;\n",
       "    }\n",
       "\n",
       "    .dataframe thead th {\n",
       "        text-align: right;\n",
       "    }\n",
       "</style>\n",
       "<table border=\"1\" class=\"dataframe\">\n",
       "  <thead>\n",
       "    <tr style=\"text-align: right;\">\n",
       "      <th></th>\n",
       "      <th>Unnamed: 0</th>\n",
       "      <th>tweet_id</th>\n",
       "      <th>airline_sentiment</th>\n",
       "      <th>airline_sentiment_confidence</th>\n",
       "      <th>negativereason</th>\n",
       "      <th>negativereason_confidence</th>\n",
       "      <th>airline</th>\n",
       "      <th>airline_sentiment_gold</th>\n",
       "      <th>name</th>\n",
       "      <th>negativereason_gold</th>\n",
       "      <th>retweet_count</th>\n",
       "      <th>text</th>\n",
       "      <th>tweet_coord</th>\n",
       "      <th>tweet_created</th>\n",
       "      <th>tweet_location</th>\n",
       "      <th>user_timezone</th>\n",
       "    </tr>\n",
       "  </thead>\n",
       "  <tbody>\n",
       "    <tr>\n",
       "      <th>0</th>\n",
       "      <td>3816</td>\n",
       "      <td>568103618500530176</td>\n",
       "      <td>neutral</td>\n",
       "      <td>1.0</td>\n",
       "      <td>NaN</td>\n",
       "      <td>NaN</td>\n",
       "      <td>United</td>\n",
       "      <td>NaN</td>\n",
       "      <td>willyvideo</td>\n",
       "      <td>NaN</td>\n",
       "      <td>0</td>\n",
       "      <td>@united #sfo #ClearVision #TV4U @ United Termi...</td>\n",
       "      <td>[37.62006843, -122.38822083]</td>\n",
       "      <td>2015-02-18 09:43:52 -0800</td>\n",
       "      <td>NaN</td>\n",
       "      <td>Pacific Time (US &amp; Canada)</td>\n",
       "    </tr>\n",
       "    <tr>\n",
       "      <th>1</th>\n",
       "      <td>10306</td>\n",
       "      <td>569379979055796224</td>\n",
       "      <td>negative</td>\n",
       "      <td>1.0</td>\n",
       "      <td>Customer Service Issue</td>\n",
       "      <td>0.6465</td>\n",
       "      <td>US Airways</td>\n",
       "      <td>NaN</td>\n",
       "      <td>PhilHagen</td>\n",
       "      <td>NaN</td>\n",
       "      <td>1</td>\n",
       "      <td>@USAirways yes, i am as well.  **FIVE** HOURS ...</td>\n",
       "      <td>NaN</td>\n",
       "      <td>2015-02-21 22:15:40 -0800</td>\n",
       "      <td>Lewes, DE, USA</td>\n",
       "      <td>Eastern Time (US &amp; Canada)</td>\n",
       "    </tr>\n",
       "    <tr>\n",
       "      <th>2</th>\n",
       "      <td>292</td>\n",
       "      <td>568840724700995584</td>\n",
       "      <td>negative</td>\n",
       "      <td>1.0</td>\n",
       "      <td>Flight Booking Problems</td>\n",
       "      <td>0.3895</td>\n",
       "      <td>Virgin America</td>\n",
       "      <td>NaN</td>\n",
       "      <td>notthatnathan</td>\n",
       "      <td>NaN</td>\n",
       "      <td>0</td>\n",
       "      <td>@VirginAmerica Funny story, your website is br...</td>\n",
       "      <td>NaN</td>\n",
       "      <td>2015-02-20 10:32:51 -0800</td>\n",
       "      <td>Portland, Maine</td>\n",
       "      <td>Eastern Time (US &amp; Canada)</td>\n",
       "    </tr>\n",
       "  </tbody>\n",
       "</table>\n",
       "</div>"
      ],
      "text/plain": [
       "   Unnamed: 0            tweet_id airline_sentiment  \\\n",
       "0        3816  568103618500530176           neutral   \n",
       "1       10306  569379979055796224          negative   \n",
       "2         292  568840724700995584          negative   \n",
       "\n",
       "   airline_sentiment_confidence           negativereason  \\\n",
       "0                           1.0                      NaN   \n",
       "1                           1.0   Customer Service Issue   \n",
       "2                           1.0  Flight Booking Problems   \n",
       "\n",
       "   negativereason_confidence         airline airline_sentiment_gold  \\\n",
       "0                        NaN          United                    NaN   \n",
       "1                     0.6465      US Airways                    NaN   \n",
       "2                     0.3895  Virgin America                    NaN   \n",
       "\n",
       "            name negativereason_gold  retweet_count  \\\n",
       "0     willyvideo                 NaN              0   \n",
       "1      PhilHagen                 NaN              1   \n",
       "2  notthatnathan                 NaN              0   \n",
       "\n",
       "                                                text  \\\n",
       "0  @united #sfo #ClearVision #TV4U @ United Termi...   \n",
       "1  @USAirways yes, i am as well.  **FIVE** HOURS ...   \n",
       "2  @VirginAmerica Funny story, your website is br...   \n",
       "\n",
       "                    tweet_coord              tweet_created   tweet_location  \\\n",
       "0  [37.62006843, -122.38822083]  2015-02-18 09:43:52 -0800              NaN   \n",
       "1                           NaN  2015-02-21 22:15:40 -0800   Lewes, DE, USA   \n",
       "2                           NaN  2015-02-20 10:32:51 -0800  Portland, Maine   \n",
       "\n",
       "                user_timezone  \n",
       "0  Pacific Time (US & Canada)  \n",
       "1  Eastern Time (US & Canada)  \n",
       "2  Eastern Time (US & Canada)  "
      ]
     },
     "execution_count": 150,
     "metadata": {},
     "output_type": "execute_result"
    }
   ],
   "source": [
    "data_root = \"pset3-data\"\n",
    "train, val, test = (\n",
    "    pd.read_csv(osp.join(data_root, \"train.csv\")),\n",
    "    pd.read_csv(osp.join(data_root, \"val.csv\")),\n",
    "    pd.read_csv(osp.join(data_root, \"devtest.csv\")),\n",
    ")\n",
    "print(train.airline_sentiment.value_counts())\n",
    "train.head(3)"
   ]
  },
  {
   "cell_type": "code",
   "execution_count": 151,
   "metadata": {},
   "outputs": [
    {
     "name": "stderr",
     "output_type": "stream",
     "text": [
      "c:\\users\\ozaner hansha\\appdata\\local\\programs\\python\\python36\\lib\\site-packages\\sklearn\\feature_extraction\\text.py:484: UserWarning: The parameter 'token_pattern' will not be used since 'tokenizer' is not None'\n",
      "  warnings.warn(\"The parameter 'token_pattern' will not be used\"\n"
     ]
    },
    {
     "name": "stdout",
     "output_type": "stream",
     "text": [
      "[('clearvision', 1531), ('tv', 9169), ('u', 9210), ('united', 9315), ('terminal', 8765), ('sfo', 7920), ('airport', 209), ('http', 4111), ('co', 1582), ('q', 7009)]\n",
      "\n",
      "vocabulary size: 10250\n"
     ]
    }
   ],
   "source": [
    "# the sklearn vectorizer scans our corpus, builds the vocabulary, and changes text into vectors\n",
    "vectorizer = CountVectorizer(\n",
    "    strip_accents=\"unicode\",\n",
    "    lowercase=True,\n",
    "    tokenizer=tokenize_normalize,\n",
    "    min_df=1,\n",
    "    ngram_range=(\n",
    "        1,\n",
    "        1,\n",
    "    ),  # you may want to try 2 grams. The vocab will get very large though\n",
    ")\n",
    "# first learn the vocabulary\n",
    "vectorizer.fit(pd.concat([train, val, test]).text)\n",
    "\n",
    "# take a peek at the vocabulary learnt. We have the terms and the counts\n",
    "print(list(vectorizer.vocabulary_.items())[:10])\n",
    "print(f\"\\nvocabulary size: {len(vectorizer.vocabulary_)}\")"
   ]
  },
  {
   "cell_type": "code",
   "execution_count": 152,
   "metadata": {},
   "outputs": [
    {
     "name": "stdout",
     "output_type": "stream",
     "text": [
      "(9151, 10250)\n"
     ]
    }
   ],
   "source": [
    "X = {}\n",
    "y = {}\n",
    "X[\"train\"] = vectorizer.transform(train.text).toarray()\n",
    "X[\"val\"] = vectorizer.transform(val.text).toarray()\n",
    "X[\"test\"] = vectorizer.transform(test.text).toarray()\n",
    "\n",
    "# note that our data is 10250 dimensional.\n",
    "# This is a little daunting for laptops and coming up with a manageable vector representation is a major topic in Natural Language Processing.\n",
    "print(X[\"train\"].shape)\n",
    "\n",
    "# convert the word labels of 'positive', 'neutral', 'negative' into integer labels\n",
    "# note that positive and neutral belong to one category, labeled as 1, while negative stands alone as the other\n",
    "for name, dataframe in zip([\"train\", \"val\", \"test\"], [train, val, test]):\n",
    "    sentiments_in_words = dataframe[\"airline_sentiment\"].tolist()\n",
    "    int_lbls = np.array(\n",
    "        list(map(lambda x: -1 if x == \"negative\" else 1, sentiments_in_words)),\n",
    "        dtype=np.int32,\n",
    "    )\n",
    "    y[name] = int_lbls"
   ]
  },
  {
   "cell_type": "markdown",
   "metadata": {},
   "source": [
    "### Experiment\n",
    "- Play around with different parameter settings and find the best setting on the validation set, then evaluate on the devtest set when you're finished tuning.\n",
    "\n",
    "- (Optional) Try to come up with a better text feature representation. We threw out all the emojis. >_< what a waste"
   ]
  },
  {
   "cell_type": "code",
   "execution_count": 165,
   "metadata": {},
   "outputs": [
    {
     "name": "stdout",
     "output_type": "stream",
     "text": [
      "fitting complete\n",
      "8507 out of 9151 correct, acc 0.930\n",
      "797 out of 1016 correct, acc 0.784\n"
     ]
    }
   ],
   "source": [
    "seed = 0\n",
    "set_seed(seed)\n",
    "\n",
    "\n",
    "# svm = LinearSVM(lamb=1e-4, num_epochs=20) #.735\n",
    "# svm = LinearSVM(lamb=1e-5, num_epochs=20) #.757\n",
    "# svm = LinearSVM(lamb=1e-6, num_epochs=20) #.763\n",
    "svm = LinearSVM(lamb=2e-6, num_epochs=30) #.784\n",
    "\n",
    "# train\n",
    "svm.fit(X[\"train\"], y[\"train\"])\n",
    "compute_acc(svm, X[\"train\"], y[\"train\"])\n",
    "# validation\n",
    "compute_acc(svm, X[\"val\"], y[\"val\"])"
   ]
  },
  {
   "cell_type": "code",
   "execution_count": 163,
   "metadata": {},
   "outputs": [
    {
     "name": "stdout",
     "output_type": "stream",
     "text": [
      "739 out of 984 correct, acc 0.751\n"
     ]
    }
   ],
   "source": [
    "# development-test\n",
    "compute_acc(svm, X[\"test\"], y[\"test\"])"
   ]
  },
  {
   "cell_type": "markdown",
   "metadata": {
    "collapsed": true
   },
   "source": [
    "---\n",
    "## <font color=\"red\">Question 5.1</font>\n",
    "- Experiment with the basic linear SVM classifier; feel free to experiment with hyperparameters (training duration, regularization)\n",
    "- (Optional) Experiment with kernel SVM: Given the high feature dimensionality of our primitive text processing, we do not recommend using kernel SVM here. It could take a long time to train. If you reduce the feature dimensionality, then it's a different story\n",
    "- What is your best $\\textit{val}$ performance? What hyperparameter values lead to that?\n",
    "\n",
    "## <font color=\"red\">Answer</font>\n",
    "My best val performance was with `lamb=2e-6` and `num-epochs=30`. This model had a $.784$ accuracy on the validation set.\n"
   ]
  },
  {
   "cell_type": "markdown",
   "metadata": {},
   "source": [
    "---\n",
    "## <font color=\"red\">Question 5.2</font>\n",
    "Report your final $\\textit{devtest}$ results, using your single best model.<br> Do you see a large gap between the $\\textit{val}$ and $\\textit{devtest}$ accuracies?\n",
    "\n",
    "## <font color=\"red\">Answer</font>\n",
    "\n",
    "Using the model I found by fine-tuning on the val set, I got a $.751$ accuracy on the dev test. This is about a $3.3\\%$ difference in accuracy. It's not that large of a difference considering the problem at hand. It's clear that the model did *not* overfit considerably on the test data."
   ]
  }
 ],
 "metadata": {
  "kernelspec": {
   "display_name": "Python 3",
   "language": "python",
   "name": "python3"
  },
  "language_info": {
   "codemirror_mode": {
    "name": "ipython",
    "version": 3
   },
   "file_extension": ".py",
   "mimetype": "text/x-python",
   "name": "python",
   "nbconvert_exporter": "python",
   "pygments_lexer": "ipython3",
   "version": "3.6.8"
  }
 },
 "nbformat": 4,
 "nbformat_minor": 2
}
