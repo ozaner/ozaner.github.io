{
 "cells": [
  {
   "cell_type": "markdown",
   "metadata": {},
   "source": [
    "Learning Gaussian Mixture Models with Expectation-Maximization\n",
    "---\n",
    "\n",
    "In this notebook you will implement the **EM algorithm** to train **mixtures of Gaussians**, with the goal of performing classification on the **Fashion MNIST dataset**. Fashion MNIST is composed of 28 x 28 grayscale images, split into 50,000 training and 10,000 validation images."
   ]
  },
  {
   "cell_type": "code",
   "execution_count": 1,
   "metadata": {},
   "outputs": [],
   "source": [
    "from __future__ import division\n",
    "\n",
    "import time\n",
    "import scipy\n",
    "from scipy.special import logsumexp  # to deal with potential overflow issues\n",
    "import matplotlib as mpl\n",
    "import numpy as np\n",
    "import matplotlib.pyplot as plt\n",
    "import csv\n",
    "from skimage.transform import resize\n",
    "import random\n",
    "\n",
    "%matplotlib inline"
   ]
  },
  {
   "cell_type": "code",
   "execution_count": 2,
   "metadata": {},
   "outputs": [],
   "source": [
    "# set random seed for reproducibility\n",
    "def set_seed(seed):\n",
    "    random.seed(seed)\n",
    "    np.random.seed(seed)\n",
    "\n",
    "\n",
    "def showImage(image, ax=None):\n",
    "    \"\"\"\n",
    "    Render a given numpy.uint8 2D array of pixel data.\n",
    "    \"\"\"\n",
    "    if len(image.shape) > 1:\n",
    "        n = image.shape[0]\n",
    "    else:\n",
    "        n = int(np.sqrt(image.shape[0]))\n",
    "        image = image[-(n ** 2) :]\n",
    "        image = image.reshape(n, n)\n",
    "\n",
    "    if ax == None:\n",
    "        fig = plt.figure()\n",
    "        ax = fig.add_subplot(1, 1, 1)\n",
    "    imgplot = ax.imshow(image, cmap=mpl.cm.Greys)\n",
    "    imgplot.set_interpolation(\"nearest\")\n",
    "    ax.xaxis.set_ticks_position(\"top\")\n",
    "    ax.yaxis.set_ticks_position(\"left\")\n",
    "    plt.axis(\"off\")"
   ]
  },
  {
   "cell_type": "markdown",
   "metadata": {},
   "source": [
    "## Data: preprocess"
   ]
  },
  {
   "cell_type": "code",
   "execution_count": 3,
   "metadata": {},
   "outputs": [],
   "source": [
    "class_names = [\n",
    "    \"tshirt/top\",\n",
    "    \"trouser\",\n",
    "    \"pullover\",\n",
    "    \"dress\",\n",
    "    \"coat\",\n",
    "    \"sandal\",\n",
    "    \"shirt\",\n",
    "    \"sneaker\",\n",
    "    \"bag\",\n",
    "    \"ankle boot\",\n",
    "]\n",
    "\n",
    "\n",
    "def read_fMNIST(dataset=\"training\", dim=16):\n",
    "    \"\"\"\n",
    "    reading in the \"Fashion MNIST\" data\n",
    "    this function allows specification of the part to be read (training/validation)\n",
    "    Dimension: dim specifies the target image dimension (default is to reduce images to 16x16)\n",
    "    \"\"\"\n",
    "\n",
    "    # Figure out the name of the file to load\n",
    "    if dataset.lower() == \"training\":\n",
    "        file_name_suffix = \"Tr\"\n",
    "\n",
    "    elif dataset.lower() == \"validation\":\n",
    "        file_name_suffix = \"Vl\"\n",
    "\n",
    "    else:\n",
    "        print(\"dataset must be 'validation' or 'training'\")\n",
    "        raise ValueError\n",
    "\n",
    "    # Load the appropriate files\n",
    "    X = np.load(\"pset5-data/x\" + file_name_suffix + \".npy\")\n",
    "    y = np.load(\"pset5-data/y\" + file_name_suffix + \".npy\")\n",
    "\n",
    "    X = reduceImg(X, dim)\n",
    "\n",
    "    # Return the data\n",
    "    return X, y\n",
    "\n",
    "\n",
    "def reduceImg(X, dnew):\n",
    "    # image size in X is hardcoded = 28 (not best practice!)\n",
    "    xNew = np.zeros((X.shape[0], dnew * dnew))\n",
    "    for i in range(X.shape[0]):\n",
    "        xNew[i] = resize(X[i].reshape(28, 28), (dnew, dnew), mode=\"constant\").flatten()\n",
    "    return xNew"
   ]
  },
  {
   "cell_type": "code",
   "execution_count": 4,
   "metadata": {
    "scrolled": false
   },
   "outputs": [
    {
     "name": "stdout",
     "output_type": "stream",
     "text": [
      "(50000, 256) (10000, 256)\n"
     ]
    }
   ],
   "source": [
    "# Load training data\n",
    "xTrain, yTrain = read_fMNIST(\"training\")\n",
    "# Load validation data\n",
    "xVal, yVal = read_fMNIST(\"validation\")\n",
    "\n",
    "# scale pixel values to [0,1] to make things better-behaved numerically\n",
    "if xTrain[0].max() > 1:\n",
    "    print(\"normalizing...\")\n",
    "    xTrain = xTrain / 255\n",
    "    xVal = xVal / 255\n",
    "\n",
    "print(xTrain.shape, xVal.shape)"
   ]
  },
  {
   "cell_type": "code",
   "execution_count": 5,
   "metadata": {},
   "outputs": [
    {
     "data": {
      "image/png": "[encoded data removed]",
      "text/plain": [
       "<Figure size 432x288 with 10 Axes>"
      ]
     },
     "metadata": {
      "needs_background": "light"
     },
     "output_type": "display_data"
    }
   ],
   "source": [
    "for c in range(10):\n",
    "    ax = plt.subplot(2, 5, c + 1)\n",
    "    ax.clear()\n",
    "    idx = np.argmax(np.argmax(yTrain, axis=1) == c)\n",
    "    showImage(xTrain[idx], ax)\n",
    "    ax.set_title(class_names[c])"
   ]
  },
  {
   "cell_type": "markdown",
   "metadata": {},
   "source": [
    "## Model: GMM with EM"
   ]
  },
  {
   "cell_type": "markdown",
   "metadata": {},
   "source": [
    "## <font color=blue>Code 1</font>\n",
    "function `__init__`, `EStep`, `MStep`"
   ]
  },
  {
   "cell_type": "code",
   "execution_count": 18,
   "metadata": {},
   "outputs": [],
   "source": [
    "class GaussianMixtureModel(object):\n",
    "    \"\"\"Gaussian Mixture Model\"\"\"\n",
    "\n",
    "    def __init__(self, X, num_comp, max_iter=50, eps=10 ** (-4), cov_type=\"diag\"):\n",
    "        \"\"\"Initialize the GMM model.\n",
    "        num_feat: Feature dimension of our data\n",
    "        num_comp: Number of components to fit in the mixture model.\n",
    "        max_iter: Maximum number of EM iterations.\n",
    "        cov_type: Type of covariance matrix used by multivariate Gaussian models ('diag': diagonal, otherwise full)\n",
    "        \"\"\"\n",
    "        N, self.nf = X.shape\n",
    "        self.nc = num_comp\n",
    "        self.max_iter = max_iter\n",
    "        self.eps = eps\n",
    "        self.cov_type = cov_type\n",
    "\n",
    "        # Initialization: feel free to improve this.\n",
    "        # Note that we are passing the data X so you can use it to try smarter init strategies\n",
    "\n",
    "        # initialize the parameters\n",
    "        self.pi = np.repeat(1.0/self.nc, self.nc) # add your code to initialize the mixing probabilities\n",
    "        self.mu = np.random.uniform(0,1,((self.nc,self.nf))) # add your code to initialize the means for each component\n",
    "        self.sigma = np.zeros((self.nc,self.nf,self.nf)) # add your code to initialize the covariance for each component\n",
    "        for c in range(self.nc):\n",
    "            self.sigma[c]=np.eye(self.nf)\n",
    "\n",
    "\n",
    "    def Estep(self, X):\n",
    "        \"\"\"Update the soft weights and calculate likelihood in the process.\"\"\"\n",
    "        log_gamma = np.zeros((X.shape[0], self.nc))\n",
    "        log_pi = np.log(self.pi)\n",
    "        for comp in range(self.nc):\n",
    "\n",
    "            # put here code you need to compute log_gamma as explained below; everything else will follow\n",
    "            sh = X - self.mu[comp]\n",
    "            rp = sh.dot(np.linalg.inv(self.sigma[comp]))\n",
    "            exp_power = np.sum(sh * rp, axis=1)\n",
    "            log_gamma[:, comp] = log_pi[comp] - 0.5*(exp_power + np.linalg.slogdet(2*np.pi*self.sigma[comp])[1]) # this is the unnormalized value of responsibilities, i.e., log ( pi_c*p(x|c) )\n",
    "\n",
    "\n",
    "        # now you can use the values of log_gamma to calculate log-likelihood, responsibilities, etc\n",
    "        log_prob_per_instance = logsumexp(log_gamma, axis=1, keepdims=True)\n",
    "        log_likelihood = np.mean(log_prob_per_instance)\n",
    "        gamma = np.exp(log_gamma - log_prob_per_instance)\n",
    "        return gamma, log_likelihood, log_prob_per_instance\n",
    "\n",
    "    def Mstep(self, X, gamma):\n",
    "        \"\"\"Update the model params given the soft weights.\"\"\"\n",
    "        # Calculate unnormalized pi with epsilon added to avoid cases where a component gets no instances\n",
    "        unnorm_pi = np.sum(gamma, axis=0) + self.eps  # shape = (nc,);\n",
    "        # Update the overall soft assignments to different components\n",
    "        self.pi = unnorm_pi / np.sum(unnorm_pi)\n",
    "\n",
    "        for comp in range(self.nc):\n",
    "            # Scale the different instances by the soft weight for the current component\n",
    "            resp_data = np.dot(np.diag(gamma[:, comp]), X)\n",
    "            # Normalize the responsible data by total soft weight to get mean\n",
    "            self.mu[comp] = np.sum(resp_data, axis=0) / unnorm_pi[comp]\n",
    "\n",
    "            shift_data = X - self.mu[comp]  # x - mu\n",
    "            # Captures the multiplication of gamma in covariance calculation\n",
    "            resp_scaled_shift_data = np.dot(np.diag(gamma[:, comp]), shift_data)\n",
    "\n",
    "            if self.cov_type == 'diag':\n",
    "                # assume that the covariance matrices are diagonal\n",
    "                # remember to guard against collapse (sigmas too close to zero)\n",
    "                self.sigma[comp] = np.sum(resp_scaled_shift_data * shift_data, axis=0)\n",
    "                self.sigma[comp] = self.sigma[comp]/unnorm_pi[comp] + np.eye(self.nf)*self.eps\n",
    "            else:\n",
    "                # do the full rank covariance matrix calculation\n",
    "                # here, too, you need to consider some protection against collapsing covariance matrices\n",
    "                self.sigma[comp] = resp_scaled_shift_data.transpose().dot(shift_data)\n",
    "                self.sigma[comp] = self.sigma[comp]/unnorm_pi[comp] + np.eye(self.nf)*self.eps\n",
    "\n",
    "\n",
    "    def train(self, X, verbose=\"final\"):\n",
    "        \"\"\"Train the model using EM.\"\"\"\n",
    "        prev_likelihood = -np.inf  # Keep track of previous log likelihood\n",
    "        gamma, log_likelihood, _ = self.Estep(X)\n",
    "        for i in range(self.max_iter):\n",
    "            self.Mstep(X, gamma)  # M-step\n",
    "            gamma, log_likelihood, _ = self.Estep(X)\n",
    "            if np.isclose(log_likelihood, prev_likelihood):\n",
    "                # Convergence = no significant increase in likelihood after an iteration.\n",
    "                # Feel free to try other stopping criteria\n",
    "                break\n",
    "            else:\n",
    "                prev_likelihood = log_likelihood\n",
    "            if verbose == \"iter\":\n",
    "                print(f\"   Iteration: {i}, log-likelihood: {log_likelihood:.4f}\")\n",
    "\n",
    "        if verbose == \"final\":\n",
    "            print(f\"   Iteration: {i} (final), log-likelihood: {log_likelihood:.4f}\")\n",
    "\n",
    "    def trainFast(self, X, verbose=\"final\", rs=[0.03, 0.1, 0.3, 1]):\n",
    "        \"\"\"\n",
    "        Train the model using EM, gradually fitting larger portion of the data\n",
    "        rs specifies the fractions of the full data set size to use\n",
    "        Note: by making the last elements of rs less than 1 you can effectively train on a subset of data\n",
    "        (examples past the first r*X.shape[0] won't be seen at all)\n",
    "        \"\"\"\n",
    "        for r in rs:\n",
    "            self.train(X[0 : int(np.floor(X.shape[0] * r))], verbose=\"final\")"
   ]
  },
  {
   "cell_type": "code",
   "execution_count": 19,
   "metadata": {},
   "outputs": [],
   "source": [
    "# organize data by class\n",
    "classData = dict()\n",
    "for y in range(10):\n",
    "    classData[y] = xTrain[np.argmax(yTrain, axis=1) == y]"
   ]
  },
  {
   "cell_type": "markdown",
   "metadata": {},
   "source": [
    "## Evaluation\n",
    "quantatative: accuracy; qualitative: visualization"
   ]
  },
  {
   "cell_type": "markdown",
   "metadata": {},
   "source": [
    "## <font color=blue>Code 2</font>\n",
    "function `get_accuracy`"
   ]
  },
  {
   "cell_type": "code",
   "execution_count": 20,
   "metadata": {},
   "outputs": [],
   "source": [
    "def get_accuracy(models, X, y):\n",
    "    \"\"\"\n",
    "    Compute accuracy of the GMM generative classifier on (X,y).\n",
    "    model[c] is the GMM for class c\n",
    "    Returns (acc, yhat) where yhat are the predictions (in label form)\n",
    "    \"\"\"\n",
    "    total_data = 0.0\n",
    "    correct = 0.0\n",
    "    C = len(models)\n",
    "    N = X.shape[0]\n",
    "    logLik = np.zeros((N, C))\n",
    "\n",
    "    for c in range(C):\n",
    "        _,_, ll_class = models[c].Estep(X)\n",
    "        logLik[:,c] = np.squeeze(ll_class) # add code here to compute the log-likelihood per sample for class c\n",
    "    yhat = np.argmax(logLik,axis=1) # add code to compute predictions\n",
    "\n",
    "    acc = np.mean(yhat == np.argmax(y, axis=1))\n",
    "    return acc, yhat"
   ]
  },
  {
   "cell_type": "code",
   "execution_count": 21,
   "metadata": {},
   "outputs": [],
   "source": [
    "def showMeans(gmmModels, c, handles=False):\n",
    "    \"\"\"\n",
    "    Display means for Gaussian components of gmmModels for class c\n",
    "    \"\"\"\n",
    "    k = gmmModels[c].nc\n",
    "    fig, axes = plt.subplots(1, k)\n",
    "\n",
    "    for j in range(k):\n",
    "        if k == 1:\n",
    "            ax = axes\n",
    "        else:\n",
    "            ax = axes[j]\n",
    "        showImage(gmmModels[c].mu[j], ax)\n",
    "        ax.axis(\"off\")\n",
    "        if j == 0:\n",
    "            ax.set_title(class_names[c] + \"/\" + str(j))\n",
    "        else:\n",
    "            ax.set_title(\"/\" + str(j))\n",
    "    if handles:\n",
    "        return fig, axes"
   ]
  },
  {
   "cell_type": "markdown",
   "metadata": {},
   "source": [
    "## Experiment 1: GMM with diagonal covariance matrix"
   ]
  },
  {
   "cell_type": "code",
   "execution_count": 22,
   "metadata": {
    "scrolled": true
   },
   "outputs": [
    {
     "name": "stdout",
     "output_type": "stream",
     "text": [
      "   Iteration: 1 (final), log-likelihood: 25.3441\n",
      "================ class 0(tshirt/top), mixture of 1 diag Gaussians\n",
      "   Iteration: 1 (final), log-likelihood: 33.6805\n",
      "================ class 1(trouser), mixture of 1 diag Gaussians\n",
      "   Iteration: 1 (final), log-likelihood: 21.6420\n",
      "================ class 2(pullover), mixture of 1 diag Gaussians\n",
      "   Iteration: 1 (final), log-likelihood: 27.2816\n",
      "================ class 3(dress), mixture of 1 diag Gaussians\n",
      "   Iteration: 1 (final), log-likelihood: 20.5264\n",
      "================ class 4(coat), mixture of 1 diag Gaussians\n",
      "   Iteration: 1 (final), log-likelihood: 14.4172\n",
      "================ class 5(sandal), mixture of 1 diag Gaussians\n",
      "   Iteration: 1 (final), log-likelihood: 19.7654\n",
      "================ class 6(shirt), mixture of 1 diag Gaussians\n",
      "   Iteration: 1 (final), log-likelihood: 33.8118\n",
      "================ class 7(sneaker), mixture of 1 diag Gaussians\n",
      "   Iteration: 1 (final), log-likelihood: -8.1486\n",
      "================ class 8(bag), mixture of 1 diag Gaussians\n",
      "   Iteration: 1 (final), log-likelihood: 14.2545\n",
      "================ class 9(ankle boot), mixture of 1 diag Gaussians\n",
      "GMM-diag (1) accuracy:  0.6883  [ 0.6890 on train]\n"
     ]
    },
    {
     "data": {
      "image/png": "[encoded data removed]",
      "text/plain": [
       "<Figure size 432x288 with 1 Axes>"
      ]
     },
     "metadata": {
      "needs_background": "light"
     },
     "output_type": "display_data"
    },
    {
     "data": {
      "image/png": "[encoded data removed]",
      "text/plain": [
       "<Figure size 432x288 with 1 Axes>"
      ]
     },
     "metadata": {
      "needs_background": "light"
     },
     "output_type": "display_data"
    },
    {
     "data": {
      "image/png": "[encoded data removed]",
      "text/plain": [
       "<Figure size 432x288 with 1 Axes>"
      ]
     },
     "metadata": {
      "needs_background": "light"
     },
     "output_type": "display_data"
    },
    {
     "data": {
      "image/png": "[encoded data removed]",
      "text/plain": [
       "<Figure size 432x288 with 1 Axes>"
      ]
     },
     "metadata": {
      "needs_background": "light"
     },
     "output_type": "display_data"
    },
    {
     "data": {
      "image/png": "[encoded data removed]",
      "text/plain": [
       "<Figure size 432x288 with 1 Axes>"
      ]
     },
     "metadata": {
      "needs_background": "light"
     },
     "output_type": "display_data"
    },
    {
     "data": {
      "image/png": "[encoded data removed]",
      "text/plain": [
       "<Figure size 432x288 with 1 Axes>"
      ]
     },
     "metadata": {
      "needs_background": "light"
     },
     "output_type": "display_data"
    },
    {
     "data": {
      "image/png": "[encoded data removed]",
      "text/plain": [
       "<Figure size 432x288 with 1 Axes>"
      ]
     },
     "metadata": {
      "needs_background": "light"
     },
     "output_type": "display_data"
    },
    {
     "data": {
      "image/png": "[encoded data removed]",
      "text/plain": [
       "<Figure size 432x288 with 1 Axes>"
      ]
     },
     "metadata": {
      "needs_background": "light"
     },
     "output_type": "display_data"
    },
    {
     "data": {
      "image/png": "[encoded data removed]",
      "text/plain": [
       "<Figure size 432x288 with 1 Axes>"
      ]
     },
     "metadata": {
      "needs_background": "light"
     },
     "output_type": "display_data"
    },
    {
     "data": {
      "image/png": "[encoded data removed]",
      "text/plain": [
       "<Figure size 432x288 with 1 Axes>"
      ]
     },
     "metadata": {
      "needs_background": "light"
     },
     "output_type": "display_data"
    },
    {
     "name": "stdout",
     "output_type": "stream",
     "text": [
      "   Iteration: 19 (final), log-likelihood: 32.5138\n",
      "   Iteration: 13 (final), log-likelihood: 32.2797\n",
      "   Iteration: 8 (final), log-likelihood: 31.2162\n",
      "   Iteration: 24 (final), log-likelihood: 32.5418\n",
      "================ class 0(tshirt/top), mixture of 3 diag Gaussians\n",
      "   Iteration: 16 (final), log-likelihood: 40.6412\n",
      "   Iteration: 21 (final), log-likelihood: 40.5880\n",
      "   Iteration: 17 (final), log-likelihood: 40.2227\n",
      "   Iteration: 15 (final), log-likelihood: 40.0227\n",
      "================ class 1(trouser), mixture of 3 diag Gaussians\n",
      "   Iteration: 31 (final), log-likelihood: 32.2435\n",
      "   Iteration: 8 (final), log-likelihood: 30.7998\n",
      "   Iteration: 12 (final), log-likelihood: 30.8244\n",
      "   Iteration: 18 (final), log-likelihood: 30.4321\n",
      "================ class 2(pullover), mixture of 3 diag Gaussians\n",
      "   Iteration: 36 (final), log-likelihood: 34.8525\n",
      "   Iteration: 28 (final), log-likelihood: 35.0321\n",
      "   Iteration: 9 (final), log-likelihood: 34.2604\n",
      "   Iteration: 12 (final), log-likelihood: 34.4674\n",
      "================ class 3(dress), mixture of 3 diag Gaussians\n",
      "   Iteration: 28 (final), log-likelihood: 31.9436\n",
      "   Iteration: 11 (final), log-likelihood: 32.1890\n",
      "   Iteration: 7 (final), log-likelihood: 32.1917\n",
      "   Iteration: 23 (final), log-likelihood: 31.8566\n",
      "================ class 4(coat), mixture of 3 diag Gaussians\n",
      "   Iteration: 12 (final), log-likelihood: 25.2177\n",
      "   Iteration: 11 (final), log-likelihood: 25.9929\n",
      "   Iteration: 13 (final), log-likelihood: 25.4856\n",
      "   Iteration: 6 (final), log-likelihood: 24.9553\n",
      "================ class 5(sandal), mixture of 3 diag Gaussians\n",
      "   Iteration: 16 (final), log-likelihood: 30.0685\n",
      "   Iteration: 2 (final), log-likelihood: 31.2314\n",
      "   Iteration: 12 (final), log-likelihood: 30.1315\n",
      "   Iteration: 9 (final), log-likelihood: 29.5340\n",
      "================ class 6(shirt), mixture of 3 diag Gaussians\n",
      "   Iteration: 8 (final), log-likelihood: 41.3274\n",
      "   Iteration: 2 (final), log-likelihood: 40.9439\n",
      "   Iteration: 5 (final), log-likelihood: 40.7187\n",
      "   Iteration: 3 (final), log-likelihood: 40.1628\n",
      "================ class 7(sneaker), mixture of 3 diag Gaussians\n",
      "   Iteration: 26 (final), log-likelihood: 18.7028\n",
      "   Iteration: 16 (final), log-likelihood: 18.5467\n",
      "   Iteration: 16 (final), log-likelihood: 17.5704\n",
      "   Iteration: 14 (final), log-likelihood: 17.1575\n",
      "================ class 8(bag), mixture of 3 diag Gaussians\n",
      "   Iteration: 23 (final), log-likelihood: 29.7111\n",
      "   Iteration: 13 (final), log-likelihood: 28.8081\n",
      "   Iteration: 14 (final), log-likelihood: 27.6434\n",
      "   Iteration: 7 (final), log-likelihood: 27.8237\n",
      "================ class 9(ankle boot), mixture of 3 diag Gaussians\n",
      "GMM-diag (3) accuracy:  0.7540  [ 0.7595 on train]\n"
     ]
    },
    {
     "data": {
      "image/png": "[encoded data removed]",
      "text/plain": [
       "<Figure size 432x288 with 3 Axes>"
      ]
     },
     "metadata": {
      "needs_background": "light"
     },
     "output_type": "display_data"
    },
    {
     "data": {
      "image/png": "[encoded data removed]",
      "text/plain": [
       "<Figure size 432x288 with 3 Axes>"
      ]
     },
     "metadata": {
      "needs_background": "light"
     },
     "output_type": "display_data"
    },
    {
     "data": {
      "image/png": "[encoded data removed]",
      "text/plain": [
       "<Figure size 432x288 with 3 Axes>"
      ]
     },
     "metadata": {
      "needs_background": "light"
     },
     "output_type": "display_data"
    },
    {
     "data": {
      "image/png": "[encoded data removed]",
      "text/plain": [
       "<Figure size 432x288 with 3 Axes>"
      ]
     },
     "metadata": {
      "needs_background": "light"
     },
     "output_type": "display_data"
    },
    {
     "data": {
      "image/png": "[encoded data removed]",
      "text/plain": [
       "<Figure size 432x288 with 3 Axes>"
      ]
     },
     "metadata": {
      "needs_background": "light"
     },
     "output_type": "display_data"
    },
    {
     "data": {
      "image/png": "[encoded data removed]",
      "text/plain": [
       "<Figure size 432x288 with 3 Axes>"
      ]
     },
     "metadata": {
      "needs_background": "light"
     },
     "output_type": "display_data"
    },
    {
     "data": {
      "image/png": "[encoded data removed]",
      "text/plain": [
       "<Figure size 432x288 with 3 Axes>"
      ]
     },
     "metadata": {
      "needs_background": "light"
     },
     "output_type": "display_data"
    },
    {
     "data": {
      "image/png": "[encoded data removed]",
      "text/plain": [
       "<Figure size 432x288 with 3 Axes>"
      ]
     },
     "metadata": {
      "needs_background": "light"
     },
     "output_type": "display_data"
    },
    {
     "data": {
      "image/png": "[encoded data removed]",
      "text/plain": [
       "<Figure size 432x288 with 3 Axes>"
      ]
     },
     "metadata": {
      "needs_background": "light"
     },
     "output_type": "display_data"
    },
    {
     "data": {
      "image/png": "[encoded data removed]",
      "text/plain": [
       "<Figure size 432x288 with 3 Axes>"
      ]
     },
     "metadata": {
      "needs_background": "light"
     },
     "output_type": "display_data"
    }
   ],
   "source": [
    "ks = [1, 3]\n",
    "\n",
    "gmmacc = dict()\n",
    "gmmaccTrain = dict()\n",
    "\n",
    "set_seed(0)\n",
    "for k in ks:\n",
    "    mmodels = dict()\n",
    "\n",
    "    for y in range(10):\n",
    "        mmodels[y] = GaussianMixtureModel(\n",
    "            classData[y], k, max_iter=40, eps=0.1, cov_type=\"diag\"\n",
    "        )\n",
    "        if k == 1:\n",
    "            rs = [1]\n",
    "        else:\n",
    "            rs = [0.05, 0.1, 0.25, 1]\n",
    "        mmodels[y].trainFast(classData[y], verbose=\"final\", rs=rs)\n",
    "        print(\n",
    "            f\"================ class {y}({class_names[y]}), mixture of {k} diag Gaussians\"\n",
    "        )\n",
    "\n",
    "    gmmacc[k], _ = get_accuracy(mmodels, xVal, yVal)\n",
    "    gmmaccTrain[k], _ = get_accuracy(mmodels, xTrain, yTrain)\n",
    "    print(\n",
    "        f\"GMM-diag ({k}) accuracy:  {gmmacc[k]:.4f}  [ {gmmaccTrain[k]:.4f} on train]\"\n",
    "    )\n",
    "    for y in range(10):\n",
    "        showMeans(mmodels, y)\n",
    "\n",
    "        plt.show()"
   ]
  },
  {
   "cell_type": "markdown",
   "metadata": {},
   "source": [
    "## <font color=red>Question 1 </font>\n",
    "For GMM with diagonal covariance matrix, report\n",
    "- 1 component: train acc, val acc\n",
    "- 3 component: train acc, val acc\n",
    "\n",
    "\n",
    "## <font color=red>Answer</font>\n",
    "- 1 component:\n",
    "    - train acc: 0.6890\n",
    "    - val acc: 0.6883\n",
    "- 3 component:\n",
    "    - train acc: 0.7595\n",
    "    - val acc: 0.7540\n",
    "\n",
    "\n"
   ]
  },
  {
   "cell_type": "markdown",
   "metadata": {},
   "source": [
    "## Experiment 2: GMM with full covariance matrix"
   ]
  },
  {
   "cell_type": "code",
   "execution_count": 23,
   "metadata": {},
   "outputs": [
    {
     "name": "stdout",
     "output_type": "stream",
     "text": [
      "   Iteration: 1 (final), log-likelihood: 351.1343\n",
      "================ class 0(tshirt/top), mixture of 1 full Gaussians\n"
     ]
    },
    {
     "data": {
      "image/png": "[encoded data removed]",
      "text/plain": [
       "<Figure size 432x288 with 1 Axes>"
      ]
     },
     "metadata": {
      "needs_background": "light"
     },
     "output_type": "display_data"
    },
    {
     "name": "stdout",
     "output_type": "stream",
     "text": [
      "   Iteration: 1 (final), log-likelihood: 470.3746\n",
      "================ class 1(trouser), mixture of 1 full Gaussians\n"
     ]
    },
    {
     "data": {
      "image/png": "[encoded data removed]",
      "text/plain": [
       "<Figure size 432x288 with 1 Axes>"
      ]
     },
     "metadata": {
      "needs_background": "light"
     },
     "output_type": "display_data"
    },
    {
     "name": "stdout",
     "output_type": "stream",
     "text": [
      "   Iteration: 1 (final), log-likelihood: 368.5760\n",
      "================ class 2(pullover), mixture of 1 full Gaussians\n"
     ]
    },
    {
     "data": {
      "image/png": "[encoded data removed]",
      "text/plain": [
       "<Figure size 432x288 with 1 Axes>"
      ]
     },
     "metadata": {
      "needs_background": "light"
     },
     "output_type": "display_data"
    },
    {
     "name": "stdout",
     "output_type": "stream",
     "text": [
      "   Iteration: 1 (final), log-likelihood: 384.0422\n",
      "================ class 3(dress), mixture of 1 full Gaussians\n"
     ]
    },
    {
     "data": {
      "image/png": "[encoded data removed]",
      "text/plain": [
       "<Figure size 432x288 with 1 Axes>"
      ]
     },
     "metadata": {
      "needs_background": "light"
     },
     "output_type": "display_data"
    },
    {
     "name": "stdout",
     "output_type": "stream",
     "text": [
      "   Iteration: 1 (final), log-likelihood: 377.2579\n",
      "================ class 4(coat), mixture of 1 full Gaussians\n"
     ]
    },
    {
     "data": {
      "image/png": "[encoded data removed]",
      "text/plain": [
       "<Figure size 432x288 with 1 Axes>"
      ]
     },
     "metadata": {
      "needs_background": "light"
     },
     "output_type": "display_data"
    },
    {
     "name": "stdout",
     "output_type": "stream",
     "text": [
      "   Iteration: 1 (final), log-likelihood: 313.7068\n",
      "================ class 5(sandal), mixture of 1 full Gaussians\n"
     ]
    },
    {
     "data": {
      "image/png": "[encoded data removed]",
      "text/plain": [
       "<Figure size 432x288 with 1 Axes>"
      ]
     },
     "metadata": {
      "needs_background": "light"
     },
     "output_type": "display_data"
    },
    {
     "name": "stdout",
     "output_type": "stream",
     "text": [
      "   Iteration: 1 (final), log-likelihood: 328.0583\n",
      "================ class 6(shirt), mixture of 1 full Gaussians\n"
     ]
    },
    {
     "data": {
      "image/png": "[encoded data removed]",
      "text/plain": [
       "<Figure size 432x288 with 1 Axes>"
      ]
     },
     "metadata": {
      "needs_background": "light"
     },
     "output_type": "display_data"
    },
    {
     "name": "stdout",
     "output_type": "stream",
     "text": [
      "   Iteration: 1 (final), log-likelihood: 438.9073\n",
      "================ class 7(sneaker), mixture of 1 full Gaussians\n"
     ]
    },
    {
     "data": {
      "image/png": "[encoded data removed]",
      "text/plain": [
       "<Figure size 432x288 with 1 Axes>"
      ]
     },
     "metadata": {
      "needs_background": "light"
     },
     "output_type": "display_data"
    },
    {
     "name": "stdout",
     "output_type": "stream",
     "text": [
      "   Iteration: 1 (final), log-likelihood: 264.3018\n",
      "================ class 8(bag), mixture of 1 full Gaussians\n"
     ]
    },
    {
     "data": {
      "image/png": "[encoded data removed]",
      "text/plain": [
       "<Figure size 432x288 with 1 Axes>"
      ]
     },
     "metadata": {
      "needs_background": "light"
     },
     "output_type": "display_data"
    },
    {
     "name": "stdout",
     "output_type": "stream",
     "text": [
      "   Iteration: 1 (final), log-likelihood: 349.1551\n",
      "================ class 9(ankle boot), mixture of 1 full Gaussians\n"
     ]
    },
    {
     "data": {
      "image/png": "[encoded data removed]",
      "text/plain": [
       "<Figure size 432x288 with 1 Axes>"
      ]
     },
     "metadata": {
      "needs_background": "light"
     },
     "output_type": "display_data"
    },
    {
     "name": "stdout",
     "output_type": "stream",
     "text": [
      "GMM-full (1) accuracy:  0.7405  [ 0.762800 on train]\n",
      "   Iteration: 4 (final), log-likelihood: 495.8409\n",
      "   Iteration: 13 (final), log-likelihood: 447.1568\n",
      "   Iteration: 9 (final), log-likelihood: 410.2790\n",
      "   Iteration: 20 (final), log-likelihood: 404.2837\n",
      "================ class 0(tshirt/top), mixture of 3 full Gaussians\n"
     ]
    },
    {
     "data": {
      "image/png": "[encoded data removed]",
      "text/plain": [
       "<Figure size 432x288 with 3 Axes>"
      ]
     },
     "metadata": {
      "needs_background": "light"
     },
     "output_type": "display_data"
    },
    {
     "name": "stdout",
     "output_type": "stream",
     "text": [
      "   Iteration: 4 (final), log-likelihood: 543.1015\n",
      "   Iteration: 6 (final), log-likelihood: 523.8160\n",
      "   Iteration: 19 (final), log-likelihood: 509.4925\n",
      "   Iteration: 12 (final), log-likelihood: 503.9498\n",
      "================ class 1(trouser), mixture of 3 full Gaussians\n"
     ]
    },
    {
     "data": {
      "image/png": "[encoded data removed]",
      "text/plain": [
       "<Figure size 432x288 with 3 Axes>"
      ]
     },
     "metadata": {
      "needs_background": "light"
     },
     "output_type": "display_data"
    },
    {
     "name": "stdout",
     "output_type": "stream",
     "text": [
      "   Iteration: 4 (final), log-likelihood: 498.1001\n",
      "   Iteration: 2 (final), log-likelihood: 445.9032\n",
      "   Iteration: 19 (final), log-likelihood: 421.7562\n",
      "   Iteration: 17 (final), log-likelihood: 400.3520\n",
      "================ class 2(pullover), mixture of 3 full Gaussians\n"
     ]
    },
    {
     "data": {
      "image/png": "[encoded data removed]",
      "text/plain": [
       "<Figure size 432x288 with 3 Axes>"
      ]
     },
     "metadata": {
      "needs_background": "light"
     },
     "output_type": "display_data"
    },
    {
     "name": "stdout",
     "output_type": "stream",
     "text": [
      "   Iteration: 4 (final), log-likelihood: 502.3511\n",
      "   Iteration: 4 (final), log-likelihood: 461.7476\n",
      "   Iteration: 7 (final), log-likelihood: 432.6502\n",
      "   Iteration: 25 (final), log-likelihood: 424.4433\n",
      "================ class 3(dress), mixture of 3 full Gaussians\n"
     ]
    },
    {
     "data": {
      "image/png": "[encoded data removed]",
      "text/plain": [
       "<Figure size 432x288 with 3 Axes>"
      ]
     },
     "metadata": {
      "needs_background": "light"
     },
     "output_type": "display_data"
    },
    {
     "name": "stdout",
     "output_type": "stream",
     "text": [
      "   Iteration: 4 (final), log-likelihood: 495.9315\n",
      "   Iteration: 2 (final), log-likelihood: 453.3837\n",
      "   Iteration: 9 (final), log-likelihood: 420.6028\n",
      "   Iteration: 19 (final), log-likelihood: 409.9535\n",
      "================ class 4(coat), mixture of 3 full Gaussians\n"
     ]
    },
    {
     "data": {
      "image/png": "[encoded data removed]",
      "text/plain": [
       "<Figure size 432x288 with 3 Axes>"
      ]
     },
     "metadata": {
      "needs_background": "light"
     },
     "output_type": "display_data"
    },
    {
     "name": "stdout",
     "output_type": "stream",
     "text": [
      "   Iteration: 3 (final), log-likelihood: 471.7181\n",
      "   Iteration: 9 (final), log-likelihood: 418.4415\n",
      "   Iteration: 7 (final), log-likelihood: 381.2672\n",
      "   Iteration: 3 (final), log-likelihood: 377.1165\n",
      "================ class 5(sandal), mixture of 3 full Gaussians\n"
     ]
    },
    {
     "data": {
      "image/png": "[encoded data removed]",
      "text/plain": [
       "<Figure size 432x288 with 3 Axes>"
      ]
     },
     "metadata": {
      "needs_background": "light"
     },
     "output_type": "display_data"
    },
    {
     "name": "stdout",
     "output_type": "stream",
     "text": [
      "   Iteration: 4 (final), log-likelihood: 492.3176\n",
      "   Iteration: 3 (final), log-likelihood: 444.5889\n",
      "   Iteration: 17 (final), log-likelihood: 404.0423\n",
      "   Iteration: 16 (final), log-likelihood: 379.3713\n",
      "================ class 6(shirt), mixture of 3 full Gaussians\n"
     ]
    },
    {
     "data": {
      "image/png": "[encoded data removed]",
      "text/plain": [
       "<Figure size 432x288 with 3 Axes>"
      ]
     },
     "metadata": {
      "needs_background": "light"
     },
     "output_type": "display_data"
    },
    {
     "name": "stdout",
     "output_type": "stream",
     "text": [
      "   Iteration: 4 (final), log-likelihood: 518.5179\n",
      "   Iteration: 5 (final), log-likelihood: 491.4311\n",
      "   Iteration: 11 (final), log-likelihood: 473.4062\n",
      "   Iteration: 17 (final), log-likelihood: 464.3781\n",
      "================ class 7(sneaker), mixture of 3 full Gaussians\n"
     ]
    },
    {
     "data": {
      "image/png": "[encoded data removed]",
      "text/plain": [
       "<Figure size 432x288 with 3 Axes>"
      ]
     },
     "metadata": {
      "needs_background": "light"
     },
     "output_type": "display_data"
    },
    {
     "name": "stdout",
     "output_type": "stream",
     "text": [
      "   Iteration: 4 (final), log-likelihood: 466.0692\n",
      "   Iteration: 1 (final), log-likelihood: 392.6707\n",
      "   Iteration: 3 (final), log-likelihood: 330.7542\n",
      "   Iteration: 7 (final), log-likelihood: 301.0249\n",
      "================ class 8(bag), mixture of 3 full Gaussians\n"
     ]
    },
    {
     "data": {
      "image/png": "[encoded data removed]",
      "text/plain": [
       "<Figure size 432x288 with 3 Axes>"
      ]
     },
     "metadata": {
      "needs_background": "light"
     },
     "output_type": "display_data"
    },
    {
     "name": "stdout",
     "output_type": "stream",
     "text": [
      "   Iteration: 4 (final), log-likelihood: 485.6122\n",
      "   Iteration: 3 (final), log-likelihood: 430.9923\n",
      "   Iteration: 13 (final), log-likelihood: 404.9836\n",
      "   Iteration: 14 (final), log-likelihood: 398.8097\n",
      "================ class 9(ankle boot), mixture of 3 full Gaussians\n"
     ]
    },
    {
     "data": {
      "image/png": "[encoded data removed]",
      "text/plain": [
       "<Figure size 432x288 with 3 Axes>"
      ]
     },
     "metadata": {
      "needs_background": "light"
     },
     "output_type": "display_data"
    },
    {
     "name": "stdout",
     "output_type": "stream",
     "text": [
      "GMM-full (3) accuracy:  0.8290  [ 0.878580 on train]\n"
     ]
    }
   ],
   "source": [
    "ks = [1, 3]\n",
    "\n",
    "gmmacc = dict()\n",
    "gmmaccTrain = dict()\n",
    "\n",
    "set_seed(0)\n",
    "for k in ks:\n",
    "    mmodels = dict()\n",
    "    for y in range(10):\n",
    "        mmodels[y] = GaussianMixtureModel(\n",
    "            classData[y], k, max_iter=40, cov_type=\"full\", eps=1e-3\n",
    "        )\n",
    "        if k == 1:\n",
    "            rs = [1]\n",
    "        else:\n",
    "            rs = [0.05, 0.1, 0.25, 1]\n",
    "        mmodels[y].trainFast(classData[y], verbose=\"final\", rs=rs)\n",
    "        print(\n",
    "            f\"================ class {y}({class_names[y]}), mixture of {k} full Gaussians\"\n",
    "        )\n",
    "        showMeans(mmodels, y)\n",
    "        plt.show()\n",
    "\n",
    "    gmmacc[k], _ = get_accuracy(mmodels, xVal, yVal)\n",
    "    gmmaccTrain[k], _ = get_accuracy(mmodels, xTrain, yTrain)\n",
    "    print(f\"GMM-full ({k}) accuracy:  {gmmacc[k]:.4f}  [ {gmmaccTrain[k]:4f} on train]\")"
   ]
  },
  {
   "cell_type": "markdown",
   "metadata": {},
   "source": [
    "## <font color=red>Question 2 </font>\n",
    "For GMM with full covariance matrix, report\n",
    "- 1 component: train acc, val acc\n",
    "- 3 component: train acc, val acc\n",
    "\n",
    "\n",
    "## <font color=red>Answer</font>\n",
    "- 1 component:\n",
    "    - train acc: 0.76280\n",
    "    - val acc: 0.7405\n",
    "- 3 component:\n",
    "    - train acc: 0.87858\n",
    "    - val acc: 0.8290\n",
    "\n",
    "\n"
   ]
  },
  {
   "cell_type": "code",
   "execution_count": 24,
   "metadata": {},
   "outputs": [
    {
     "name": "stdout",
     "output_type": "stream",
     "text": [
      "   Iteration: 4 (final), log-likelihood: 518.3158\n",
      "   Iteration: 3 (final), log-likelihood: 464.1622\n",
      "   Iteration: 12 (final), log-likelihood: 421.6230\n",
      "   Iteration: 7 (final), log-likelihood: 399.9694\n",
      "================ class 0(tshirt/top), mixture of 4 full Gaussians\n"
     ]
    },
    {
     "data": {
      "image/png": "[encoded data removed]",
      "text/plain": [
       "<Figure size 432x288 with 4 Axes>"
      ]
     },
     "metadata": {
      "needs_background": "light"
     },
     "output_type": "display_data"
    },
    {
     "name": "stdout",
     "output_type": "stream",
     "text": [
      "   Iteration: 4 (final), log-likelihood: 550.2548\n",
      "   Iteration: 2 (final), log-likelihood: 527.1611\n",
      "   Iteration: 2 (final), log-likelihood: 506.4597\n",
      "   Iteration: 39 (final), log-likelihood: 501.2249\n",
      "================ class 1(trouser), mixture of 4 full Gaussians\n"
     ]
    },
    {
     "data": {
      "image/png": "[encoded data removed]",
      "text/plain": [
       "<Figure size 432x288 with 4 Axes>"
      ]
     },
     "metadata": {
      "needs_background": "light"
     },
     "output_type": "display_data"
    },
    {
     "name": "stdout",
     "output_type": "stream",
     "text": [
      "   Iteration: 3 (final), log-likelihood: 523.2272\n",
      "   Iteration: 2 (final), log-likelihood: 473.8300\n",
      "   Iteration: 16 (final), log-likelihood: 436.9726\n",
      "   Iteration: 15 (final), log-likelihood: 415.9583\n",
      "================ class 2(pullover), mixture of 4 full Gaussians\n"
     ]
    },
    {
     "data": {
      "image/png": "[encoded data removed]",
      "text/plain": [
       "<Figure size 432x288 with 4 Axes>"
      ]
     },
     "metadata": {
      "needs_background": "light"
     },
     "output_type": "display_data"
    },
    {
     "name": "stdout",
     "output_type": "stream",
     "text": [
      "   Iteration: 4 (final), log-likelihood: 517.9149\n",
      "   Iteration: 8 (final), log-likelihood: 473.2986\n",
      "   Iteration: 15 (final), log-likelihood: 452.3504\n",
      "   Iteration: 2 (final), log-likelihood: 431.9885\n",
      "================ class 3(dress), mixture of 4 full Gaussians\n"
     ]
    },
    {
     "data": {
      "image/png": "[encoded data removed]",
      "text/plain": [
       "<Figure size 432x288 with 4 Axes>"
      ]
     },
     "metadata": {
      "needs_background": "light"
     },
     "output_type": "display_data"
    },
    {
     "name": "stdout",
     "output_type": "stream",
     "text": [
      "   Iteration: 3 (final), log-likelihood: 515.1545\n",
      "   Iteration: 4 (final), log-likelihood: 464.5564\n",
      "   Iteration: 27 (final), log-likelihood: 428.2316\n",
      "   Iteration: 15 (final), log-likelihood: 412.6049\n",
      "================ class 4(coat), mixture of 4 full Gaussians\n"
     ]
    },
    {
     "data": {
      "image/png": "[encoded data removed]",
      "text/plain": [
       "<Figure size 432x288 with 4 Axes>"
      ]
     },
     "metadata": {
      "needs_background": "light"
     },
     "output_type": "display_data"
    },
    {
     "name": "stdout",
     "output_type": "stream",
     "text": [
      "   Iteration: 3 (final), log-likelihood: 503.4614\n",
      "   Iteration: 2 (final), log-likelihood: 444.6342\n",
      "   Iteration: 5 (final), log-likelihood: 394.3256\n",
      "   Iteration: 6 (final), log-likelihood: 377.2278\n",
      "================ class 5(sandal), mixture of 4 full Gaussians\n"
     ]
    },
    {
     "data": {
      "image/png": "[encoded data removed]",
      "text/plain": [
       "<Figure size 432x288 with 4 Axes>"
      ]
     },
     "metadata": {
      "needs_background": "light"
     },
     "output_type": "display_data"
    },
    {
     "name": "stdout",
     "output_type": "stream",
     "text": [
      "   Iteration: 4 (final), log-likelihood: 515.8215\n",
      "   Iteration: 3 (final), log-likelihood: 465.6486\n",
      "   Iteration: 11 (final), log-likelihood: 413.9771\n",
      "   Iteration: 15 (final), log-likelihood: 380.7499\n",
      "================ class 6(shirt), mixture of 4 full Gaussians\n"
     ]
    },
    {
     "data": {
      "image/png": "[encoded data removed]",
      "text/plain": [
       "<Figure size 432x288 with 4 Axes>"
      ]
     },
     "metadata": {
      "needs_background": "light"
     },
     "output_type": "display_data"
    },
    {
     "name": "stdout",
     "output_type": "stream",
     "text": [
      "   Iteration: 4 (final), log-likelihood: 534.1365\n",
      "   Iteration: 2 (final), log-likelihood: 500.8919\n",
      "   Iteration: 8 (final), log-likelihood: 475.0662\n",
      "   Iteration: 22 (final), log-likelihood: 474.7309\n",
      "================ class 7(sneaker), mixture of 4 full Gaussians\n"
     ]
    },
    {
     "data": {
      "image/png": "[encoded data removed]",
      "text/plain": [
       "<Figure size 432x288 with 4 Axes>"
      ]
     },
     "metadata": {
      "needs_background": "light"
     },
     "output_type": "display_data"
    },
    {
     "name": "stdout",
     "output_type": "stream",
     "text": [
      "   Iteration: 3 (final), log-likelihood: 495.4791\n",
      "   Iteration: 2 (final), log-likelihood: 419.3905\n",
      "   Iteration: 6 (final), log-likelihood: 348.0212\n",
      "   Iteration: 32 (final), log-likelihood: 320.4157\n",
      "================ class 8(bag), mixture of 4 full Gaussians\n"
     ]
    },
    {
     "data": {
      "image/png": "[encoded data removed]",
      "text/plain": [
       "<Figure size 432x288 with 4 Axes>"
      ]
     },
     "metadata": {
      "needs_background": "light"
     },
     "output_type": "display_data"
    },
    {
     "name": "stdout",
     "output_type": "stream",
     "text": [
      "   Iteration: 4 (final), log-likelihood: 511.2953\n",
      "   Iteration: 2 (final), log-likelihood: 453.1304\n",
      "   Iteration: 10 (final), log-likelihood: 415.5439\n",
      "   Iteration: 28 (final), log-likelihood: 404.9672\n",
      "================ class 9(ankle boot), mixture of 4 full Gaussians\n"
     ]
    },
    {
     "data": {
      "image/png": "[encoded data removed]",
      "text/plain": [
       "<Figure size 432x288 with 4 Axes>"
      ]
     },
     "metadata": {
      "needs_background": "light"
     },
     "output_type": "display_data"
    },
    {
     "name": "stdout",
     "output_type": "stream",
     "text": [
      "GMM-full (4) accuracy:  0.8277  [ 0.883120 on train]\n",
      "   Iteration: 4 (final), log-likelihood: 535.3812\n",
      "   Iteration: 2 (final), log-likelihood: 482.0078\n",
      "   Iteration: 7 (final), log-likelihood: 427.4493\n",
      "   Iteration: 14 (final), log-likelihood: 413.6890\n",
      "================ class 0(tshirt/top), mixture of 5 full Gaussians\n"
     ]
    },
    {
     "data": {
      "image/png": "[encoded data removed]",
      "text/plain": [
       "<Figure size 432x288 with 5 Axes>"
      ]
     },
     "metadata": {
      "needs_background": "light"
     },
     "output_type": "display_data"
    },
    {
     "name": "stdout",
     "output_type": "stream",
     "text": [
      "   Iteration: 4 (final), log-likelihood: 560.6598\n",
      "   Iteration: 13 (final), log-likelihood: 535.1089\n",
      "   Iteration: 11 (final), log-likelihood: 517.0077\n",
      "   Iteration: 15 (final), log-likelihood: 514.1215\n",
      "================ class 1(trouser), mixture of 5 full Gaussians\n"
     ]
    },
    {
     "data": {
      "image/png": "[encoded data removed]",
      "text/plain": [
       "<Figure size 432x288 with 5 Axes>"
      ]
     },
     "metadata": {
      "needs_background": "light"
     },
     "output_type": "display_data"
    },
    {
     "name": "stdout",
     "output_type": "stream",
     "text": [
      "   Iteration: 4 (final), log-likelihood: 538.1661\n",
      "   Iteration: 5 (final), log-likelihood: 488.3726\n",
      "   Iteration: 16 (final), log-likelihood: 444.2701\n",
      "   Iteration: 22 (final), log-likelihood: 415.8959\n",
      "================ class 2(pullover), mixture of 5 full Gaussians\n"
     ]
    },
    {
     "data": {
      "image/png": "[encoded data removed]",
      "text/plain": [
       "<Figure size 432x288 with 5 Axes>"
      ]
     },
     "metadata": {
      "needs_background": "light"
     },
     "output_type": "display_data"
    },
    {
     "name": "stdout",
     "output_type": "stream",
     "text": [
      "   Iteration: 3 (final), log-likelihood: 531.7148\n",
      "   Iteration: 3 (final), log-likelihood: 481.0872\n",
      "   Iteration: 34 (final), log-likelihood: 452.9950\n",
      "   Iteration: 18 (final), log-likelihood: 433.1320\n",
      "================ class 3(dress), mixture of 5 full Gaussians\n"
     ]
    },
    {
     "data": {
      "image/png": "[encoded data removed]",
      "text/plain": [
       "<Figure size 432x288 with 5 Axes>"
      ]
     },
     "metadata": {
      "needs_background": "light"
     },
     "output_type": "display_data"
    },
    {
     "name": "stdout",
     "output_type": "stream",
     "text": [
      "   Iteration: 4 (final), log-likelihood: 533.9091\n",
      "   Iteration: 3 (final), log-likelihood: 482.9561\n",
      "   Iteration: 39 (final), log-likelihood: 440.8084\n",
      "   Iteration: 25 (final), log-likelihood: 426.0174\n",
      "================ class 4(coat), mixture of 5 full Gaussians\n"
     ]
    },
    {
     "data": {
      "image/png": "[encoded data removed]",
      "text/plain": [
       "<Figure size 432x288 with 5 Axes>"
      ]
     },
     "metadata": {
      "needs_background": "light"
     },
     "output_type": "display_data"
    },
    {
     "name": "stdout",
     "output_type": "stream",
     "text": [
      "   Iteration: 4 (final), log-likelihood: 516.3835\n",
      "   Iteration: 4 (final), log-likelihood: 453.7179\n",
      "   Iteration: 14 (final), log-likelihood: 412.5508\n",
      "   Iteration: 28 (final), log-likelihood: 401.6778\n",
      "================ class 5(sandal), mixture of 5 full Gaussians\n"
     ]
    },
    {
     "data": {
      "image/png": "[encoded data removed]",
      "text/plain": [
       "<Figure size 432x288 with 5 Axes>"
      ]
     },
     "metadata": {
      "needs_background": "light"
     },
     "output_type": "display_data"
    },
    {
     "name": "stdout",
     "output_type": "stream",
     "text": [
      "   Iteration: 4 (final), log-likelihood: 526.3708\n",
      "   Iteration: 2 (final), log-likelihood: 465.1477\n",
      "   Iteration: 17 (final), log-likelihood: 415.9056\n",
      "   Iteration: 18 (final), log-likelihood: 383.3861\n",
      "================ class 6(shirt), mixture of 5 full Gaussians\n"
     ]
    },
    {
     "data": {
      "image/png": "[encoded data removed]",
      "text/plain": [
       "<Figure size 432x288 with 5 Axes>"
      ]
     },
     "metadata": {
      "needs_background": "light"
     },
     "output_type": "display_data"
    },
    {
     "name": "stdout",
     "output_type": "stream",
     "text": [
      "   Iteration: 4 (final), log-likelihood: 545.6683\n",
      "   Iteration: 10 (final), log-likelihood: 512.3040\n",
      "   Iteration: 8 (final), log-likelihood: 488.8141\n",
      "   Iteration: 21 (final), log-likelihood: 475.3131\n",
      "================ class 7(sneaker), mixture of 5 full Gaussians\n"
     ]
    },
    {
     "data": {
      "image/png": "[encoded data removed]",
      "text/plain": [
       "<Figure size 432x288 with 5 Axes>"
      ]
     },
     "metadata": {
      "needs_background": "light"
     },
     "output_type": "display_data"
    },
    {
     "name": "stdout",
     "output_type": "stream",
     "text": [
      "   Iteration: 4 (final), log-likelihood: 515.8953\n",
      "   Iteration: 1 (final), log-likelihood: 440.3397\n",
      "   Iteration: 2 (final), log-likelihood: 362.0198\n",
      "   Iteration: 39 (final), log-likelihood: 330.8781\n",
      "================ class 8(bag), mixture of 5 full Gaussians\n"
     ]
    },
    {
     "data": {
      "image/png": "[encoded data removed]",
      "text/plain": [
       "<Figure size 432x288 with 5 Axes>"
      ]
     },
     "metadata": {
      "needs_background": "light"
     },
     "output_type": "display_data"
    },
    {
     "name": "stdout",
     "output_type": "stream",
     "text": [
      "   Iteration: 3 (final), log-likelihood: 525.8348\n",
      "   Iteration: 2 (final), log-likelihood: 462.5828\n",
      "   Iteration: 16 (final), log-likelihood: 417.8913\n",
      "   Iteration: 13 (final), log-likelihood: 393.8813\n",
      "================ class 9(ankle boot), mixture of 5 full Gaussians\n"
     ]
    },
    {
     "data": {
      "image/png": "[encoded data removed]",
      "text/plain": [
       "<Figure size 432x288 with 5 Axes>"
      ]
     },
     "metadata": {
      "needs_background": "light"
     },
     "output_type": "display_data"
    },
    {
     "name": "stdout",
     "output_type": "stream",
     "text": [
      "GMM-full (5) accuracy:  0.8341  [ 0.892860 on train]\n"
     ]
    }
   ],
   "source": [
    "ks = [4,5]\n",
    "\n",
    "gmmacc = dict()\n",
    "gmmaccTrain = dict()\n",
    "\n",
    "set_seed(0)\n",
    "for k in ks:\n",
    "    mmodels = dict()\n",
    "    for y in range(10):\n",
    "        mmodels[y] = GaussianMixtureModel(\n",
    "            classData[y], k, max_iter=50, cov_type=\"full\", eps=2e-3\n",
    "        )\n",
    "        if k == 1:\n",
    "            rs = [1]\n",
    "        else:\n",
    "            rs = [0.05, 0.1, 0.25, 1]\n",
    "        mmodels[y].trainFast(classData[y], verbose=\"final\", rs=rs)\n",
    "        print(\n",
    "            f\"================ class {y}({class_names[y]}), mixture of {k} full Gaussians\"\n",
    "        )\n",
    "        showMeans(mmodels, y)\n",
    "        plt.show()\n",
    "\n",
    "    gmmacc[k], _ = get_accuracy(mmodels, xVal, yVal)\n",
    "    gmmaccTrain[k], _ = get_accuracy(mmodels, xTrain, yTrain)\n",
    "    print(f\"GMM-full ({k}) accuracy:  {gmmacc[k]:.4f}  [ {gmmaccTrain[k]:4f} on train]\")"
   ]
  },
  {
   "cell_type": "markdown",
   "metadata": {},
   "source": [
    "---\n",
    "\n",
    "## <font color=red>Question 3 </font>\n",
    "Explore the model space with different settings: varying number of components across classes (required), covariance matrix restrictions (required), initialization of GMM, convergence criteria of training, etc\n",
    "- Report the setting and val accuracy of your single **best model**.\n",
    "- Describe (in detail) the **trend in accuracies** (train and val) across settings\n",
    "- Describe (in detail) the **trend in visualized cluster** (displayed by the showMeans function) across settings\n",
    "\n",
    "\n",
    "## <font color=red>Answer</font>\n",
    "- My best model was:\n",
    " - train acc: 0.892860\n",
    " - val acc: 0.8341\n",
    " - 5 components, full covariance matrix, eps=2e-3, max_iter=50\n",
    " - Initialized with uniform priors on cluster & covariance initialized to identity matrix\n",
    " \n",
    "- The accuracy trended higher with the full covariance matrix vs the diagonal one. It also trended higher from 1 to 5 components but after 5 the validation accuracy stagnated. The accuracy also improved upon initializing uniform priors for the different models. Initializing the covariance matrix as the identity matrix instead of a random diagonal also helped, though not as much as with the uniform priors.\n",
    "\n",
    "- The visualized clusters for models with more than 1 cluster clearly showed that the different models specialized in different types of clothing of the same category, presumably to better model them. For example, the bag category in the 3 mixture model with diagonal had a visualization that looked like a purse, one that looked like a tote bag, and one that looked like a briefcase. With too few models, these different subcategories seem to get averaged together an dthe images are less 'sharp' than the multimodel ones. With too many clusters there seems to be too much overlap between clusters, and sum visualizations look identical.\n"
   ]
  },
  {
   "cell_type": "code",
   "execution_count": null,
   "metadata": {},
   "outputs": [],
   "source": []
  }
 ],
 "metadata": {
  "kernelspec": {
   "display_name": "Python 3",
   "language": "python",
   "name": "python3"
  },
  "language_info": {
   "codemirror_mode": {
    "name": "ipython",
    "version": 3
   },
   "file_extension": ".py",
   "mimetype": "text/x-python",
   "name": "python",
   "nbconvert_exporter": "python",
   "pygments_lexer": "ipython3",
   "version": "3.9.0"
  }
 },
 "nbformat": 4,
 "nbformat_minor": 1
}
