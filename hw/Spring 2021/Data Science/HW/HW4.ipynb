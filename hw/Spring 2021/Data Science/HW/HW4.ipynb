{
 "cells": [
  {
   "cell_type": "code",
   "execution_count": 3,
   "metadata": {},
   "outputs": [
    {
     "name": "stderr",
     "output_type": "stream",
     "text": [
      "\n",
      "Attaching package: 'dplyr'\n",
      "\n",
      "\n",
      "The following objects are masked from 'package:stats':\n",
      "\n",
      "    filter, lag\n",
      "\n",
      "\n",
      "The following objects are masked from 'package:base':\n",
      "\n",
      "    intersect, setdiff, setequal, union\n",
      "\n",
      "\n"
     ]
    }
   ],
   "source": [
    "library(dplyr)"
   ]
  },
  {
   "cell_type": "code",
   "execution_count": 4,
   "metadata": {},
   "outputs": [],
   "source": [
    "#Read datasets\n",
    "#Download the data from http://www.saedsayad.com/datasets/CreditData.zip\n",
    "train <- read.csv(\"Credit_train.csv\")\n",
    "test <- read.csv(\"Credit_test.csv\")"
   ]
  },
  {
   "cell_type": "code",
   "execution_count": 5,
   "metadata": {},
   "outputs": [
    {
     "data": {
      "text/html": [
       "<table class=\"dataframe\">\n",
       "<caption>A data.frame: 6 × 6</caption>\n",
       "<thead>\n",
       "\t<tr><th></th><th scope=col>BUSAGE</th><th scope=col>BUSTYPE</th><th scope=col>MAXLINEUTIL</th><th scope=col>DAYSDELQ</th><th scope=col>TOTACBAL</th><th scope=col>DEFAULT</th></tr>\n",
       "\t<tr><th></th><th scope=col>&lt;int&gt;</th><th scope=col>&lt;chr&gt;</th><th scope=col>&lt;dbl&gt;</th><th scope=col>&lt;int&gt;</th><th scope=col>&lt;dbl&gt;</th><th scope=col>&lt;chr&gt;</th></tr>\n",
       "</thead>\n",
       "<tbody>\n",
       "\t<tr><th scope=row>1</th><td>183</td><td>B</td><td>0</td><td>0</td><td>0.24</td><td>N</td></tr>\n",
       "\t<tr><th scope=row>2</th><td>271</td><td>E</td><td>0</td><td>0</td><td>1.37</td><td>N</td></tr>\n",
       "\t<tr><th scope=row>3</th><td> 51</td><td>A</td><td>0</td><td>0</td><td>1.52</td><td>N</td></tr>\n",
       "\t<tr><th scope=row>4</th><td>208</td><td>A</td><td>0</td><td>0</td><td>1.64</td><td>N</td></tr>\n",
       "\t<tr><th scope=row>5</th><td>148</td><td>A</td><td>0</td><td>0</td><td>1.78</td><td>N</td></tr>\n",
       "\t<tr><th scope=row>6</th><td> 82</td><td>D</td><td>0</td><td>0</td><td>1.88</td><td>N</td></tr>\n",
       "</tbody>\n",
       "</table>\n"
      ],
      "text/latex": [
       "A data.frame: 6 × 6\n",
       "\\begin{tabular}{r|llllll}\n",
       "  & BUSAGE & BUSTYPE & MAXLINEUTIL & DAYSDELQ & TOTACBAL & DEFAULT\\\\\n",
       "  & <int> & <chr> & <dbl> & <int> & <dbl> & <chr>\\\\\n",
       "\\hline\n",
       "\t1 & 183 & B & 0 & 0 & 0.24 & N\\\\\n",
       "\t2 & 271 & E & 0 & 0 & 1.37 & N\\\\\n",
       "\t3 &  51 & A & 0 & 0 & 1.52 & N\\\\\n",
       "\t4 & 208 & A & 0 & 0 & 1.64 & N\\\\\n",
       "\t5 & 148 & A & 0 & 0 & 1.78 & N\\\\\n",
       "\t6 &  82 & D & 0 & 0 & 1.88 & N\\\\\n",
       "\\end{tabular}\n"
      ],
      "text/markdown": [
       "\n",
       "A data.frame: 6 × 6\n",
       "\n",
       "| <!--/--> | BUSAGE &lt;int&gt; | BUSTYPE &lt;chr&gt; | MAXLINEUTIL &lt;dbl&gt; | DAYSDELQ &lt;int&gt; | TOTACBAL &lt;dbl&gt; | DEFAULT &lt;chr&gt; |\n",
       "|---|---|---|---|---|---|---|\n",
       "| 1 | 183 | B | 0 | 0 | 0.24 | N |\n",
       "| 2 | 271 | E | 0 | 0 | 1.37 | N |\n",
       "| 3 |  51 | A | 0 | 0 | 1.52 | N |\n",
       "| 4 | 208 | A | 0 | 0 | 1.64 | N |\n",
       "| 5 | 148 | A | 0 | 0 | 1.78 | N |\n",
       "| 6 |  82 | D | 0 | 0 | 1.88 | N |\n",
       "\n"
      ],
      "text/plain": [
       "  BUSAGE BUSTYPE MAXLINEUTIL DAYSDELQ TOTACBAL DEFAULT\n",
       "1 183    B       0           0        0.24     N      \n",
       "2 271    E       0           0        1.37     N      \n",
       "3  51    A       0           0        1.52     N      \n",
       "4 208    A       0           0        1.64     N      \n",
       "5 148    A       0           0        1.78     N      \n",
       "6  82    D       0           0        1.88     N      "
      ]
     },
     "metadata": {},
     "output_type": "display_data"
    },
    {
     "data": {
      "text/html": [
       "<table class=\"dataframe\">\n",
       "<caption>A data.frame: 6 × 6</caption>\n",
       "<thead>\n",
       "\t<tr><th></th><th scope=col>BUSAGE</th><th scope=col>BUSTYPE</th><th scope=col>MAXLINEUTIL</th><th scope=col>DAYSDELQ</th><th scope=col>TOTACBAL</th><th scope=col>DEFAULT</th></tr>\n",
       "\t<tr><th></th><th scope=col>&lt;int&gt;</th><th scope=col>&lt;chr&gt;</th><th scope=col>&lt;dbl&gt;</th><th scope=col>&lt;int&gt;</th><th scope=col>&lt;dbl&gt;</th><th scope=col>&lt;chr&gt;</th></tr>\n",
       "</thead>\n",
       "<tbody>\n",
       "\t<tr><th scope=row>1</th><td>354</td><td>A</td><td>3.0425</td><td>0</td><td>152125.6</td><td>N</td></tr>\n",
       "\t<tr><th scope=row>2</th><td> 99</td><td>A</td><td>0.0000</td><td>0</td><td>151060.9</td><td>N</td></tr>\n",
       "\t<tr><th scope=row>3</th><td>100</td><td>A</td><td>2.4507</td><td>0</td><td>122538.6</td><td>N</td></tr>\n",
       "\t<tr><th scope=row>4</th><td> 85</td><td>C</td><td>1.1397</td><td>0</td><td>113975.4</td><td>N</td></tr>\n",
       "\t<tr><th scope=row>5</th><td> 82</td><td>A</td><td>1.1241</td><td>0</td><td>112415.7</td><td>N</td></tr>\n",
       "\t<tr><th scope=row>6</th><td> 62</td><td>A</td><td>0.0000</td><td>0</td><td>106760.2</td><td>Y</td></tr>\n",
       "</tbody>\n",
       "</table>\n"
      ],
      "text/latex": [
       "A data.frame: 6 × 6\n",
       "\\begin{tabular}{r|llllll}\n",
       "  & BUSAGE & BUSTYPE & MAXLINEUTIL & DAYSDELQ & TOTACBAL & DEFAULT\\\\\n",
       "  & <int> & <chr> & <dbl> & <int> & <dbl> & <chr>\\\\\n",
       "\\hline\n",
       "\t1 & 354 & A & 3.0425 & 0 & 152125.6 & N\\\\\n",
       "\t2 &  99 & A & 0.0000 & 0 & 151060.9 & N\\\\\n",
       "\t3 & 100 & A & 2.4507 & 0 & 122538.6 & N\\\\\n",
       "\t4 &  85 & C & 1.1397 & 0 & 113975.4 & N\\\\\n",
       "\t5 &  82 & A & 1.1241 & 0 & 112415.7 & N\\\\\n",
       "\t6 &  62 & A & 0.0000 & 0 & 106760.2 & Y\\\\\n",
       "\\end{tabular}\n"
      ],
      "text/markdown": [
       "\n",
       "A data.frame: 6 × 6\n",
       "\n",
       "| <!--/--> | BUSAGE &lt;int&gt; | BUSTYPE &lt;chr&gt; | MAXLINEUTIL &lt;dbl&gt; | DAYSDELQ &lt;int&gt; | TOTACBAL &lt;dbl&gt; | DEFAULT &lt;chr&gt; |\n",
       "|---|---|---|---|---|---|---|\n",
       "| 1 | 354 | A | 3.0425 | 0 | 152125.6 | N |\n",
       "| 2 |  99 | A | 0.0000 | 0 | 151060.9 | N |\n",
       "| 3 | 100 | A | 2.4507 | 0 | 122538.6 | N |\n",
       "| 4 |  85 | C | 1.1397 | 0 | 113975.4 | N |\n",
       "| 5 |  82 | A | 1.1241 | 0 | 112415.7 | N |\n",
       "| 6 |  62 | A | 0.0000 | 0 | 106760.2 | Y |\n",
       "\n"
      ],
      "text/plain": [
       "  BUSAGE BUSTYPE MAXLINEUTIL DAYSDELQ TOTACBAL DEFAULT\n",
       "1 354    A       3.0425      0        152125.6 N      \n",
       "2  99    A       0.0000      0        151060.9 N      \n",
       "3 100    A       2.4507      0        122538.6 N      \n",
       "4  85    C       1.1397      0        113975.4 N      \n",
       "5  82    A       1.1241      0        112415.7 N      \n",
       "6  62    A       0.0000      0        106760.2 Y      "
      ]
     },
     "metadata": {},
     "output_type": "display_data"
    }
   ],
   "source": [
    "#Show  \n",
    "head(train)\n",
    "head(test)"
   ]
  },
  {
   "cell_type": "code",
   "execution_count": 6,
   "metadata": {},
   "outputs": [],
   "source": [
    "#-------\n",
    "# ZeroR\n",
    "#-------\n",
    "\n",
    "#train\n",
    "train.frq <- table(train$DEFAULT)\n",
    "max.frq <- which.max(train.frq)\n",
    "model.zeror <- names(max.frq)\n",
    "\n",
    "#test\n",
    "test.count <- length(test$DEFAULT)\n",
    "test.error <- length(which(test$DEFAULT != model.zeror))\n",
    "test.accuracy <- 1-(test.error/test.count)"
   ]
  },
  {
   "cell_type": "code",
   "execution_count": 7,
   "metadata": {},
   "outputs": [
    {
     "data": {
      "text/html": [
       "0.93085407239819"
      ],
      "text/latex": [
       "0.93085407239819"
      ],
      "text/markdown": [
       "0.93085407239819"
      ],
      "text/plain": [
       "[1] 0.9308541"
      ]
     },
     "metadata": {},
     "output_type": "display_data"
    }
   ],
   "source": [
    "test.accuracy"
   ]
  },
  {
   "cell_type": "code",
   "execution_count": 12,
   "metadata": {},
   "outputs": [
    {
     "name": "stdout",
     "output_type": "stream",
     "text": [
      "\n",
      "    Attribute   Accuracy\n",
      "1 * DAYSDELQ    91.67%  \n",
      "2   BUSAGE      91.39%  \n",
      "2   BUSTYPE     91.39%  \n",
      "2   MAXLINEUTIL 91.39%  \n",
      "2   TOTACBAL    91.39%  \n",
      "---\n",
      "Chosen attribute due to accuracy\n",
      "and ties method (if applicable): '*'\n",
      "\n",
      "\n",
      "Call:\n",
      "OneR.formula(formula = DEFAULT ~ ., data = train.bin, verbose = TRUE)\n",
      "\n",
      "Rules:\n",
      "If DAYSDELQ = (-0.548,3.77] then DEFAULT = N\n",
      "If DAYSDELQ = (3.77,549]    then DEFAULT = Y\n",
      "\n",
      "Accuracy:\n",
      "17425 of 19009 instances classified correctly (91.67%)\n",
      "\n",
      "Contingency table:\n",
      "       DAYSDELQ\n",
      "DEFAULT (-0.548,3.77] (3.77,549]   Sum\n",
      "    N         * 17333         40 17373\n",
      "    Y            1544       * 92  1636\n",
      "    Sum         18877        132 19009\n",
      "---\n",
      "Maximum in each column: '*'\n",
      "\n",
      "Pearson's Chi-squared test:\n",
      "X-squared = 622.88, df = 1, p-value < 2.2e-16\n",
      "\n",
      "\n",
      "Confusion matrix (absolute):\n",
      "          Actual\n",
      "Prediction    N    Y  Sum\n",
      "       N   4286  391 4677\n",
      "       Y     11   18   29\n",
      "       Sum 4297  409 4706\n",
      "\n",
      "Confusion matrix (relative):\n",
      "          Actual\n",
      "Prediction    N    Y  Sum\n",
      "       N   0.91 0.08 0.99\n",
      "       Y   0.00 0.00 0.01\n",
      "       Sum 0.91 0.09 1.00\n",
      "\n",
      "Accuracy:\n",
      "0.9146 (4304/4706)\n",
      "\n",
      "Error rate:\n",
      "0.0854 (402/4706)\n",
      "\n",
      "Error rate reduction (vs. base rate):\n",
      "0.0171 (p-value = 0.3707)\n",
      "\n"
     ]
    },
    {
     "data": {
      "image/png": "[encoded data removed]",
      "text/plain": [
       "Plot with title \"OneR model diagnostic plot\""
      ]
     },
     "metadata": {
      "image/png": {
       "height": 420,
       "width": 420
      }
     },
     "output_type": "display_data"
    }
   ],
   "source": [
    "#------\n",
    "# OneR\n",
    "#------\n",
    "library(OneR)\n",
    "#remove all records with missing values\n",
    "train <- na.omit(train)\n",
    "test <- na.omit(test)\n",
    "\n",
    "#binning the numerical variable\n",
    "train.bin <- optbin(train)\n",
    "\n",
    "#train\n",
    "model.OneR <- OneR(DEFAULT~., data = train.bin, verbose = TRUE)\n",
    "summary(model.OneR)\n",
    "plot(model.OneR)\n",
    "\n",
    "#test\n",
    "pc <-NULL\n",
    "pc <- predict(model.OneR, test, type = \"class\")\n",
    "eval_model(pc,test)"
   ]
  },
  {
   "cell_type": "code",
   "execution_count": 13,
   "metadata": {},
   "outputs": [
    {
     "data": {
      "text/plain": [
       "\n",
       "Naive Bayes Classifier for Discrete Predictors\n",
       "\n",
       "Call:\n",
       "naiveBayes.default(x = X, y = Y, laplace = laplace)\n",
       "\n",
       "A-priori probabilities:\n",
       "Y\n",
       "        N         Y \n",
       "0.9139355 0.0860645 \n",
       "\n",
       "Conditional probabilities:\n",
       "   BUSAGE\n",
       "Y        [,1]      [,2]\n",
       "  N 116.88465 105.44440\n",
       "  Y  85.82885  84.05731\n",
       "\n",
       "   BUSTYPE\n",
       "Y              A            B            C            D            E\n",
       "  N 0.6068612214 0.2442295516 0.0622805503 0.0828296782 0.0009785299\n",
       "  Y 0.6075794621 0.2652811736 0.0470660147 0.0757946210 0.0006112469\n",
       "   BUSTYPE\n",
       "Y              F\n",
       "  N 0.0028204685\n",
       "  Y 0.0036674817\n",
       "\n",
       "   MAXLINEUTIL\n",
       "Y        [,1]      [,2]\n",
       "  N 0.4498486 0.4116061\n",
       "  Y 0.7775695 0.5188270\n",
       "\n",
       "   DAYSDELQ\n",
       "Y         [,1]      [,2]\n",
       "  N 0.08311748  2.045589\n",
       "  Y 3.76711491 23.109555\n",
       "\n",
       "   TOTACBAL\n",
       "Y       [,1]     [,2]\n",
       "  N 22791.31 22537.03\n",
       "  Y 27707.46 23662.82\n"
      ]
     },
     "metadata": {},
     "output_type": "display_data"
    },
    {
     "data": {
      "text/html": [],
      "text/latex": [],
      "text/markdown": [],
      "text/plain": [
       "integer(0)"
      ]
     },
     "metadata": {},
     "output_type": "display_data"
    },
    {
     "ename": "ERROR",
     "evalue": "Error in table(pc, test$DEFAULT): all arguments must have the same length\n",
     "output_type": "error",
     "traceback": [
      "Error in table(pc, test$DEFAULT): all arguments must have the same length\nTraceback:\n",
      "1. table(pc, test$DEFAULT)",
      "2. stop(\"all arguments must have the same length\")"
     ]
    }
   ],
   "source": [
    "#----------\n",
    "# Bayesian\n",
    "#----------\n",
    "library(caret)\n",
    "library(e1071)\n",
    "library(AUC)\n",
    "\n",
    "#train\n",
    "model.Bayes <- naiveBayes(DEFAULT~., data = train)\n",
    "model.Bayes\n",
    "\n",
    "#test\n",
    "pc <-NULL\n",
    "pc <- predict(model.Bayes, test, type = \"class\")\n",
    "summary(pc)\n",
    "xtab <- table(pc, test$DEFAULT)\n",
    "caret::confusionMatrix(xtab, positive = \"Y\")\n",
    "\n",
    "#lift chart\n",
    "pb <-NULL\n",
    "pb <- predict(model.Bayes, test, type = \"raw\")\n",
    "pb <- as.data.frame(pb)\n",
    "pred.Bayes <- data.frame(test$DEFAULT,pb$Y)\n",
    "colnames(pred.Bayes) <- c(\"target\",\"score\")\n",
    "lift.Bayes <- lift(target ~ score, data = pred.Bayes, cuts=10, class=\"Y\")\n",
    "xyplot(lift.Bayes, main=\"Bayesian Classifier - Lift Chart\", type=c(\"l\",\"g\"), lwd=2\n",
    "       , scales=list(x=list(alternating=FALSE,tick.number = 10)\n",
    "                     ,y=list(alternating=FALSE,tick.number = 10)))\n",
    "\n",
    "\n",
    "#roc chart\n",
    "labels <- as.factor(ifelse(pred.Bayes$target==\"Y\", 1, 0))\n",
    "predictions <- pred.Bayes$score\n",
    "auc(roc(predictions, labels), min = 0, max = 1)\n",
    "plot(roc(predictions, labels), min=0, max=1, type=\"l\", main=\"Bayesian Classifier - ROC Chart\")"
   ]
  },
  {
   "cell_type": "code",
   "execution_count": 14,
   "metadata": {},
   "outputs": [
    {
     "ename": "ERROR",
     "evalue": "Error in lift.formula(target ~ score, data = pred.Dtree, cuts = 10, class = \"Y\"): the left-hand side of the formula must be a factor of classes\n",
     "output_type": "error",
     "traceback": [
      "Error in lift.formula(target ~ score, data = pred.Dtree, cuts = 10, class = \"Y\"): the left-hand side of the formula must be a factor of classes\nTraceback:\n",
      "1. lift(target ~ score, data = pred.Dtree, cuts = 10, class = \"Y\")",
      "2. lift.formula(target ~ score, data = pred.Dtree, cuts = 10, class = \"Y\")",
      "3. stop(\"the left-hand side of the formula must be a factor of classes\")"
     ]
    },
    {
     "data": {
      "image/png": "[encoded data removed]",
      "text/plain": [
       "plot without title"
      ]
     },
     "metadata": {
      "image/png": {
       "height": 420,
       "width": 420
      }
     },
     "output_type": "display_data"
    }
   ],
   "source": [
    "#---------------\n",
    "# Decision tree\n",
    "#---------------\n",
    "library(caret)\n",
    "library(rpart)\n",
    "library(rpart.plot)\t\n",
    "library(AUC)\n",
    "\n",
    "#train\n",
    "model.Dtree <- rpart(DEFAULT~., data = train, method=\"class\")\n",
    "prp(model.Dtree)\n",
    "\n",
    "#lift chart\n",
    "pb <- NULL\n",
    "pb <- predict(model.Dtree, test)\n",
    "pb <- as.data.frame(pb)\n",
    "pred.Dtree <- data.frame(test$DEFAULT, pb$Y)\n",
    "colnames(pred.Dtree) <- c(\"target\",\"score\")\n",
    "lift.Dtree <- lift(target ~ score, data = pred.Dtree, cuts=10, class=\"Y\")\n",
    "xyplot(lift.Dtree, main=\"Decision Tree - Lift Chart\", type=c(\"l\",\"g\"), lwd=2\n",
    "       , scales=list(x=list(alternating=FALSE,tick.number = 10)\n",
    "                     ,y=list(alternating=FALSE,tick.number = 10)))\n",
    "\n",
    "#confusion matrix\n",
    "pc <- NULL\n",
    "pc <- ifelse(pb$N > pb$Y, \"N\", \"Y\")\n",
    "summary(as.data.frame(pc))\n",
    "xtab <- table(pc, test$DEFAULT)\n",
    "caret::confusionMatrix(xtab, positive = \"Y\")\n",
    "\n",
    "#roc chart\n",
    "labels <- as.factor(ifelse(pred.Dtree$target==\"Y\", 1, 0))\n",
    "predictions <- pred.Dtree$score\n",
    "auc(roc(predictions, labels), min = 0, max = 1)\n",
    "plot(roc(predictions, labels), min=0, max=1, type=\"l\", main=\"Decision Tree - ROC Chart\")"
   ]
  },
  {
   "cell_type": "code",
   "execution_count": null,
   "metadata": {},
   "outputs": [],
   "source": []
  }
 ],
 "metadata": {
  "kernelspec": {
   "display_name": "R",
   "language": "R",
   "name": "ir"
  },
  "language_info": {
   "codemirror_mode": "r",
   "file_extension": ".r",
   "mimetype": "text/x-r-source",
   "name": "R",
   "pygments_lexer": "r",
   "version": "4.0.3"
  }
 },
 "nbformat": 4,
 "nbformat_minor": 4
}
