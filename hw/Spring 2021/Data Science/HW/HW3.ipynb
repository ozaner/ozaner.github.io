{
 "cells": [
  {
   "cell_type": "code",
   "execution_count": 1,
   "metadata": {},
   "outputs": [
    {
     "name": "stderr",
     "output_type": "stream",
     "text": [
      "\n",
      "Attaching package: 'dplyr'\n",
      "\n",
      "\n",
      "The following objects are masked from 'package:stats':\n",
      "\n",
      "    filter, lag\n",
      "\n",
      "\n",
      "The following objects are masked from 'package:base':\n",
      "\n",
      "    intersect, setdiff, setequal, union\n",
      "\n",
      "\n"
     ]
    }
   ],
   "source": [
    "library(dplyr)"
   ]
  },
  {
   "cell_type": "code",
   "execution_count": 2,
   "metadata": {},
   "outputs": [],
   "source": [
    "#------------------\n",
    "# Data Preparation\n",
    "#------------------"
   ]
  },
  {
   "cell_type": "code",
   "execution_count": 3,
   "metadata": {},
   "outputs": [],
   "source": [
    "#Read datasets\n",
    "#Download the data from http://www.saedsayad.com/datasets/CreditData.zip\n",
    "train <- read.csv(\"Credit_train.csv\")\n",
    "test <- read.csv(\"Credit_test.csv\")"
   ]
  },
  {
   "cell_type": "code",
   "execution_count": 6,
   "metadata": {},
   "outputs": [
    {
     "data": {
      "text/html": [
       "<table class=\"dataframe\">\n",
       "<caption>A data.frame: 6 × 6</caption>\n",
       "<thead>\n",
       "\t<tr><th></th><th scope=col>BUSAGE</th><th scope=col>BUSTYPE</th><th scope=col>MAXLINEUTIL</th><th scope=col>DAYSDELQ</th><th scope=col>TOTACBAL</th><th scope=col>DEFAULT</th></tr>\n",
       "\t<tr><th></th><th scope=col>&lt;int&gt;</th><th scope=col>&lt;chr&gt;</th><th scope=col>&lt;dbl&gt;</th><th scope=col>&lt;int&gt;</th><th scope=col>&lt;dbl&gt;</th><th scope=col>&lt;chr&gt;</th></tr>\n",
       "</thead>\n",
       "<tbody>\n",
       "\t<tr><th scope=row>1</th><td>183</td><td>B</td><td>0</td><td>0</td><td>0.24</td><td>N</td></tr>\n",
       "\t<tr><th scope=row>2</th><td>271</td><td>E</td><td>0</td><td>0</td><td>1.37</td><td>N</td></tr>\n",
       "\t<tr><th scope=row>3</th><td> 51</td><td>A</td><td>0</td><td>0</td><td>1.52</td><td>N</td></tr>\n",
       "\t<tr><th scope=row>4</th><td>208</td><td>A</td><td>0</td><td>0</td><td>1.64</td><td>N</td></tr>\n",
       "\t<tr><th scope=row>5</th><td>148</td><td>A</td><td>0</td><td>0</td><td>1.78</td><td>N</td></tr>\n",
       "\t<tr><th scope=row>6</th><td> 82</td><td>D</td><td>0</td><td>0</td><td>1.88</td><td>N</td></tr>\n",
       "</tbody>\n",
       "</table>\n"
      ],
      "text/latex": [
       "A data.frame: 6 × 6\n",
       "\\begin{tabular}{r|llllll}\n",
       "  & BUSAGE & BUSTYPE & MAXLINEUTIL & DAYSDELQ & TOTACBAL & DEFAULT\\\\\n",
       "  & <int> & <chr> & <dbl> & <int> & <dbl> & <chr>\\\\\n",
       "\\hline\n",
       "\t1 & 183 & B & 0 & 0 & 0.24 & N\\\\\n",
       "\t2 & 271 & E & 0 & 0 & 1.37 & N\\\\\n",
       "\t3 &  51 & A & 0 & 0 & 1.52 & N\\\\\n",
       "\t4 & 208 & A & 0 & 0 & 1.64 & N\\\\\n",
       "\t5 & 148 & A & 0 & 0 & 1.78 & N\\\\\n",
       "\t6 &  82 & D & 0 & 0 & 1.88 & N\\\\\n",
       "\\end{tabular}\n"
      ],
      "text/markdown": [
       "\n",
       "A data.frame: 6 × 6\n",
       "\n",
       "| <!--/--> | BUSAGE &lt;int&gt; | BUSTYPE &lt;chr&gt; | MAXLINEUTIL &lt;dbl&gt; | DAYSDELQ &lt;int&gt; | TOTACBAL &lt;dbl&gt; | DEFAULT &lt;chr&gt; |\n",
       "|---|---|---|---|---|---|---|\n",
       "| 1 | 183 | B | 0 | 0 | 0.24 | N |\n",
       "| 2 | 271 | E | 0 | 0 | 1.37 | N |\n",
       "| 3 |  51 | A | 0 | 0 | 1.52 | N |\n",
       "| 4 | 208 | A | 0 | 0 | 1.64 | N |\n",
       "| 5 | 148 | A | 0 | 0 | 1.78 | N |\n",
       "| 6 |  82 | D | 0 | 0 | 1.88 | N |\n",
       "\n"
      ],
      "text/plain": [
       "  BUSAGE BUSTYPE MAXLINEUTIL DAYSDELQ TOTACBAL DEFAULT\n",
       "1 183    B       0           0        0.24     N      \n",
       "2 271    E       0           0        1.37     N      \n",
       "3  51    A       0           0        1.52     N      \n",
       "4 208    A       0           0        1.64     N      \n",
       "5 148    A       0           0        1.78     N      \n",
       "6  82    D       0           0        1.88     N      "
      ]
     },
     "metadata": {},
     "output_type": "display_data"
    },
    {
     "data": {
      "text/html": [
       "<table class=\"dataframe\">\n",
       "<caption>A data.frame: 6 × 6</caption>\n",
       "<thead>\n",
       "\t<tr><th></th><th scope=col>BUSAGE</th><th scope=col>BUSTYPE</th><th scope=col>MAXLINEUTIL</th><th scope=col>DAYSDELQ</th><th scope=col>TOTACBAL</th><th scope=col>DEFAULT</th></tr>\n",
       "\t<tr><th></th><th scope=col>&lt;int&gt;</th><th scope=col>&lt;chr&gt;</th><th scope=col>&lt;dbl&gt;</th><th scope=col>&lt;int&gt;</th><th scope=col>&lt;dbl&gt;</th><th scope=col>&lt;chr&gt;</th></tr>\n",
       "</thead>\n",
       "<tbody>\n",
       "\t<tr><th scope=row>1</th><td>354</td><td>A</td><td>3.0425</td><td>0</td><td>152125.6</td><td>N</td></tr>\n",
       "\t<tr><th scope=row>2</th><td> 99</td><td>A</td><td>0.0000</td><td>0</td><td>151060.9</td><td>N</td></tr>\n",
       "\t<tr><th scope=row>3</th><td>100</td><td>A</td><td>2.4507</td><td>0</td><td>122538.6</td><td>N</td></tr>\n",
       "\t<tr><th scope=row>4</th><td> 85</td><td>C</td><td>1.1397</td><td>0</td><td>113975.4</td><td>N</td></tr>\n",
       "\t<tr><th scope=row>5</th><td> 82</td><td>A</td><td>1.1241</td><td>0</td><td>112415.7</td><td>N</td></tr>\n",
       "\t<tr><th scope=row>6</th><td> 62</td><td>A</td><td>0.0000</td><td>0</td><td>106760.2</td><td>Y</td></tr>\n",
       "</tbody>\n",
       "</table>\n"
      ],
      "text/latex": [
       "A data.frame: 6 × 6\n",
       "\\begin{tabular}{r|llllll}\n",
       "  & BUSAGE & BUSTYPE & MAXLINEUTIL & DAYSDELQ & TOTACBAL & DEFAULT\\\\\n",
       "  & <int> & <chr> & <dbl> & <int> & <dbl> & <chr>\\\\\n",
       "\\hline\n",
       "\t1 & 354 & A & 3.0425 & 0 & 152125.6 & N\\\\\n",
       "\t2 &  99 & A & 0.0000 & 0 & 151060.9 & N\\\\\n",
       "\t3 & 100 & A & 2.4507 & 0 & 122538.6 & N\\\\\n",
       "\t4 &  85 & C & 1.1397 & 0 & 113975.4 & N\\\\\n",
       "\t5 &  82 & A & 1.1241 & 0 & 112415.7 & N\\\\\n",
       "\t6 &  62 & A & 0.0000 & 0 & 106760.2 & Y\\\\\n",
       "\\end{tabular}\n"
      ],
      "text/markdown": [
       "\n",
       "A data.frame: 6 × 6\n",
       "\n",
       "| <!--/--> | BUSAGE &lt;int&gt; | BUSTYPE &lt;chr&gt; | MAXLINEUTIL &lt;dbl&gt; | DAYSDELQ &lt;int&gt; | TOTACBAL &lt;dbl&gt; | DEFAULT &lt;chr&gt; |\n",
       "|---|---|---|---|---|---|---|\n",
       "| 1 | 354 | A | 3.0425 | 0 | 152125.6 | N |\n",
       "| 2 |  99 | A | 0.0000 | 0 | 151060.9 | N |\n",
       "| 3 | 100 | A | 2.4507 | 0 | 122538.6 | N |\n",
       "| 4 |  85 | C | 1.1397 | 0 | 113975.4 | N |\n",
       "| 5 |  82 | A | 1.1241 | 0 | 112415.7 | N |\n",
       "| 6 |  62 | A | 0.0000 | 0 | 106760.2 | Y |\n",
       "\n"
      ],
      "text/plain": [
       "  BUSAGE BUSTYPE MAXLINEUTIL DAYSDELQ TOTACBAL DEFAULT\n",
       "1 354    A       3.0425      0        152125.6 N      \n",
       "2  99    A       0.0000      0        151060.9 N      \n",
       "3 100    A       2.4507      0        122538.6 N      \n",
       "4  85    C       1.1397      0        113975.4 N      \n",
       "5  82    A       1.1241      0        112415.7 N      \n",
       "6  62    A       0.0000      0        106760.2 Y      "
      ]
     },
     "metadata": {},
     "output_type": "display_data"
    }
   ],
   "source": [
    "#Show  \n",
    "head(train)\n",
    "head(test)"
   ]
  },
  {
   "cell_type": "code",
   "execution_count": 8,
   "metadata": {},
   "outputs": [
    {
     "data": {
      "image/png": "[encoded data removed]",
      "text/plain": [
       "plot without title"
      ]
     },
     "metadata": {
      "image/png": {
       "height": 420,
       "width": 420
      }
     },
     "output_type": "display_data"
    },
    {
     "data": {
      "image/png": "[encoded data removed]",
      "text/plain": [
       "plot without title"
      ]
     },
     "metadata": {
      "image/png": {
       "height": 420,
       "width": 420
      }
     },
     "output_type": "display_data"
    }
   ],
   "source": [
    "#-----------------------------------------------------------------\n",
    "# Data Exploration - Bivariate analysis - Numerical and Numerical\n",
    "#-----------------------------------------------------------------\n",
    "\n",
    "#BUSAGE, MAXLINEUTIL, DAYSDELQ, TOTACBA\n",
    "pairs(~BUSAGE+MAXLINEUTIL+DAYSDELQ+TOTACBAL, data=train, main=\"Scatterplot - train\", col=\"darkgreen\")\n",
    "\n",
    "pairs(~BUSAGE+MAXLINEUTIL+DAYSDELQ+TOTACBAL, data=test, main=\"Scatterplot - test\", col=\"brown\")"
   ]
  },
  {
   "cell_type": "code",
   "execution_count": 9,
   "metadata": {},
   "outputs": [
    {
     "data": {
      "text/html": [
       "0.0663020821665806"
      ],
      "text/latex": [
       "0.0663020821665806"
      ],
      "text/markdown": [
       "0.0663020821665806"
      ],
      "text/plain": [
       "[1] 0.06630208"
      ]
     },
     "metadata": {},
     "output_type": "display_data"
    },
    {
     "data": {
      "text/html": [
       "0.204104658954079"
      ],
      "text/latex": [
       "0.204104658954079"
      ],
      "text/markdown": [
       "0.204104658954079"
      ],
      "text/plain": [
       "[1] 0.2041047"
      ]
     },
     "metadata": {},
     "output_type": "display_data"
    },
    {
     "data": {
      "text/html": [
       "50.829063520195"
      ],
      "text/latex": [
       "50.829063520195"
      ],
      "text/markdown": [
       "50.829063520195"
      ],
      "text/plain": [
       "[1] 50.82906"
      ]
     },
     "metadata": {},
     "output_type": "display_data"
    },
    {
     "data": {
      "text/html": [
       "<table class=\"dataframe\">\n",
       "<caption>A matrix: 4 × 4 of type dbl</caption>\n",
       "<thead>\n",
       "\t<tr><th></th><th scope=col>BUSAGE</th><th scope=col>MAXLINEUTIL</th><th scope=col>DAYSDELQ</th><th scope=col>TOTACBAL</th></tr>\n",
       "</thead>\n",
       "<tbody>\n",
       "\t<tr><th scope=row>BUSAGE</th><td> 1.00000000</td><td>-0.04065150</td><td>-0.02358832</td><td> 0.07412353</td></tr>\n",
       "\t<tr><th scope=row>MAXLINEUTIL</th><td>-0.04065150</td><td> 1.00000000</td><td> 0.06630208</td><td> 0.51731645</td></tr>\n",
       "\t<tr><th scope=row>DAYSDELQ</th><td>-0.02358832</td><td> 0.06630208</td><td> 1.00000000</td><td>-0.03610716</td></tr>\n",
       "\t<tr><th scope=row>TOTACBAL</th><td> 0.07412353</td><td> 0.51731645</td><td>-0.03610716</td><td> 1.00000000</td></tr>\n",
       "</tbody>\n",
       "</table>\n"
      ],
      "text/latex": [
       "A matrix: 4 × 4 of type dbl\n",
       "\\begin{tabular}{r|llll}\n",
       "  & BUSAGE & MAXLINEUTIL & DAYSDELQ & TOTACBAL\\\\\n",
       "\\hline\n",
       "\tBUSAGE &  1.00000000 & -0.04065150 & -0.02358832 &  0.07412353\\\\\n",
       "\tMAXLINEUTIL & -0.04065150 &  1.00000000 &  0.06630208 &  0.51731645\\\\\n",
       "\tDAYSDELQ & -0.02358832 &  0.06630208 &  1.00000000 & -0.03610716\\\\\n",
       "\tTOTACBAL &  0.07412353 &  0.51731645 & -0.03610716 &  1.00000000\\\\\n",
       "\\end{tabular}\n"
      ],
      "text/markdown": [
       "\n",
       "A matrix: 4 × 4 of type dbl\n",
       "\n",
       "| <!--/--> | BUSAGE | MAXLINEUTIL | DAYSDELQ | TOTACBAL |\n",
       "|---|---|---|---|---|\n",
       "| BUSAGE |  1.00000000 | -0.04065150 | -0.02358832 |  0.07412353 |\n",
       "| MAXLINEUTIL | -0.04065150 |  1.00000000 |  0.06630208 |  0.51731645 |\n",
       "| DAYSDELQ | -0.02358832 |  0.06630208 |  1.00000000 | -0.03610716 |\n",
       "| TOTACBAL |  0.07412353 |  0.51731645 | -0.03610716 |  1.00000000 |\n",
       "\n"
      ],
      "text/plain": [
       "            BUSAGE      MAXLINEUTIL DAYSDELQ    TOTACBAL   \n",
       "BUSAGE       1.00000000 -0.04065150 -0.02358832  0.07412353\n",
       "MAXLINEUTIL -0.04065150  1.00000000  0.06630208  0.51731645\n",
       "DAYSDELQ    -0.02358832  0.06630208  1.00000000 -0.03610716\n",
       "TOTACBAL     0.07412353  0.51731645 -0.03610716  1.00000000"
      ]
     },
     "metadata": {},
     "output_type": "display_data"
    },
    {
     "data": {
      "text/html": [
       "<table class=\"dataframe\">\n",
       "<caption>A matrix: 4 × 4 of type dbl</caption>\n",
       "<thead>\n",
       "\t<tr><th></th><th scope=col>BUSAGE</th><th scope=col>MAXLINEUTIL</th><th scope=col>DAYSDELQ</th><th scope=col>TOTACBAL</th></tr>\n",
       "</thead>\n",
       "<tbody>\n",
       "\t<tr><th scope=row>BUSAGE</th><td> 10845.188336</td><td>  -1.8279521</td><td>  -17.5134428</td><td>   175052.573</td></tr>\n",
       "\t<tr><th scope=row>MAXLINEUTIL</th><td>    -1.827952</td><td>   0.1864401</td><td>    0.2041047</td><td>     5065.471</td></tr>\n",
       "\t<tr><th scope=row>DAYSDELQ</th><td>   -17.513443</td><td>   0.2041047</td><td>   50.8290635</td><td>    -5837.719</td></tr>\n",
       "\t<tr><th scope=row>TOTACBAL</th><td>175052.572956</td><td>5065.4711615</td><td>-5837.7194393</td><td>514265898.198</td></tr>\n",
       "</tbody>\n",
       "</table>\n"
      ],
      "text/latex": [
       "A matrix: 4 × 4 of type dbl\n",
       "\\begin{tabular}{r|llll}\n",
       "  & BUSAGE & MAXLINEUTIL & DAYSDELQ & TOTACBAL\\\\\n",
       "\\hline\n",
       "\tBUSAGE &  10845.188336 &   -1.8279521 &   -17.5134428 &    175052.573\\\\\n",
       "\tMAXLINEUTIL &     -1.827952 &    0.1864401 &     0.2041047 &      5065.471\\\\\n",
       "\tDAYSDELQ &    -17.513443 &    0.2041047 &    50.8290635 &     -5837.719\\\\\n",
       "\tTOTACBAL & 175052.572956 & 5065.4711615 & -5837.7194393 & 514265898.198\\\\\n",
       "\\end{tabular}\n"
      ],
      "text/markdown": [
       "\n",
       "A matrix: 4 × 4 of type dbl\n",
       "\n",
       "| <!--/--> | BUSAGE | MAXLINEUTIL | DAYSDELQ | TOTACBAL |\n",
       "|---|---|---|---|---|\n",
       "| BUSAGE |  10845.188336 |   -1.8279521 |   -17.5134428 |    175052.573 |\n",
       "| MAXLINEUTIL |     -1.827952 |    0.1864401 |     0.2041047 |      5065.471 |\n",
       "| DAYSDELQ |    -17.513443 |    0.2041047 |    50.8290635 |     -5837.719 |\n",
       "| TOTACBAL | 175052.572956 | 5065.4711615 | -5837.7194393 | 514265898.198 |\n",
       "\n"
      ],
      "text/plain": [
       "            BUSAGE        MAXLINEUTIL  DAYSDELQ      TOTACBAL     \n",
       "BUSAGE       10845.188336   -1.8279521   -17.5134428    175052.573\n",
       "MAXLINEUTIL     -1.827952    0.1864401     0.2041047      5065.471\n",
       "DAYSDELQ       -17.513443    0.2041047    50.8290635     -5837.719\n",
       "TOTACBAL    175052.572956 5065.4711615 -5837.7194393 514265898.198"
      ]
     },
     "metadata": {},
     "output_type": "display_data"
    }
   ],
   "source": [
    "#Correlation\n",
    "train <- na.omit(train)\n",
    "cor(train$DAYSDELQ,train$MAXLINEUTIL)\n",
    "\n",
    "#Covariance and Variance\n",
    "train <- na.omit(train)\n",
    "cov(train$DAYSDELQ,train$MAXLINEUTIL)\n",
    "var(train$DAYSDELQ,train$DAYSDELQ)\n",
    "\n",
    "#Correlation and Covariance matrix\n",
    "d <- train\n",
    "d$DEFAULT <- NULL\n",
    "d$BUSTYPE <- NULL\n",
    "cor(d)\n",
    "cov(d)"
   ]
  },
  {
   "cell_type": "code",
   "execution_count": 10,
   "metadata": {},
   "outputs": [
    {
     "data": {
      "image/png": "[encoded data removed]",
      "text/plain": [
       "Plot with title \"Type of small business\""
      ]
     },
     "metadata": {
      "image/png": {
       "height": 420,
       "width": 420
      }
     },
     "output_type": "display_data"
    },
    {
     "name": "stderr",
     "output_type": "stream",
     "text": [
      "Warning message in chisq.test(tbl):\n",
      "\"Chi-squared approximation may be incorrect\"\n"
     ]
    },
    {
     "data": {
      "text/plain": [
       "\n",
       "\tPearson's Chi-squared test\n",
       "\n",
       "data:  tbl\n",
       "X-squared = 9.8548, df = 5, p-value = 0.07946\n"
      ]
     },
     "metadata": {},
     "output_type": "display_data"
    },
    {
     "data": {
      "image/png": "[encoded data removed]",
      "text/plain": [
       "Plot with title \"Type of small business\""
      ]
     },
     "metadata": {
      "image/png": {
       "height": 420,
       "width": 420
      }
     },
     "output_type": "display_data"
    }
   ],
   "source": [
    "#---------------------------------------------------------------------\n",
    "# Data Exploration - Bivariate analysis - Categorical and Categorical\n",
    "#---------------------------------------------------------------------\n",
    "\n",
    "#DEFAULT and BUSTYPE\n",
    "x <- xtabs(~BUSTYPE+DEFAULT, data=train)\n",
    "plot(x, main=\"Type of small business\", sub=\"train\", col=\"darkgreen\")\n",
    "\n",
    "y <- xtabs(~BUSTYPE+DEFAULT, data=test)\n",
    "plot(y, main=\"Type of small business\", sub=\"test\", col=\"brown\")\n",
    "\n",
    "\n",
    "#Chi Squared test\n",
    "tbl <- table(train$DEFAULT, train$BUSTYPE)\n",
    "chisq.test(tbl)"
   ]
  },
  {
   "cell_type": "code",
   "execution_count": 14,
   "metadata": {},
   "outputs": [
    {
     "data": {
      "image/png": "[encoded data removed]",
      "text/plain": [
       "Plot with title \"Maximum number of lines being utilized\""
      ]
     },
     "metadata": {
      "image/png": {
       "height": 420,
       "width": 420
      }
     },
     "output_type": "display_data"
    },
    {
     "data": {
      "image/png": "[encoded data removed]",
      "text/plain": [
       "Plot with title \"Maximum number of lines being utilized\""
      ]
     },
     "metadata": {
      "image/png": {
       "height": 420,
       "width": 420
      }
     },
     "output_type": "display_data"
    },
    {
     "data": {
      "image/png": "[encoded data removed]",
      "text/plain": [
       "Plot with title \"Number of delinquent days\""
      ]
     },
     "metadata": {
      "image/png": {
       "height": 420,
       "width": 420
      }
     },
     "output_type": "display_data"
    },
    {
     "data": {
      "image/png": "[encoded data removed]",
      "text/plain": [
       "Plot with title \"Number of delinquent days\""
      ]
     },
     "metadata": {
      "image/png": {
       "height": 420,
       "width": 420
      }
     },
     "output_type": "display_data"
    },
    {
     "data": {
      "image/png": "[encoded data removed]",
      "text/plain": [
       "Plot with title \"Total balance of business account\""
      ]
     },
     "metadata": {
      "image/png": {
       "height": 420,
       "width": 420
      }
     },
     "output_type": "display_data"
    },
    {
     "data": {
      "image/png": "[encoded data removed]",
      "text/plain": [
       "Plot with title \"Total balance of business account\""
      ]
     },
     "metadata": {
      "image/png": {
       "height": 420,
       "width": 420
      }
     },
     "output_type": "display_data"
    }
   ],
   "source": [
    "#-------------------------------------------------------------------\n",
    "# Data Exploration - Bivariate analysis - Categorical and Numerical\n",
    "#-------------------------------------------------------------------\n",
    "\n",
    "#DEFAULT and MAXLINEUTIL\n",
    "boxplot(MAXLINEUTIL~DEFAULT, data=train, main=\"Maximum number of lines being utilized\" \n",
    "        , sub=\"train\", col=\"darkgreen\", xlab=\"DEFAULT\", ylab=\"MAXLINEUTIL\")\n",
    "boxplot(MAXLINEUTIL~DEFAULT, data=test, main=\"Maximum number of lines being utilized\" \n",
    "        , sub=\"test\", col=\"brown\", xlab=\"DEFAULT\", ylab=\"MAXLINEUTIL\")\n",
    "\n",
    "#DEFAULT and DAYSDELQ\n",
    "boxplot(DAYSDELQ~DEFAULT, data=train, main=\"Number of delinquent days\" \n",
    "        , sub=\"train\", col=\"darkgreen\", xlab=\"DEFAULT\", ylab=\"DAYSDELQ\")\n",
    "boxplot(DAYSDELQ~DEFAULT, data=test, main=\"Number of delinquent days\" \n",
    "        , sub=\"test\", col=\"brown\", xlab=\"DEFAULT\", ylab=\"DAYSDELQ\")\n",
    "\n",
    "#DEFAULT and TOTACBAL\n",
    "boxplot(TOTACBAL~DEFAULT, data=train, main=\"Total balance of business account\" \n",
    "        , sub=\"train\", col=\"darkgreen\", xlab=\"DEFAULT\", ylab=\"TOTACBAL\")\n",
    "boxplot(TOTACBAL~DEFAULT, data=test, main=\"Total balance of business account\" \n",
    "        , sub=\"test\", col=\"brown\", xlab=\"DEFAULT\", ylab=\"TOTACBAL\")"
   ]
  },
  {
   "cell_type": "code",
   "execution_count": 17,
   "metadata": {},
   "outputs": [
    {
     "name": "stdout",
     "output_type": "stream",
     "text": [
      "[1] 6.445539\n",
      "[1] 1.151905e-10\n"
     ]
    }
   ],
   "source": [
    "#Z-test for two variables - DEFAULT and DAYSDELQ\n",
    "train <- na.omit(train)\n",
    "a <- subset(train$DAYSDELQ,train$DEFAULT=='Y')\n",
    "b <- subset(train$DAYSDELQ,train$DEFAULT=='N')\n",
    "n1 <- length(a)\n",
    "n2 <- length(b)\n",
    "z <- (mean(a) - mean(b)) / (sqrt(var(a)/n1 + var(b)/n2))\n",
    "pz <- 1-(pnorm(abs(z))-0.5)*2\n",
    "print(z)\n",
    "print(pz)"
   ]
  },
  {
   "cell_type": "code",
   "execution_count": 18,
   "metadata": {},
   "outputs": [
    {
     "name": "stdout",
     "output_type": "stream",
     "text": [
      "[1] 8.065861\n",
      "[1] 6.661338e-16\n"
     ]
    }
   ],
   "source": [
    "#Z-test for two variables - TOTACBAL and DEFAULT\n",
    "train <- na.omit(train)\n",
    "a <- subset(train$TOTACBAL,train$DEFAULT=='Y')\n",
    "b <- subset(train$TOTACBAL,train$DEFAULT=='N')\n",
    "n1 <- length(a)\n",
    "n2 <- length(b)\n",
    "z <- (mean(a) - mean(b)) / (sqrt(var(a)/n1 + var(b)/n2))\n",
    "pz <- 1-(pnorm(abs(z))-0.5)*2\n",
    "print(z)\n",
    "print(pz)"
   ]
  },
  {
   "cell_type": "code",
   "execution_count": 20,
   "metadata": {},
   "outputs": [
    {
     "name": "stdout",
     "output_type": "stream",
     "text": [
      "[1] -13.9461\n",
      "[1] 0\n"
     ]
    }
   ],
   "source": [
    "#Z-test for two variables - BUSAGE and DEFAULT\n",
    "train <- na.omit(train)\n",
    "a <- subset(train$BUSAGE,train$DEFAULT=='Y')\n",
    "b <- subset(train$BUSAGE,train$DEFAULT=='N')\n",
    "n1 <- length(a)\n",
    "n2 <- length(b)\n",
    "z <- (mean(a) - mean(b)) / (sqrt(var(a)/n1 + var(b)/n2))\n",
    "pz <- 1-(pnorm(abs(z))-0.5)*2\n",
    "print(z)\n",
    "print(pz)"
   ]
  },
  {
   "cell_type": "code",
   "execution_count": 21,
   "metadata": {},
   "outputs": [
    {
     "name": "stdout",
     "output_type": "stream",
     "text": [
      "[1] 24.82391\n",
      "[1] 0\n"
     ]
    }
   ],
   "source": [
    "#Z-test for two variables - MAXLINEUTIL and DEFAULT\n",
    "train <- na.omit(train)\n",
    "a <- subset(train$MAXLINEUTIL,train$DEFAULT=='Y')\n",
    "b <- subset(train$MAXLINEUTIL,train$DEFAULT=='N')\n",
    "n1 <- length(a)\n",
    "n2 <- length(b)\n",
    "z <- (mean(a) - mean(b)) / (sqrt(var(a)/n1 + var(b)/n2))\n",
    "pz <- 1-(pnorm(abs(z))-0.5)*2\n",
    "print(z)\n",
    "print(pz)"
   ]
  },
  {
   "cell_type": "code",
   "execution_count": 26,
   "metadata": {},
   "outputs": [
    {
     "data": {
      "text/plain": [
       "                 Df    Sum Sq Mean Sq F value Pr(>F)    \n",
       "train$BUSTYPE     5   2168155  433631    40.4 <2e-16 ***\n",
       "Residuals     19003 203977185   10734                   \n",
       "---\n",
       "Signif. codes:  0 '***' 0.001 '**' 0.01 '*' 0.05 '.' 0.1 ' ' 1"
      ]
     },
     "metadata": {},
     "output_type": "display_data"
    },
    {
     "data": {
      "text/plain": [
       "                 Df    Sum Sq   Mean Sq F value   Pr(>F)    \n",
       "train$BUSTYPE     5 4.196e+10 8.393e+09   16.39 3.59e-16 ***\n",
       "Residuals     19003 9.733e+12 5.122e+08                     \n",
       "---\n",
       "Signif. codes:  0 '***' 0.001 '**' 0.01 '*' 0.05 '.' 0.1 ' ' 1"
      ]
     },
     "metadata": {},
     "output_type": "display_data"
    },
    {
     "data": {
      "text/plain": [
       "                 Df Sum Sq Mean Sq F value   Pr(>F)    \n",
       "train$BUSTYPE     5      7  1.4220    7.64 3.49e-07 ***\n",
       "Residuals     19003   3537  0.1861                     \n",
       "---\n",
       "Signif. codes:  0 '***' 0.001 '**' 0.01 '*' 0.05 '.' 0.1 ' ' 1"
      ]
     },
     "metadata": {},
     "output_type": "display_data"
    },
    {
     "data": {
      "text/plain": [
       "                 Df Sum Sq Mean Sq F value Pr(>F)\n",
       "train$BUSTYPE     5     98   19.65   0.387  0.858\n",
       "Residuals     19003 966061   50.84               "
      ]
     },
     "metadata": {},
     "output_type": "display_data"
    }
   ],
   "source": [
    "#ANOVA - BUSAGE and BUSTYPE \n",
    "fit <- aov(train$BUSAGE ~ train$BUSTYPE)\n",
    "summary(fit)\n",
    "\n",
    "#ANOVA - BUSTYPE and TOTACBAL \n",
    "fit <- aov(train$TOTACBAL ~ train$BUSTYPE)\n",
    "summary(fit)\n",
    "\n",
    "#ANOVA - MAXLINEUTIL and BUSTYPE \n",
    "fit <- aov(train$MAXLINEUTIL ~ train$BUSTYPE)\n",
    "summary(fit)\n",
    "\n",
    "#ANOVA - DAYSDELQ and BUSTYPE \n",
    "fit <- aov(train$DAYSDELQ ~ train$BUSTYPE)\n",
    "summary(fit)"
   ]
  },
  {
   "cell_type": "code",
   "execution_count": null,
   "metadata": {},
   "outputs": [],
   "source": []
  }
 ],
 "metadata": {
  "kernelspec": {
   "display_name": "R",
   "language": "R",
   "name": "ir"
  },
  "language_info": {
   "codemirror_mode": "r",
   "file_extension": ".r",
   "mimetype": "text/x-r-source",
   "name": "R",
   "pygments_lexer": "r",
   "version": "4.0.3"
  }
 },
 "nbformat": 4,
 "nbformat_minor": 4
}
