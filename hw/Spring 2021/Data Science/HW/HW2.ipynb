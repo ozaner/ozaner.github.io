{
 "cells": [
  {
   "cell_type": "code",
   "execution_count": 9,
   "metadata": {},
   "outputs": [
    {
     "name": "stderr",
     "output_type": "stream",
     "text": [
      "\n",
      "Attaching package: 'dplyr'\n",
      "\n",
      "\n",
      "The following objects are masked from 'package:stats':\n",
      "\n",
      "    filter, lag\n",
      "\n",
      "\n",
      "The following objects are masked from 'package:base':\n",
      "\n",
      "    intersect, setdiff, setequal, union\n",
      "\n",
      "\n"
     ]
    }
   ],
   "source": [
    "library(dplyr)"
   ]
  },
  {
   "cell_type": "code",
   "execution_count": 2,
   "metadata": {},
   "outputs": [],
   "source": [
    "#------------------\n",
    "# Data Preparation\n",
    "#------------------"
   ]
  },
  {
   "cell_type": "code",
   "execution_count": 3,
   "metadata": {},
   "outputs": [],
   "source": [
    "#Read datasets\n",
    "#Download the data from http://www.saedsayad.com/datasets/CreditData.zip\n",
    "train <- read.csv(\"Credit_train.csv\")\n",
    "test <- read.csv(\"Credit_test.csv\")"
   ]
  },
  {
   "cell_type": "code",
   "execution_count": 4,
   "metadata": {},
   "outputs": [
    {
     "data": {
      "text/html": [
       "<style>\n",
       ".list-inline {list-style: none; margin:0; padding: 0}\n",
       ".list-inline>li {display: inline-block}\n",
       ".list-inline>li:not(:last-child)::after {content: \"\\00b7\"; padding: 0 .5ex}\n",
       "</style>\n",
       "<ol class=list-inline><li>28427</li><li>6</li></ol>\n"
      ],
      "text/latex": [
       "\\begin{enumerate*}\n",
       "\\item 28427\n",
       "\\item 6\n",
       "\\end{enumerate*}\n"
      ],
      "text/markdown": [
       "1. 28427\n",
       "2. 6\n",
       "\n",
       "\n"
      ],
      "text/plain": [
       "[1] 28427     6"
      ]
     },
     "metadata": {},
     "output_type": "display_data"
    },
    {
     "data": {
      "text/html": [
       "<style>\n",
       ".list-inline {list-style: none; margin:0; padding: 0}\n",
       ".list-inline>li {display: inline-block}\n",
       ".list-inline>li:not(:last-child)::after {content: \"\\00b7\"; padding: 0 .5ex}\n",
       "</style>\n",
       "<ol class=list-inline><li>7072</li><li>6</li></ol>\n"
      ],
      "text/latex": [
       "\\begin{enumerate*}\n",
       "\\item 7072\n",
       "\\item 6\n",
       "\\end{enumerate*}\n"
      ],
      "text/markdown": [
       "1. 7072\n",
       "2. 6\n",
       "\n",
       "\n"
      ],
      "text/plain": [
       "[1] 7072    6"
      ]
     },
     "metadata": {},
     "output_type": "display_data"
    }
   ],
   "source": [
    "#Rows and Cols\n",
    "dim(train)\n",
    "dim(test)"
   ]
  },
  {
   "cell_type": "code",
   "execution_count": 5,
   "metadata": {},
   "outputs": [
    {
     "data": {
      "text/html": [
       "<style>\n",
       ".list-inline {list-style: none; margin:0; padding: 0}\n",
       ".list-inline>li {display: inline-block}\n",
       ".list-inline>li:not(:last-child)::after {content: \"\\00b7\"; padding: 0 .5ex}\n",
       "</style>\n",
       "<ol class=list-inline><li>'BUSAGE'</li><li>'BUSTYPE'</li><li>'MAXLINEUTIL'</li><li>'DAYSDELQ'</li><li>'TOTACBAL'</li><li>'DEFAULT'</li></ol>\n"
      ],
      "text/latex": [
       "\\begin{enumerate*}\n",
       "\\item 'BUSAGE'\n",
       "\\item 'BUSTYPE'\n",
       "\\item 'MAXLINEUTIL'\n",
       "\\item 'DAYSDELQ'\n",
       "\\item 'TOTACBAL'\n",
       "\\item 'DEFAULT'\n",
       "\\end{enumerate*}\n"
      ],
      "text/markdown": [
       "1. 'BUSAGE'\n",
       "2. 'BUSTYPE'\n",
       "3. 'MAXLINEUTIL'\n",
       "4. 'DAYSDELQ'\n",
       "5. 'TOTACBAL'\n",
       "6. 'DEFAULT'\n",
       "\n",
       "\n"
      ],
      "text/plain": [
       "[1] \"BUSAGE\"      \"BUSTYPE\"     \"MAXLINEUTIL\" \"DAYSDELQ\"    \"TOTACBAL\"   \n",
       "[6] \"DEFAULT\"    "
      ]
     },
     "metadata": {},
     "output_type": "display_data"
    },
    {
     "data": {
      "text/html": [
       "<style>\n",
       ".list-inline {list-style: none; margin:0; padding: 0}\n",
       ".list-inline>li {display: inline-block}\n",
       ".list-inline>li:not(:last-child)::after {content: \"\\00b7\"; padding: 0 .5ex}\n",
       "</style>\n",
       "<ol class=list-inline><li>'BUSAGE'</li><li>'BUSTYPE'</li><li>'MAXLINEUTIL'</li><li>'DAYSDELQ'</li><li>'TOTACBAL'</li><li>'DEFAULT'</li></ol>\n"
      ],
      "text/latex": [
       "\\begin{enumerate*}\n",
       "\\item 'BUSAGE'\n",
       "\\item 'BUSTYPE'\n",
       "\\item 'MAXLINEUTIL'\n",
       "\\item 'DAYSDELQ'\n",
       "\\item 'TOTACBAL'\n",
       "\\item 'DEFAULT'\n",
       "\\end{enumerate*}\n"
      ],
      "text/markdown": [
       "1. 'BUSAGE'\n",
       "2. 'BUSTYPE'\n",
       "3. 'MAXLINEUTIL'\n",
       "4. 'DAYSDELQ'\n",
       "5. 'TOTACBAL'\n",
       "6. 'DEFAULT'\n",
       "\n",
       "\n"
      ],
      "text/plain": [
       "[1] \"BUSAGE\"      \"BUSTYPE\"     \"MAXLINEUTIL\" \"DAYSDELQ\"    \"TOTACBAL\"   \n",
       "[6] \"DEFAULT\"    "
      ]
     },
     "metadata": {},
     "output_type": "display_data"
    }
   ],
   "source": [
    "#Columns name\n",
    "colnames(train)\n",
    "colnames(test)"
   ]
  },
  {
   "cell_type": "code",
   "execution_count": 6,
   "metadata": {},
   "outputs": [
    {
     "data": {
      "text/html": [
       "<table class=\"dataframe\">\n",
       "<caption>A data.frame: 6 × 6</caption>\n",
       "<thead>\n",
       "\t<tr><th></th><th scope=col>BUSAGE</th><th scope=col>BUSTYPE</th><th scope=col>MAXLINEUTIL</th><th scope=col>DAYSDELQ</th><th scope=col>TOTACBAL</th><th scope=col>DEFAULT</th></tr>\n",
       "\t<tr><th></th><th scope=col>&lt;int&gt;</th><th scope=col>&lt;chr&gt;</th><th scope=col>&lt;dbl&gt;</th><th scope=col>&lt;int&gt;</th><th scope=col>&lt;dbl&gt;</th><th scope=col>&lt;chr&gt;</th></tr>\n",
       "</thead>\n",
       "<tbody>\n",
       "\t<tr><th scope=row>1</th><td>183</td><td>B</td><td>0</td><td>0</td><td>0.24</td><td>N</td></tr>\n",
       "\t<tr><th scope=row>2</th><td>271</td><td>E</td><td>0</td><td>0</td><td>1.37</td><td>N</td></tr>\n",
       "\t<tr><th scope=row>3</th><td> 51</td><td>A</td><td>0</td><td>0</td><td>1.52</td><td>N</td></tr>\n",
       "\t<tr><th scope=row>4</th><td>208</td><td>A</td><td>0</td><td>0</td><td>1.64</td><td>N</td></tr>\n",
       "\t<tr><th scope=row>5</th><td>148</td><td>A</td><td>0</td><td>0</td><td>1.78</td><td>N</td></tr>\n",
       "\t<tr><th scope=row>6</th><td> 82</td><td>D</td><td>0</td><td>0</td><td>1.88</td><td>N</td></tr>\n",
       "</tbody>\n",
       "</table>\n"
      ],
      "text/latex": [
       "A data.frame: 6 × 6\n",
       "\\begin{tabular}{r|llllll}\n",
       "  & BUSAGE & BUSTYPE & MAXLINEUTIL & DAYSDELQ & TOTACBAL & DEFAULT\\\\\n",
       "  & <int> & <chr> & <dbl> & <int> & <dbl> & <chr>\\\\\n",
       "\\hline\n",
       "\t1 & 183 & B & 0 & 0 & 0.24 & N\\\\\n",
       "\t2 & 271 & E & 0 & 0 & 1.37 & N\\\\\n",
       "\t3 &  51 & A & 0 & 0 & 1.52 & N\\\\\n",
       "\t4 & 208 & A & 0 & 0 & 1.64 & N\\\\\n",
       "\t5 & 148 & A & 0 & 0 & 1.78 & N\\\\\n",
       "\t6 &  82 & D & 0 & 0 & 1.88 & N\\\\\n",
       "\\end{tabular}\n"
      ],
      "text/markdown": [
       "\n",
       "A data.frame: 6 × 6\n",
       "\n",
       "| <!--/--> | BUSAGE &lt;int&gt; | BUSTYPE &lt;chr&gt; | MAXLINEUTIL &lt;dbl&gt; | DAYSDELQ &lt;int&gt; | TOTACBAL &lt;dbl&gt; | DEFAULT &lt;chr&gt; |\n",
       "|---|---|---|---|---|---|---|\n",
       "| 1 | 183 | B | 0 | 0 | 0.24 | N |\n",
       "| 2 | 271 | E | 0 | 0 | 1.37 | N |\n",
       "| 3 |  51 | A | 0 | 0 | 1.52 | N |\n",
       "| 4 | 208 | A | 0 | 0 | 1.64 | N |\n",
       "| 5 | 148 | A | 0 | 0 | 1.78 | N |\n",
       "| 6 |  82 | D | 0 | 0 | 1.88 | N |\n",
       "\n"
      ],
      "text/plain": [
       "  BUSAGE BUSTYPE MAXLINEUTIL DAYSDELQ TOTACBAL DEFAULT\n",
       "1 183    B       0           0        0.24     N      \n",
       "2 271    E       0           0        1.37     N      \n",
       "3  51    A       0           0        1.52     N      \n",
       "4 208    A       0           0        1.64     N      \n",
       "5 148    A       0           0        1.78     N      \n",
       "6  82    D       0           0        1.88     N      "
      ]
     },
     "metadata": {},
     "output_type": "display_data"
    },
    {
     "data": {
      "text/html": [
       "<table class=\"dataframe\">\n",
       "<caption>A data.frame: 6 × 6</caption>\n",
       "<thead>\n",
       "\t<tr><th></th><th scope=col>BUSAGE</th><th scope=col>BUSTYPE</th><th scope=col>MAXLINEUTIL</th><th scope=col>DAYSDELQ</th><th scope=col>TOTACBAL</th><th scope=col>DEFAULT</th></tr>\n",
       "\t<tr><th></th><th scope=col>&lt;int&gt;</th><th scope=col>&lt;chr&gt;</th><th scope=col>&lt;dbl&gt;</th><th scope=col>&lt;int&gt;</th><th scope=col>&lt;dbl&gt;</th><th scope=col>&lt;chr&gt;</th></tr>\n",
       "</thead>\n",
       "<tbody>\n",
       "\t<tr><th scope=row>1</th><td>354</td><td>A</td><td>3.0425</td><td>0</td><td>152125.6</td><td>N</td></tr>\n",
       "\t<tr><th scope=row>2</th><td> 99</td><td>A</td><td>0.0000</td><td>0</td><td>151060.9</td><td>N</td></tr>\n",
       "\t<tr><th scope=row>3</th><td>100</td><td>A</td><td>2.4507</td><td>0</td><td>122538.6</td><td>N</td></tr>\n",
       "\t<tr><th scope=row>4</th><td> 85</td><td>C</td><td>1.1397</td><td>0</td><td>113975.4</td><td>N</td></tr>\n",
       "\t<tr><th scope=row>5</th><td> 82</td><td>A</td><td>1.1241</td><td>0</td><td>112415.7</td><td>N</td></tr>\n",
       "\t<tr><th scope=row>6</th><td> 62</td><td>A</td><td>0.0000</td><td>0</td><td>106760.2</td><td>Y</td></tr>\n",
       "</tbody>\n",
       "</table>\n"
      ],
      "text/latex": [
       "A data.frame: 6 × 6\n",
       "\\begin{tabular}{r|llllll}\n",
       "  & BUSAGE & BUSTYPE & MAXLINEUTIL & DAYSDELQ & TOTACBAL & DEFAULT\\\\\n",
       "  & <int> & <chr> & <dbl> & <int> & <dbl> & <chr>\\\\\n",
       "\\hline\n",
       "\t1 & 354 & A & 3.0425 & 0 & 152125.6 & N\\\\\n",
       "\t2 &  99 & A & 0.0000 & 0 & 151060.9 & N\\\\\n",
       "\t3 & 100 & A & 2.4507 & 0 & 122538.6 & N\\\\\n",
       "\t4 &  85 & C & 1.1397 & 0 & 113975.4 & N\\\\\n",
       "\t5 &  82 & A & 1.1241 & 0 & 112415.7 & N\\\\\n",
       "\t6 &  62 & A & 0.0000 & 0 & 106760.2 & Y\\\\\n",
       "\\end{tabular}\n"
      ],
      "text/markdown": [
       "\n",
       "A data.frame: 6 × 6\n",
       "\n",
       "| <!--/--> | BUSAGE &lt;int&gt; | BUSTYPE &lt;chr&gt; | MAXLINEUTIL &lt;dbl&gt; | DAYSDELQ &lt;int&gt; | TOTACBAL &lt;dbl&gt; | DEFAULT &lt;chr&gt; |\n",
       "|---|---|---|---|---|---|---|\n",
       "| 1 | 354 | A | 3.0425 | 0 | 152125.6 | N |\n",
       "| 2 |  99 | A | 0.0000 | 0 | 151060.9 | N |\n",
       "| 3 | 100 | A | 2.4507 | 0 | 122538.6 | N |\n",
       "| 4 |  85 | C | 1.1397 | 0 | 113975.4 | N |\n",
       "| 5 |  82 | A | 1.1241 | 0 | 112415.7 | N |\n",
       "| 6 |  62 | A | 0.0000 | 0 | 106760.2 | Y |\n",
       "\n"
      ],
      "text/plain": [
       "  BUSAGE BUSTYPE MAXLINEUTIL DAYSDELQ TOTACBAL DEFAULT\n",
       "1 354    A       3.0425      0        152125.6 N      \n",
       "2  99    A       0.0000      0        151060.9 N      \n",
       "3 100    A       2.4507      0        122538.6 N      \n",
       "4  85    C       1.1397      0        113975.4 N      \n",
       "5  82    A       1.1241      0        112415.7 N      \n",
       "6  62    A       0.0000      0        106760.2 Y      "
      ]
     },
     "metadata": {},
     "output_type": "display_data"
    }
   ],
   "source": [
    "#Show  \n",
    "head(train)\n",
    "head(test)"
   ]
  },
  {
   "cell_type": "code",
   "execution_count": 7,
   "metadata": {},
   "outputs": [],
   "source": [
    "#------------------------------------------------------\n",
    "# Data Exploration - Univariate analysis - Categorical\n",
    "#------------------------------------------------------"
   ]
  },
  {
   "cell_type": "code",
   "execution_count": 12,
   "metadata": {},
   "outputs": [
    {
     "data": {
      "text/plain": [
       "     BUSAGE         BUSTYPE           MAXLINEUTIL        DAYSDELQ       \n",
       " Min.   :   1.0   Length:28427       Min.   : 0.000   Min.   :  0.0000  \n",
       " 1st Qu.:  41.0   Class :character   1st Qu.: 0.000   1st Qu.:  0.0000  \n",
       " Median :  75.0   Mode  :character   Median : 0.269   Median :  0.0000  \n",
       " Mean   : 111.3                      Mean   : 0.387   Mean   :  0.4472  \n",
       " 3rd Qu.: 149.0                      3rd Qu.: 0.774   3rd Qu.:  0.0000  \n",
       " Max.   :1393.0                      Max.   :14.095   Max.   :548.0000  \n",
       " NA's   :192                         NA's   :4143     NA's   :466       \n",
       "    TOTACBAL          DEFAULT         \n",
       " Min.   :     0.2   Length:28427      \n",
       " 1st Qu.:  5444.7   Class :character  \n",
       " Median : 16354.6   Mode  :character  \n",
       " Mean   : 23211.7                     \n",
       " 3rd Qu.: 34609.7                     \n",
       " Max.   :429915.7                     \n",
       " NA's   :9203                         "
      ]
     },
     "metadata": {},
     "output_type": "display_data"
    },
    {
     "data": {
      "text/plain": [
       "     BUSAGE         BUSTYPE           MAXLINEUTIL         DAYSDELQ       \n",
       " Min.   :   3.0   Length:7072        Min.   : 0.0000   Min.   :  0.0000  \n",
       " 1st Qu.:  42.0   Class :character   1st Qu.: 0.0000   1st Qu.:  0.0000  \n",
       " Median :  74.0   Mode  :character   Median : 0.2540   Median :  0.0000  \n",
       " Mean   : 109.1                      Mean   : 0.3888   Mean   :  0.3589  \n",
       " 3rd Qu.: 145.0                      3rd Qu.: 0.7611   3rd Qu.:  0.0000  \n",
       " Max.   :1381.0                      Max.   :26.5000   Max.   :364.0000  \n",
       " NA's   :47                          NA's   :1036      NA's   :125       \n",
       "    TOTACBAL           DEFAULT         \n",
       " Min.   :     0.02   Length:7072       \n",
       " 1st Qu.:  5119.59   Class :character  \n",
       " Median : 16270.55   Mode  :character  \n",
       " Mean   : 22673.69                     \n",
       " 3rd Qu.: 33523.48                     \n",
       " Max.   :152125.57                     \n",
       " NA's   :2302                          "
      ]
     },
     "metadata": {},
     "output_type": "display_data"
    },
    {
     "data": {
      "text/plain": [
       "\n",
       "    N     Y \n",
       "26423  2004 "
      ]
     },
     "metadata": {},
     "output_type": "display_data"
    },
    {
     "data": {
      "text/plain": [
       "\n",
       "   N    Y \n",
       "6583  489 "
      ]
     },
     "metadata": {},
     "output_type": "display_data"
    }
   ],
   "source": [
    "#Statistics\n",
    "summary(train)\n",
    "summary(test)\n",
    "table(train$DEFAULT)\n",
    "table(test$DEFAULT)"
   ]
  },
  {
   "cell_type": "code",
   "execution_count": 13,
   "metadata": {},
   "outputs": [
    {
     "data": {
      "image/png": "[encoded data removed]",
      "text/plain": [
       "Plot with title \"Credit Default\""
      ]
     },
     "metadata": {
      "image/png": {
       "height": 420,
       "width": 420
      }
     },
     "output_type": "display_data"
    },
    {
     "data": {
      "image/png": "[encoded data removed]",
      "text/plain": [
       "Plot with title \"Credit Default\""
      ]
     },
     "metadata": {
      "image/png": {
       "height": 420,
       "width": 420
      }
     },
     "output_type": "display_data"
    }
   ],
   "source": [
    "#Credit Default Plots\n",
    "barplot(table(train$DEFAULT), main=\"Credit Default\", sub=\"train\", xlab=\"DEFAULT\", col=\"darkgreen\")\n",
    "barplot(table(test$DEFAULT), main=\"Credit Default\", sub=\"test\", xlab=\"DEFAULT\", col=\"brown\")"
   ]
  },
  {
   "cell_type": "code",
   "execution_count": 14,
   "metadata": {},
   "outputs": [
    {
     "data": {
      "image/png": "[encoded data removed]",
      "text/plain": [
       "Plot with title \"Type of small business\""
      ]
     },
     "metadata": {
      "image/png": {
       "height": 420,
       "width": 420
      }
     },
     "output_type": "display_data"
    },
    {
     "data": {
      "image/png": "[encoded data removed]",
      "text/plain": [
       "Plot with title \"Type of small business\""
      ]
     },
     "metadata": {
      "image/png": {
       "height": 420,
       "width": 420
      }
     },
     "output_type": "display_data"
    }
   ],
   "source": [
    "#BUSTYPE Plots\n",
    "barplot(table(train$BUSTYPE), main=\"Type of small business\", sub=\"train\", xlab=\"BUSTYPE\", col=\"darkgreen\")\n",
    "barplot(table(test$BUSTYPE), main=\"Type of small business\", sub=\"test\", xlab=\"BUSTYPE\", col=\"brown\")"
   ]
  },
  {
   "cell_type": "code",
   "execution_count": 15,
   "metadata": {},
   "outputs": [
    {
     "data": {
      "image/png": "[encoded data removed]",
      "text/plain": [
       "Plot with title \"Maximum number of lines being utilized\""
      ]
     },
     "metadata": {
      "image/png": {
       "height": 420,
       "width": 420
      }
     },
     "output_type": "display_data"
    },
    {
     "data": {
      "image/png": "[encoded data removed]",
      "text/plain": [
       "Plot with title \"Maximum number of lines being utilized\""
      ]
     },
     "metadata": {
      "image/png": {
       "height": 420,
       "width": 420
      }
     },
     "output_type": "display_data"
    },
    {
     "data": {
      "image/png": "[encoded data removed]",
      "text/plain": [
       "Plot with title \"Maximum number of lines being utilized\""
      ]
     },
     "metadata": {
      "image/png": {
       "height": 420,
       "width": 420
      }
     },
     "output_type": "display_data"
    },
    {
     "data": {
      "image/png": "[encoded data removed]",
      "text/plain": [
       "Plot with title \"Maximum number of lines being utilized\""
      ]
     },
     "metadata": {
      "image/png": {
       "height": 420,
       "width": 420
      }
     },
     "output_type": "display_data"
    }
   ],
   "source": [
    "# MAXLINEUTIL Plots\n",
    "boxplot(train$MAXLINEUTIL, main=\"Maximum number of lines being utilized\", sub=\"train\"\n",
    "        , xlab=\"MAXLINEUTIL\", col=\"darkgreen\")\n",
    "boxplot(test$MAXLINEUTIL, main=\"Maximum number of lines being utilized\", sub=\"test\"\n",
    "        , xlab=\"MAXLINEUTIL\", col=\"brown\")\n",
    "\n",
    "hist(train$MAXLINEUTIL, main=\"Maximum number of lines being utilized\", sub=\"train\"\n",
    "     , xlab=\"MAXLINEUTIL\", breaks=50, col=\"darkgreen\")\n",
    "hist(test$MAXLINEUTIL, main=\"Maximum number of lines being utilized\", sub=\"test\"\n",
    "     , xlab=\"MAXLINEUTIL\", breaks=50, col=\"brown\")"
   ]
  },
  {
   "cell_type": "code",
   "execution_count": 19,
   "metadata": {},
   "outputs": [
    {
     "data": {
      "image/png": "[encoded data removed]",
      "text/plain": [
       "Plot with title \"Number of delinquent days\""
      ]
     },
     "metadata": {
      "image/png": {
       "height": 420,
       "width": 420
      }
     },
     "output_type": "display_data"
    },
    {
     "data": {
      "image/png": "[encoded data removed]",
      "text/plain": [
       "Plot with title \"Number of delinquent days\""
      ]
     },
     "metadata": {
      "image/png": {
       "height": 420,
       "width": 420
      }
     },
     "output_type": "display_data"
    },
    {
     "data": {
      "image/png": "[encoded data removed]",
      "text/plain": [
       "Plot with title \"Number of delinquent days\""
      ]
     },
     "metadata": {
      "image/png": {
       "height": 420,
       "width": 420
      }
     },
     "output_type": "display_data"
    },
    {
     "data": {
      "image/png": "[encoded data removed]",
      "text/plain": [
       "Plot with title \"Number of delinquent days\""
      ]
     },
     "metadata": {
      "image/png": {
       "height": 420,
       "width": 420
      }
     },
     "output_type": "display_data"
    }
   ],
   "source": [
    "# DAYSDELQ Plots\n",
    "boxplot(train$DAYSDELQ, main=\"Number of delinquent days\", sub=\"train\"\n",
    "        , xlab=\"DAYSDELQ\", col=\"darkgreen\")\n",
    "boxplot(test$MAXLINEUTIL, main=\"Number of delinquent days\", sub=\"test\"\n",
    "        , xlab=\"DAYSDELQ\", col=\"brown\")\n",
    "\n",
    "hist(train$DAYSDELQ, main=\"Number of delinquent days\", sub=\"train\"\n",
    "     , xlab=\"DAYSDELQ\", breaks=50, col=\"darkgreen\")\n",
    "hist(test$DAYSDELQ, main=\"Number of delinquent days\", sub=\"test\"\n",
    "     , xlab=\"DAYSDELQ\", breaks=50, col=\"brown\")"
   ]
  },
  {
   "cell_type": "code",
   "execution_count": null,
   "metadata": {},
   "outputs": [],
   "source": []
  }
 ],
 "metadata": {
  "kernelspec": {
   "display_name": "R",
   "language": "R",
   "name": "ir"
  },
  "language_info": {
   "codemirror_mode": "r",
   "file_extension": ".r",
   "mimetype": "text/x-r-source",
   "name": "R",
   "pygments_lexer": "r",
   "version": "4.0.3"
  }
 },
 "nbformat": 4,
 "nbformat_minor": 4
}
