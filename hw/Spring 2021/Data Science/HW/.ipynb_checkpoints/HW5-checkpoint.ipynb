{
 "cells": [
  {
   "cell_type": "code",
   "execution_count": 2,
   "metadata": {},
   "outputs": [
    {
     "name": "stderr",
     "output_type": "stream",
     "text": [
      "\n",
      "Attaching package: 'dplyr'\n",
      "\n",
      "\n",
      "The following object is masked from 'package:MASS':\n",
      "\n",
      "    select\n",
      "\n",
      "\n",
      "The following objects are masked from 'package:stats':\n",
      "\n",
      "    filter, lag\n",
      "\n",
      "\n",
      "The following objects are masked from 'package:base':\n",
      "\n",
      "    intersect, setdiff, setequal, union\n",
      "\n",
      "\n"
     ]
    }
   ],
   "source": [
    "library(dplyr)"
   ]
  },
  {
   "cell_type": "code",
   "execution_count": 3,
   "metadata": {},
   "outputs": [],
   "source": [
    "#Read datasets\n",
    "#Download the data from http://www.saedsayad.com/datasets/CreditData.zip\n",
    "train <- read.csv(\"Credit_train.csv\")\n",
    "test <- read.csv(\"Credit_test.csv\")"
   ]
  },
  {
   "cell_type": "code",
   "execution_count": 4,
   "metadata": {},
   "outputs": [
    {
     "data": {
      "text/html": [
       "<table class=\"dataframe\">\n",
       "<caption>A data.frame: 6 × 6</caption>\n",
       "<thead>\n",
       "\t<tr><th></th><th scope=col>BUSAGE</th><th scope=col>BUSTYPE</th><th scope=col>MAXLINEUTIL</th><th scope=col>DAYSDELQ</th><th scope=col>TOTACBAL</th><th scope=col>DEFAULT</th></tr>\n",
       "\t<tr><th></th><th scope=col>&lt;int&gt;</th><th scope=col>&lt;chr&gt;</th><th scope=col>&lt;dbl&gt;</th><th scope=col>&lt;int&gt;</th><th scope=col>&lt;dbl&gt;</th><th scope=col>&lt;chr&gt;</th></tr>\n",
       "</thead>\n",
       "<tbody>\n",
       "\t<tr><th scope=row>1</th><td>183</td><td>B</td><td>0</td><td>0</td><td>0.24</td><td>N</td></tr>\n",
       "\t<tr><th scope=row>2</th><td>271</td><td>E</td><td>0</td><td>0</td><td>1.37</td><td>N</td></tr>\n",
       "\t<tr><th scope=row>3</th><td> 51</td><td>A</td><td>0</td><td>0</td><td>1.52</td><td>N</td></tr>\n",
       "\t<tr><th scope=row>4</th><td>208</td><td>A</td><td>0</td><td>0</td><td>1.64</td><td>N</td></tr>\n",
       "\t<tr><th scope=row>5</th><td>148</td><td>A</td><td>0</td><td>0</td><td>1.78</td><td>N</td></tr>\n",
       "\t<tr><th scope=row>6</th><td> 82</td><td>D</td><td>0</td><td>0</td><td>1.88</td><td>N</td></tr>\n",
       "</tbody>\n",
       "</table>\n"
      ],
      "text/latex": [
       "A data.frame: 6 × 6\n",
       "\\begin{tabular}{r|llllll}\n",
       "  & BUSAGE & BUSTYPE & MAXLINEUTIL & DAYSDELQ & TOTACBAL & DEFAULT\\\\\n",
       "  & <int> & <chr> & <dbl> & <int> & <dbl> & <chr>\\\\\n",
       "\\hline\n",
       "\t1 & 183 & B & 0 & 0 & 0.24 & N\\\\\n",
       "\t2 & 271 & E & 0 & 0 & 1.37 & N\\\\\n",
       "\t3 &  51 & A & 0 & 0 & 1.52 & N\\\\\n",
       "\t4 & 208 & A & 0 & 0 & 1.64 & N\\\\\n",
       "\t5 & 148 & A & 0 & 0 & 1.78 & N\\\\\n",
       "\t6 &  82 & D & 0 & 0 & 1.88 & N\\\\\n",
       "\\end{tabular}\n"
      ],
      "text/markdown": [
       "\n",
       "A data.frame: 6 × 6\n",
       "\n",
       "| <!--/--> | BUSAGE &lt;int&gt; | BUSTYPE &lt;chr&gt; | MAXLINEUTIL &lt;dbl&gt; | DAYSDELQ &lt;int&gt; | TOTACBAL &lt;dbl&gt; | DEFAULT &lt;chr&gt; |\n",
       "|---|---|---|---|---|---|---|\n",
       "| 1 | 183 | B | 0 | 0 | 0.24 | N |\n",
       "| 2 | 271 | E | 0 | 0 | 1.37 | N |\n",
       "| 3 |  51 | A | 0 | 0 | 1.52 | N |\n",
       "| 4 | 208 | A | 0 | 0 | 1.64 | N |\n",
       "| 5 | 148 | A | 0 | 0 | 1.78 | N |\n",
       "| 6 |  82 | D | 0 | 0 | 1.88 | N |\n",
       "\n"
      ],
      "text/plain": [
       "  BUSAGE BUSTYPE MAXLINEUTIL DAYSDELQ TOTACBAL DEFAULT\n",
       "1 183    B       0           0        0.24     N      \n",
       "2 271    E       0           0        1.37     N      \n",
       "3  51    A       0           0        1.52     N      \n",
       "4 208    A       0           0        1.64     N      \n",
       "5 148    A       0           0        1.78     N      \n",
       "6  82    D       0           0        1.88     N      "
      ]
     },
     "metadata": {},
     "output_type": "display_data"
    },
    {
     "data": {
      "text/html": [
       "<table class=\"dataframe\">\n",
       "<caption>A data.frame: 6 × 6</caption>\n",
       "<thead>\n",
       "\t<tr><th></th><th scope=col>BUSAGE</th><th scope=col>BUSTYPE</th><th scope=col>MAXLINEUTIL</th><th scope=col>DAYSDELQ</th><th scope=col>TOTACBAL</th><th scope=col>DEFAULT</th></tr>\n",
       "\t<tr><th></th><th scope=col>&lt;int&gt;</th><th scope=col>&lt;chr&gt;</th><th scope=col>&lt;dbl&gt;</th><th scope=col>&lt;int&gt;</th><th scope=col>&lt;dbl&gt;</th><th scope=col>&lt;chr&gt;</th></tr>\n",
       "</thead>\n",
       "<tbody>\n",
       "\t<tr><th scope=row>1</th><td>354</td><td>A</td><td>3.0425</td><td>0</td><td>152125.6</td><td>N</td></tr>\n",
       "\t<tr><th scope=row>2</th><td> 99</td><td>A</td><td>0.0000</td><td>0</td><td>151060.9</td><td>N</td></tr>\n",
       "\t<tr><th scope=row>3</th><td>100</td><td>A</td><td>2.4507</td><td>0</td><td>122538.6</td><td>N</td></tr>\n",
       "\t<tr><th scope=row>4</th><td> 85</td><td>C</td><td>1.1397</td><td>0</td><td>113975.4</td><td>N</td></tr>\n",
       "\t<tr><th scope=row>5</th><td> 82</td><td>A</td><td>1.1241</td><td>0</td><td>112415.7</td><td>N</td></tr>\n",
       "\t<tr><th scope=row>6</th><td> 62</td><td>A</td><td>0.0000</td><td>0</td><td>106760.2</td><td>Y</td></tr>\n",
       "</tbody>\n",
       "</table>\n"
      ],
      "text/latex": [
       "A data.frame: 6 × 6\n",
       "\\begin{tabular}{r|llllll}\n",
       "  & BUSAGE & BUSTYPE & MAXLINEUTIL & DAYSDELQ & TOTACBAL & DEFAULT\\\\\n",
       "  & <int> & <chr> & <dbl> & <int> & <dbl> & <chr>\\\\\n",
       "\\hline\n",
       "\t1 & 354 & A & 3.0425 & 0 & 152125.6 & N\\\\\n",
       "\t2 &  99 & A & 0.0000 & 0 & 151060.9 & N\\\\\n",
       "\t3 & 100 & A & 2.4507 & 0 & 122538.6 & N\\\\\n",
       "\t4 &  85 & C & 1.1397 & 0 & 113975.4 & N\\\\\n",
       "\t5 &  82 & A & 1.1241 & 0 & 112415.7 & N\\\\\n",
       "\t6 &  62 & A & 0.0000 & 0 & 106760.2 & Y\\\\\n",
       "\\end{tabular}\n"
      ],
      "text/markdown": [
       "\n",
       "A data.frame: 6 × 6\n",
       "\n",
       "| <!--/--> | BUSAGE &lt;int&gt; | BUSTYPE &lt;chr&gt; | MAXLINEUTIL &lt;dbl&gt; | DAYSDELQ &lt;int&gt; | TOTACBAL &lt;dbl&gt; | DEFAULT &lt;chr&gt; |\n",
       "|---|---|---|---|---|---|---|\n",
       "| 1 | 354 | A | 3.0425 | 0 | 152125.6 | N |\n",
       "| 2 |  99 | A | 0.0000 | 0 | 151060.9 | N |\n",
       "| 3 | 100 | A | 2.4507 | 0 | 122538.6 | N |\n",
       "| 4 |  85 | C | 1.1397 | 0 | 113975.4 | N |\n",
       "| 5 |  82 | A | 1.1241 | 0 | 112415.7 | N |\n",
       "| 6 |  62 | A | 0.0000 | 0 | 106760.2 | Y |\n",
       "\n"
      ],
      "text/plain": [
       "  BUSAGE BUSTYPE MAXLINEUTIL DAYSDELQ TOTACBAL DEFAULT\n",
       "1 354    A       3.0425      0        152125.6 N      \n",
       "2  99    A       0.0000      0        151060.9 N      \n",
       "3 100    A       2.4507      0        122538.6 N      \n",
       "4  85    C       1.1397      0        113975.4 N      \n",
       "5  82    A       1.1241      0        112415.7 N      \n",
       "6  62    A       0.0000      0        106760.2 Y      "
      ]
     },
     "metadata": {},
     "output_type": "display_data"
    }
   ],
   "source": [
    "#Show  \n",
    "head(train)\n",
    "head(test)"
   ]
  },
  {
   "cell_type": "code",
   "execution_count": 5,
   "metadata": {},
   "outputs": [
    {
     "data": {
      "text/plain": [
       "Call:\n",
       "lda(DEFAULT ~ ., data = train)\n",
       "\n",
       "Prior probabilities of groups:\n",
       "        N         Y \n",
       "0.9139355 0.0860645 \n",
       "\n",
       "Group means:\n",
       "     BUSAGE  BUSTYPEB   BUSTYPEC   BUSTYPED     BUSTYPEE    BUSTYPEF\n",
       "N 116.88465 0.2442296 0.06228055 0.08282968 0.0009785299 0.002820469\n",
       "Y  85.82885 0.2652812 0.04706601 0.07579462 0.0006112469 0.003667482\n",
       "  MAXLINEUTIL   DAYSDELQ TOTACBAL\n",
       "N   0.4498486 0.08311748 22791.31\n",
       "Y   0.7775695 3.76711491 27707.46\n",
       "\n",
       "Coefficients of linear discriminants:\n",
       "                      LD1\n",
       "BUSAGE      -2.522905e-03\n",
       "BUSTYPEB    -2.382606e-02\n",
       "BUSTYPEC    -1.910992e-01\n",
       "BUSTYPED    -1.071924e-01\n",
       "BUSTYPEE    -2.338590e-01\n",
       "BUSTYPEF     3.398732e-01\n",
       "MAXLINEUTIL  2.059445e+00\n",
       "DAYSDELQ     6.988151e-02\n",
       "TOTACBAL    -8.153696e-06"
      ]
     },
     "metadata": {},
     "output_type": "display_data"
    },
    {
     "data": {
      "text/html": [
       "<table class=\"dataframe\">\n",
       "<caption>A matrix: 9 × 1 of type dbl</caption>\n",
       "<thead>\n",
       "\t<tr><th></th><th scope=col>LD1</th></tr>\n",
       "</thead>\n",
       "<tbody>\n",
       "\t<tr><th scope=row>BUSAGE</th><td>-2.522905e-03</td></tr>\n",
       "\t<tr><th scope=row>BUSTYPEB</th><td>-2.382606e-02</td></tr>\n",
       "\t<tr><th scope=row>BUSTYPEC</th><td>-1.910992e-01</td></tr>\n",
       "\t<tr><th scope=row>BUSTYPED</th><td>-1.071924e-01</td></tr>\n",
       "\t<tr><th scope=row>BUSTYPEE</th><td>-2.338590e-01</td></tr>\n",
       "\t<tr><th scope=row>BUSTYPEF</th><td> 3.398732e-01</td></tr>\n",
       "\t<tr><th scope=row>MAXLINEUTIL</th><td> 2.059445e+00</td></tr>\n",
       "\t<tr><th scope=row>DAYSDELQ</th><td> 6.988151e-02</td></tr>\n",
       "\t<tr><th scope=row>TOTACBAL</th><td>-8.153696e-06</td></tr>\n",
       "</tbody>\n",
       "</table>\n"
      ],
      "text/latex": [
       "A matrix: 9 × 1 of type dbl\n",
       "\\begin{tabular}{r|l}\n",
       "  & LD1\\\\\n",
       "\\hline\n",
       "\tBUSAGE & -2.522905e-03\\\\\n",
       "\tBUSTYPEB & -2.382606e-02\\\\\n",
       "\tBUSTYPEC & -1.910992e-01\\\\\n",
       "\tBUSTYPED & -1.071924e-01\\\\\n",
       "\tBUSTYPEE & -2.338590e-01\\\\\n",
       "\tBUSTYPEF &  3.398732e-01\\\\\n",
       "\tMAXLINEUTIL &  2.059445e+00\\\\\n",
       "\tDAYSDELQ &  6.988151e-02\\\\\n",
       "\tTOTACBAL & -8.153696e-06\\\\\n",
       "\\end{tabular}\n"
      ],
      "text/markdown": [
       "\n",
       "A matrix: 9 × 1 of type dbl\n",
       "\n",
       "| <!--/--> | LD1 |\n",
       "|---|---|\n",
       "| BUSAGE | -2.522905e-03 |\n",
       "| BUSTYPEB | -2.382606e-02 |\n",
       "| BUSTYPEC | -1.910992e-01 |\n",
       "| BUSTYPED | -1.071924e-01 |\n",
       "| BUSTYPEE | -2.338590e-01 |\n",
       "| BUSTYPEF |  3.398732e-01 |\n",
       "| MAXLINEUTIL |  2.059445e+00 |\n",
       "| DAYSDELQ |  6.988151e-02 |\n",
       "| TOTACBAL | -8.153696e-06 |\n",
       "\n"
      ],
      "text/plain": [
       "            LD1          \n",
       "BUSAGE      -2.522905e-03\n",
       "BUSTYPEB    -2.382606e-02\n",
       "BUSTYPEC    -1.910992e-01\n",
       "BUSTYPED    -1.071924e-01\n",
       "BUSTYPEE    -2.338590e-01\n",
       "BUSTYPEF     3.398732e-01\n",
       "MAXLINEUTIL  2.059445e+00\n",
       "DAYSDELQ     6.988151e-02\n",
       "TOTACBAL    -8.153696e-06"
      ]
     },
     "metadata": {},
     "output_type": "display_data"
    },
    {
     "data": {
      "text/html": [
       "<style>\n",
       ".dl-inline {width: auto; margin:0; padding: 0}\n",
       ".dl-inline>dt, .dl-inline>dd {float: none; width: auto; display: inline-block}\n",
       ".dl-inline>dt::after {content: \":\\0020\"; padding-right: .5ex}\n",
       ".dl-inline>dt:not(:first-of-type) {padding-left: .5ex}\n",
       "</style><dl class=dl-inline><dt>N</dt><dd>4680</dd><dt>Y</dt><dd>26</dd></dl>\n"
      ],
      "text/latex": [
       "\\begin{description*}\n",
       "\\item[N] 4680\n",
       "\\item[Y] 26\n",
       "\\end{description*}\n"
      ],
      "text/markdown": [
       "N\n",
       ":   4680Y\n",
       ":   26\n",
       "\n"
      ],
      "text/plain": [
       "   N    Y \n",
       "4680   26 "
      ]
     },
     "metadata": {},
     "output_type": "display_data"
    },
    {
     "data": {
      "text/plain": [
       "Confusion Matrix and Statistics\n",
       "\n",
       "   \n",
       "       N    Y\n",
       "  N 4289  391\n",
       "  Y    8   18\n",
       "                                         \n",
       "               Accuracy : 0.9152         \n",
       "                 95% CI : (0.9069, 0.923)\n",
       "    No Information Rate : 0.9131         \n",
       "    P-Value [Acc > NIR] : 0.3134         \n",
       "                                         \n",
       "                  Kappa : 0.0731         \n",
       "                                         \n",
       " Mcnemar's Test P-Value : <2e-16         \n",
       "                                         \n",
       "            Sensitivity : 0.044010       \n",
       "            Specificity : 0.998138       \n",
       "         Pos Pred Value : 0.692308       \n",
       "         Neg Pred Value : 0.916453       \n",
       "             Prevalence : 0.086910       \n",
       "         Detection Rate : 0.003825       \n",
       "   Detection Prevalence : 0.005525       \n",
       "      Balanced Accuracy : 0.521074       \n",
       "                                         \n",
       "       'Positive' Class : Y              \n",
       "                                         "
      ]
     },
     "metadata": {},
     "output_type": "display_data"
    },
    {
     "ename": "ERROR",
     "evalue": "Error in lift.formula(target ~ score, data = pred.LDA, cuts = 10, class = \"Y\"): the left-hand side of the formula must be a factor of classes\n",
     "output_type": "error",
     "traceback": [
      "Error in lift.formula(target ~ score, data = pred.LDA, cuts = 10, class = \"Y\"): the left-hand side of the formula must be a factor of classes\nTraceback:\n",
      "1. lift(target ~ score, data = pred.LDA, cuts = 10, class = \"Y\")",
      "2. lift.formula(target ~ score, data = pred.LDA, cuts = 10, class = \"Y\")",
      "3. stop(\"the left-hand side of the formula must be a factor of classes\")"
     ]
    }
   ],
   "source": [
    "#-----\n",
    "# LDA\n",
    "#-----\n",
    "library(caret)\n",
    "library(AUC)\n",
    "library(MASS)\n",
    "\n",
    "#remove all records with missing values\n",
    "train <- na.omit(train)\n",
    "test <- na.omit(test)\n",
    "\n",
    "#train\n",
    "model.LDA <- lda(DEFAULT~., data=train)\n",
    "model.LDA\n",
    "\n",
    "#variables importance\n",
    "model.LDA$scaling\n",
    "\n",
    "#test\n",
    "pc <- predict(model.LDA, test)\n",
    "summary(pc$class)\n",
    "xtab <- table(pc$class, test$DEFAULT)\n",
    "caret::confusionMatrix(xtab, positive = \"Y\")\n",
    "\n",
    "#lift chart\n",
    "pb <- NULL\n",
    "pb <- pc$posterior\n",
    "pb <- as.data.frame(pb)\n",
    "pred.LDA <- data.frame(test$DEFAULT, pb$Y)\n",
    "colnames(pred.LDA) <- c(\"target\",\"score\")\n",
    "lift.LDA <- lift(target ~ score, data = pred.LDA, cuts=10, class=\"Y\")\n",
    "xyplot(lift.LDA, main=\"LDA - Lift Chart\", type=c(\"l\",\"g\"), lwd=2\n",
    "       , scales=list(x=list(alternating=FALSE,tick.number = 10)\n",
    "                     ,y=list(alternating=FALSE,tick.number = 10)))\n",
    "\n",
    "#roc chart\n",
    "labels <- as.factor(ifelse(pred.LDA$target==\"Y\", 1, 0))\n",
    "predictions <- pred.LDA$score\n",
    "auc(roc(predictions, labels), min = 0, max = 1)\n",
    "plot(roc(predictions, labels), min=0, max=1, type=\"l\", main=\"LDA - ROC Chart\")"
   ]
  },
  {
   "cell_type": "code",
   "execution_count": null,
   "metadata": {},
   "outputs": [],
   "source": [
    "#---------------------\n",
    "# K Nearest Neighbors\n",
    "#---------------------\n",
    "library(kknn)\n",
    "\n",
    "#remove all records with missing values\n",
    "train <- na.omit(train)\n",
    "test <- na.omit(test)\n",
    "\n",
    "#train\n",
    "model.KNN <- kknn(DEFAULT~., train, test, k=5, distance = 2, scale=FALSE)\n",
    "summary(model.KNN)\n",
    "\n",
    "#confusion matrix\n",
    "pc <- NULL\n",
    "pc <- predict(model.KNN, test, type=\"raw\")\n",
    "xtab <- table(pc, test$DEFAULT)\n",
    "caret::confusionMatrix(xtab, positive=\"Y\")\n",
    "\n",
    "#lift chart\n",
    "pb <- NULL\n",
    "pb <- predict(model.KNN, test, type=\"prob\")\n",
    "pb <- as.data.frame(pb)\n",
    "pred.KNN <- data.frame(test$DEFAULT, pb$Y)\n",
    "colnames(pred.KNN) <- c(\"target\",\"score\")\n",
    "lift.KNN <- lift(target ~ score, data = pred.KNN, cuts=10, class=\"Y\")\n",
    "xyplot(lift.KNN, main=\"KNN - Lift Chart\", type=c(\"l\",\"g\"), lwd=2\n",
    "       , scales=list(x=list(alternating=FALSE,tick.number = 10)\n",
    "                     ,y=list(alternating=FALSE,tick.number = 10)))\n",
    "\n",
    "#roc chart\n",
    "labels <- as.factor(ifelse(pred.KNN$target==\"Y\", 1, 0))\n",
    "predictions <- pred.KNN$score\n",
    "auc(roc(predictions, labels), min = 0, max = 1)\n",
    "plot(roc(predictions, labels), min=0, max=1, type=\"l\", main=\"KNN - ROC Chart\")"
   ]
  },
  {
   "cell_type": "code",
   "execution_count": null,
   "metadata": {},
   "outputs": [],
   "source": [
    "#------------------------------------------\n",
    "# Support Vector Machines - Classification\n",
    "#------------------------------------------\n",
    "library(caret)\n",
    "library(e1071)\n",
    "library(AUC)\n",
    "\n",
    "#remove all records with missing values\n",
    "train <- na.omit(train)\n",
    "test <- na.omit(test)\n",
    "\n",
    "#train\n",
    "model.SVM <- svm(DEFAULT~., train, kernel ='linear')\n",
    "summary(model.SVM)\n",
    "\n",
    "#confusion matrix\n",
    "pc <- NULL\n",
    "pc <- predict(model.SVM, test, type = \"class\")\n",
    "xtab <- table(pc, test$DEFAULT)\n",
    "caret::confusionMatrix(xtab, positive=\"Y\")\n",
    "\n",
    "#lift chart\n",
    "pb <- NULL\n",
    "pb <- predict(model.SVM, test, type=\"raw\")\n",
    "pb <- as.data.frame(pb)\n",
    "pred.SVM <- data.frame(test$DEFAULT, pb)\n",
    "colnames(pred.SVM) <- c(\"target\",\"score\")\n",
    "lift.SVM <- lift(target ~ score, data = pred.SVM, cuts=10, class=\"Y\")\n",
    "xyplot(lift.SVM, main=\"SVM - Lift Chart\", type=c(\"l\",\"g\"), lwd=2\n",
    "       ,scales=list(x=list(alternating=FALSE,tick.number = 10)\n",
    "                     ,y=list(alternating=FALSE,tick.number = 10)))\n",
    "\n",
    "\n",
    "#roc chart\n",
    "labels <- as.factor(ifelse(pred.SVM$target==\"Y\", 1, 0))\n",
    "predictions <- pred.SVM$score\n",
    "auc(roc(predictions, labels), min = 0, max = 1)\n",
    "plot(roc(predictions, labels), min=0, max=1, type=\"l\", main=\"SVM - ROC Chart\")"
   ]
  },
  {
   "cell_type": "code",
   "execution_count": 6,
   "metadata": {},
   "outputs": [
    {
     "data": {
      "text/plain": [
       "\n",
       "    0     1 \n",
       "17373  1636 "
      ]
     },
     "metadata": {},
     "output_type": "display_data"
    },
    {
     "data": {
      "text/plain": [
       "\n",
       "   0    1 \n",
       "4297  409 "
      ]
     },
     "metadata": {},
     "output_type": "display_data"
    },
    {
     "name": "stderr",
     "output_type": "stream",
     "text": [
      "Warning message:\n",
      "\"glm.fit: fitted probabilities numerically 0 or 1 occurred\"\n"
     ]
    },
    {
     "data": {
      "text/plain": [
       "\n",
       "Call:\n",
       "glm(formula = DEFAULT ~ BUSAGE + MAXLINEUTIL + DAYSDELQ + TOTACBAL, \n",
       "    family = binomial(logit), data = train)\n",
       "\n",
       "Deviance Residuals: \n",
       "    Min       1Q   Median       3Q      Max  \n",
       "-7.1202  -0.4706  -0.3231  -0.2478   3.2583  \n",
       "\n",
       "Coefficients:\n",
       "              Estimate Std. Error z value Pr(>|z|)    \n",
       "(Intercept) -3.134e+00  6.730e-02 -46.558  < 2e-16 ***\n",
       "BUSAGE      -3.424e-03  3.580e-04  -9.562  < 2e-16 ***\n",
       "MAXLINEUTIL  2.043e+00  8.531e-02  23.954  < 2e-16 ***\n",
       "DAYSDELQ     7.411e-02  6.574e-03  11.273  < 2e-16 ***\n",
       "TOTACBAL    -5.501e-06  1.353e-06  -4.065  4.8e-05 ***\n",
       "---\n",
       "Signif. codes:  0 '***' 0.001 '**' 0.01 '*' 0.05 '.' 0.1 ' ' 1\n",
       "\n",
       "(Dispersion parameter for binomial family taken to be 1)\n",
       "\n",
       "    Null deviance: 11152.1  on 19008  degrees of freedom\n",
       "Residual deviance:  9918.6  on 19004  degrees of freedom\n",
       "AIC: 9928.6\n",
       "\n",
       "Number of Fisher Scoring iterations: 6\n"
      ]
     },
     "metadata": {},
     "output_type": "display_data"
    },
    {
     "data": {
      "text/plain": [
       "      pb           \n",
       " Length:4706       \n",
       " Class :character  \n",
       " Mode  :character  "
      ]
     },
     "metadata": {},
     "output_type": "display_data"
    },
    {
     "data": {
      "text/plain": [
       "Confusion Matrix and Statistics\n",
       "\n",
       "   \n",
       "pc     0    1\n",
       "  0 4290  391\n",
       "  1    7   18\n",
       "                                          \n",
       "               Accuracy : 0.9154          \n",
       "                 95% CI : (0.9071, 0.9232)\n",
       "    No Information Rate : 0.9131          \n",
       "    P-Value [Acc > NIR] : 0.2952          \n",
       "                                          \n",
       "                  Kappa : 0.0737          \n",
       "                                          \n",
       " Mcnemar's Test P-Value : <2e-16          \n",
       "                                          \n",
       "            Sensitivity : 0.044010        \n",
       "            Specificity : 0.998371        \n",
       "         Pos Pred Value : 0.720000        \n",
       "         Neg Pred Value : 0.916471        \n",
       "             Prevalence : 0.086910        \n",
       "         Detection Rate : 0.003825        \n",
       "   Detection Prevalence : 0.005312        \n",
       "      Balanced Accuracy : 0.521190        \n",
       "                                          \n",
       "       'Positive' Class : 1               \n",
       "                                          "
      ]
     },
     "metadata": {},
     "output_type": "display_data"
    },
    {
     "data": {
      "text/html": [
       "0.737336505311882"
      ],
      "text/latex": [
       "0.737336505311882"
      ],
      "text/markdown": [
       "0.737336505311882"
      ],
      "text/plain": [
       "[1] 0.7373365"
      ]
     },
     "metadata": {},
     "output_type": "display_data"
    },
    {
     "data": {
      "image/png": "[encoded data removed]",
      "text/plain": [
       "plot without title"
      ]
     },
     "metadata": {
      "image/png": {
       "height": 420,
       "width": 420
      }
     },
     "output_type": "display_data"
    },
    {
     "data": {
      "image/png": "[encoded data removed]",
      "text/plain": [
       "Plot with title \"Logistic Regression - ROC Chart\""
      ]
     },
     "metadata": {
      "image/png": {
       "height": 420,
       "width": 420
      }
     },
     "output_type": "display_data"
    }
   ],
   "source": [
    "#--------------------\n",
    "# Logistc regression\n",
    "#--------------------\n",
    "library(caret)\n",
    "library(MASS)\t\n",
    "library(AUC)\n",
    "\n",
    "#remove all records with missing values\n",
    "train <- na.omit(train)\n",
    "test <- na.omit(test)\n",
    "\n",
    "#Binary target\n",
    "train$DEFAULT <- as.factor(ifelse(train$DEFAULT==\"Y\", 1, 0))\n",
    "test$DEFAULT <- as.factor(ifelse(test$DEFAULT==\"Y\", 1, 0))\n",
    "\n",
    "table(train$DEFAULT)\n",
    "table(test$DEFAULT)\n",
    "\n",
    "\n",
    "#train\n",
    "model.LogReg <- glm(DEFAULT~BUSAGE+MAXLINEUTIL+DAYSDELQ+TOTACBAL,family=binomial(logit), data=train)\n",
    "summary(model.LogReg)\n",
    "\n",
    "\n",
    "#lift chart\n",
    "pb <- NULL\n",
    "pb <- predict(model.LogReg, test)\n",
    "pb <- as.data.frame(pb)\n",
    "pred.LogReg <- data.frame(test$DEFAULT, 1/(1+(exp(1)^-pb)))\n",
    "colnames(pred.LogReg) <- c(\"target\",\"score\")\n",
    "lift.LogReg <- lift(target ~ score, data = pred.LogReg, cuts=10, class=\"1\")\n",
    "xyplot(lift.LogReg, main=\"Logistic Regression - Lift Chart\", type=c(\"l\",\"g\"), lwd=2\n",
    "       , scales=list(x=list(alternating=FALSE,tick.number = 10)\n",
    "                     ,y=list(alternating=FALSE,tick.number = 10)))\n",
    "\n",
    "#confusion matrix\n",
    "pc <- NULL\n",
    "pc <- ifelse(pb > 0.5,\"1\",\"0\")\n",
    "summary(pc)\n",
    "xtab <- table(pc, test$DEFAULT)\n",
    "caret::confusionMatrix(xtab, positive = \"1\")\n",
    "\n",
    "#roc chart\n",
    "labels <- pred.LogReg$target\n",
    "predictions <- pred.LogReg$score\n",
    "auc(roc(predictions, labels), min = 0, max = 1)\n",
    "plot(roc(predictions, labels), min=0, max=1, type=\"l\", main=\"Logistic Regression - ROC Chart\")"
   ]
  },
  {
   "cell_type": "code",
   "execution_count": null,
   "metadata": {},
   "outputs": [],
   "source": []
  }
 ],
 "metadata": {
  "kernelspec": {
   "display_name": "R",
   "language": "R",
   "name": "ir"
  },
  "language_info": {
   "codemirror_mode": "r",
   "file_extension": ".r",
   "mimetype": "text/x-r-source",
   "name": "R",
   "pygments_lexer": "r",
   "version": "4.0.3"
  }
 },
 "nbformat": 4,
 "nbformat_minor": 4
}
